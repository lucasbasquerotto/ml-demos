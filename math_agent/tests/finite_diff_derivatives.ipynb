{
 "cells": [
  {
   "cell_type": "markdown",
   "metadata": {},
   "source": [
    "# Finite Difference Approximations to Derivatives"
   ]
  },
  {
   "cell_type": "markdown",
   "metadata": {},
   "source": [
    "## A Direct Method Using SymPy Matrices"
   ]
  },
  {
   "cell_type": "code",
   "execution_count": 192,
   "metadata": {},
   "outputs": [],
   "source": [
    "from __future__ import print_function\n",
    "from sympy import *\n",
    "x, x0, h = symbols('x, x_0, h')\n",
    "Fi, Fip1, Fip2 = symbols('F_{i}, F_{i+1}, F_{i+2}')\n",
    "n = 3 # there are the coefficients c_0=Fi, c_1=dF/dx, c_2=d**2F/dx**2\n",
    "c = symbols('c:3')\n",
    "def P(x, x0, c, n):\n",
    "    return sum( ((1/factorial(i))*c[i] * (x-x0)**i for i in range(n)) )"
   ]
  },
  {
   "cell_type": "code",
   "execution_count": 193,
   "metadata": {},
   "outputs": [],
   "source": [
    "R = Matrix([[Fi], [Fip1], [Fip2]])"
   ]
  },
  {
   "cell_type": "code",
   "execution_count": 194,
   "metadata": {},
   "outputs": [],
   "source": [
    "m11 = P(x0 , x0, c, n).diff(c[0])\n",
    "m12 = P(x0 , x0, c, n).diff(c[1])\n",
    "m13 = P(x0 , x0, c, n).diff(c[2])"
   ]
  },
  {
   "cell_type": "code",
   "execution_count": 195,
   "metadata": {},
   "outputs": [],
   "source": [
    "m21 = P(x0+h, x0, c, n).diff(c[0])\n",
    "m22 = P(x0+h, x0, c, n).diff(c[1])\n",
    "m23 = P(x0+h, x0, c, n).diff(c[2])"
   ]
  },
  {
   "cell_type": "code",
   "execution_count": 196,
   "metadata": {},
   "outputs": [],
   "source": [
    "m31 = P(x0+2*h, x0, c, n).diff(c[0])\n",
    "m32 = P(x0+2*h, x0, c, n).diff(c[1])\n",
    "m33 = P(x0+2*h, x0, c, n).diff(c[2])"
   ]
  },
  {
   "cell_type": "code",
   "execution_count": 197,
   "metadata": {},
   "outputs": [],
   "source": [
    "M = Matrix([[m11, m12, m13], [m21, m22, m23], [m31, m32, m33]])"
   ]
  },
  {
   "cell_type": "code",
   "execution_count": 198,
   "metadata": {},
   "outputs": [],
   "source": [
    "X =  M.inv() * R"
   ]
  },
  {
   "cell_type": "code",
   "execution_count": 199,
   "metadata": {},
   "outputs": [
    {
     "data": {
      "text/latex": [
       "$\\displaystyle \\frac{4 F_{i+1} - F_{i+2} - 3 F_{i}}{2 h}$"
      ],
      "text/plain": [
       "(4*F_{i+1} - F_{i+2} - 3*F_{i})/(2*h)"
      ]
     },
     "execution_count": 199,
     "metadata": {},
     "output_type": "execute_result"
    }
   ],
   "source": [
    "together(X[1])"
   ]
  },
  {
   "cell_type": "code",
   "execution_count": 200,
   "metadata": {},
   "outputs": [
    {
     "data": {
      "text/latex": [
       "$\\displaystyle \\left[\\begin{matrix}F_{i}\\\\\\frac{2 F_{i+1}}{h} - \\frac{F_{i+2}}{2 h} - \\frac{3 F_{i}}{2 h}\\\\- \\frac{2 F_{i+1}}{h^{2}} + \\frac{F_{i+2}}{h^{2}} + \\frac{F_{i}}{h^{2}}\\end{matrix}\\right]$"
      ],
      "text/plain": [
       "Matrix([\n",
       "[                                      F_{i}],\n",
       "[2*F_{i+1}/h - F_{i+2}/(2*h) - 3*F_{i}/(2*h)],\n",
       "[-2*F_{i+1}/h**2 + F_{i+2}/h**2 + F_{i}/h**2]])"
      ]
     },
     "execution_count": 200,
     "metadata": {},
     "output_type": "execute_result"
    }
   ],
   "source": [
    "X"
   ]
  },
  {
   "cell_type": "code",
   "execution_count": 201,
   "metadata": {},
   "outputs": [],
   "source": [
    "from __future__ import print_function\n",
    "from sympy import *\n",
    "x, x0, h = symbols('x, x_i, h')\n",
    "Fi, Fim1, Fip1 = symbols('F_{i}, F_{i-1}, F_{i+1}')\n",
    "n = 3 # there are the coefficients c_0=Fi,  c_1=dF/h,  c_2=d**2F/h**2\n",
    "c = symbols('c:3')\n",
    "# define a polynomial of degree n\n",
    "def P(x, x0, c, n):\n",
    "   return sum( ((1/factorial(i))*c[i] * (x-x0)**i for i in range(n)) )\n",
    "# now we make a matrix consisting of the coefficients\n",
    "# of the c_i in the nth degree polynomial P\n",
    "# coefficients of c_i evaluated at x_i\n",
    "m11 = P(x0 , x0, c, n).diff(c[0])\n",
    "m12 = P(x0 , x0, c, n).diff(c[1])\n",
    "m13 = P(x0 , x0, c, n).diff(c[2])\n",
    "# coefficients of c_i evaluated at x_i - h\n",
    "m21 = P(x0-h, x0, c, n).diff(c[0])\n",
    "m22 = P(x0-h, x0, c, n).diff(c[1])\n",
    "m23 = P(x0-h, x0, c, n).diff(c[2])\n",
    "# coefficients of c_i evaluated at x_i + h\n",
    "m31 = P(x0+h, x0, c, n).diff(c[0])\n",
    "m32 = P(x0+h, x0, c, n).diff(c[1])\n",
    "m33 = P(x0+h, x0, c, n).diff(c[2])\n",
    "# matrix of the coefficients is 3x3 in this case\n",
    "M = Matrix([[m11, m12, m13], [m21, m22, m23], [m31, m32, m33]])"
   ]
  },
  {
   "cell_type": "code",
   "execution_count": 202,
   "metadata": {},
   "outputs": [
    {
     "name": "stdout",
     "output_type": "stream",
     "text": [
      "The second-order accurate approximation for the first derivative is: \n"
     ]
    },
    {
     "data": {
      "text/latex": [
       "$\\displaystyle \\frac{F_{i+1} - F_{i-1}}{2 h}$"
      ],
      "text/plain": [
       "(F_{i+1} - F_{i-1})/(2*h)"
      ]
     },
     "execution_count": 202,
     "metadata": {},
     "output_type": "execute_result"
    }
   ],
   "source": [
    "# matrix of the function values...actually a vector of right hand sides\n",
    "R = Matrix([[Fi], [Fim1], [Fip1]])\n",
    "# matrix form of the three equations for the c_i is M*X = R\n",
    "# solution directly inverting the 3x3 matrix M:\n",
    "X =  M.inv() * R\n",
    "# note that all three coefficients make up the solution\n",
    "# the first derivative is coefficient c_1 which is X[1].\n",
    "print(\"The second-order accurate approximation for the first derivative is: \")\n",
    "together(X[1])"
   ]
  },
  {
   "cell_type": "code",
   "execution_count": 203,
   "metadata": {},
   "outputs": [
    {
     "data": {
      "text/latex": [
       "$\\displaystyle \\left[\\begin{matrix}F_{i}\\\\\\frac{F_{i+1}}{2 h} - \\frac{F_{i-1}}{2 h}\\\\\\frac{F_{i+1}}{h^{2}} + \\frac{F_{i-1}}{h^{2}} - \\frac{2 F_{i}}{h^{2}}\\end{matrix}\\right]$"
      ],
      "text/plain": [
       "Matrix([\n",
       "[                                     F_{i}],\n",
       "[             F_{i+1}/(2*h) - F_{i-1}/(2*h)],\n",
       "[F_{i+1}/h**2 + F_{i-1}/h**2 - 2*F_{i}/h**2]])"
      ]
     },
     "execution_count": 203,
     "metadata": {},
     "output_type": "execute_result"
    }
   ],
   "source": [
    "X"
   ]
  },
  {
   "cell_type": "code",
   "execution_count": 204,
   "metadata": {},
   "outputs": [
    {
     "data": {
      "text/latex": [
       "$\\displaystyle c_{1}$"
      ],
      "text/plain": [
       "c1"
      ]
     },
     "execution_count": 204,
     "metadata": {},
     "output_type": "execute_result"
    }
   ],
   "source": [
    "d = symbols('c:3')\n",
    "dfdxcheck = (P(x0+h, x0, d, 3) - P(x0-h, x0, d, 3))/(2*h)\n",
    "simplify(dfdxcheck) # so the appropriate cancellation of terms involving `h` happens"
   ]
  },
  {
   "cell_type": "code",
   "execution_count": 205,
   "metadata": {},
   "outputs": [
    {
     "data": {
      "text/latex": [
       "$\\displaystyle c_{1} + \\frac{c_{3} h^{2}}{6} + \\frac{c_{5} h^{4}}{120} + \\frac{c_{7} h^{6}}{5040}$"
      ],
      "text/plain": [
       "c1 + c3*h**2/6 + c5*h**4/120 + c7*h**6/5040"
      ]
     },
     "execution_count": 205,
     "metadata": {},
     "output_type": "execute_result"
    }
   ],
   "source": [
    "d = symbols('c:8')\n",
    "dfdxcheck = (P(x0+h, x0, d, 8) - P(x0-h, x0, d, 8))/(2*h)\n",
    "simplify(dfdxcheck) # so the appropriate cancellation of terms involving `h` happens"
   ]
  },
  {
   "cell_type": "code",
   "execution_count": 206,
   "metadata": {},
   "outputs": [],
   "source": [
    "from __future__ import print_function\n",
    "from sympy import *\n",
    "x, xN, h = symbols('x, x_N, h')\n",
    "FN, FNm1, FNm2 = symbols('F_{N}, F_{N-1}, F_{N-2}')\n",
    "n = 8 # there are the coefficients c_0=Fi,  c_1=dF/h,  c_2=d**2F/h**2\n",
    "c = symbols('c:8')\n",
    "# define a polynomial of degree d\n",
    "def P(x, x0, c, n):\n",
    "    return sum( ((1/factorial(i))*c[i] * (x-x0)**i for i in range(n)) )"
   ]
  },
  {
   "cell_type": "code",
   "execution_count": 207,
   "metadata": {},
   "outputs": [],
   "source": [
    "m11 = P(xN , xN, c, n).diff(c[0])\n",
    "m12 = P(xN, xN, c, n).diff(c[1])\n",
    "m13 = P(xN , xN, c, n).diff(c[2])\n",
    "# coefficients of c_i evaluated at x_i - h\n",
    "m21 = P(xN-h, xN, c, n).diff(c[0])\n",
    "m22 = P(xN-h, xN, c, n).diff(c[1])\n",
    "m23 = P(xN-h, xN, c, n).diff(c[2])\n",
    "# coefficients of c_i evaluated at x_i + h\n",
    "m31 = P(xN-2*h, xN, c, n).diff(c[0])\n",
    "m32 = P(xN-2*h, xN, c, n).diff(c[1])\n",
    "m33 = P(xN-2*h, xN, c, n).diff(c[2])"
   ]
  },
  {
   "cell_type": "code",
   "execution_count": 208,
   "metadata": {},
   "outputs": [],
   "source": [
    "M = Matrix([[m11, m12, m13], [m21, m22, m23], [m31, m32, m33]])\n",
    "# matrix of the function values...actually a vector of right hand sides\n",
    "R = Matrix([[FN], [FNm1], [FNm2]])"
   ]
  },
  {
   "cell_type": "code",
   "execution_count": 209,
   "metadata": {},
   "outputs": [],
   "source": [
    "X =  M.inv() * R"
   ]
  },
  {
   "cell_type": "code",
   "execution_count": 210,
   "metadata": {},
   "outputs": [
    {
     "name": "stdout",
     "output_type": "stream",
     "text": [
      "The first derivative centered at the last point on the right is:\n"
     ]
    },
    {
     "data": {
      "text/latex": [
       "$\\displaystyle \\frac{- 4 F_{N-1} + F_{N-2} + 3 F_{N}}{2 h}$"
      ],
      "text/plain": [
       "(-4*F_{N-1} + F_{N-2} + 3*F_{N})/(2*h)"
      ]
     },
     "execution_count": 210,
     "metadata": {},
     "output_type": "execute_result"
    }
   ],
   "source": [
    "print(\"The first derivative centered at the last point on the right is:\")\n",
    "together(X[1])"
   ]
  },
  {
   "cell_type": "markdown",
   "metadata": {},
   "source": [
    "## General function to calculate the $n\\text{th}$ derivative with precision at least until $(n + 1)\\text{th}$ order"
   ]
  },
  {
   "cell_type": "code",
   "execution_count": 211,
   "metadata": {},
   "outputs": [],
   "source": [
    "def derivatives(f: Basic, n: int):\n",
    "    x0 = Symbol('x_0')\n",
    "    h = Symbol('h')\n",
    "    xks = [x0 + (i - (n//2))*h for i in range(n)]\n",
    "    c: list[Symbol] = symbols(f'c:{n}')\n",
    "\n",
    "    # define a polynomial of degree n\n",
    "    def P(xk) -> Expr:\n",
    "        return sum(((1/factorial(i))*c[i] * (xk-x0)**i for i in range(n)) )\n",
    "\n",
    "    fs = [f(xk) for xk in xks]\n",
    "    M = Matrix([\n",
    "        [P(xk).diff(c[i]) for i in range(n)]\n",
    "        for xk in xks\n",
    "    ])\n",
    "    R = Matrix([[fk] for fk in fs])\n",
    "    X: list[Basic] =  M.inv() * R\n",
    "    return X, x0, h\n",
    "\n",
    "def derivative(f: Basic, n: int, n_max: int | None = None):\n",
    "    n_max = (\n",
    "        n_max\n",
    "        if n_max is not None\n",
    "        else ((n + 2) + int(n % 2 == 0)) # the first odd number starting at n + 2\n",
    "    )\n",
    "    X, x0, h = derivatives(f, n_max)\n",
    "    y: Expr = X[n]\n",
    "    return y, x0, h, X"
   ]
  },
  {
   "cell_type": "code",
   "execution_count": 212,
   "metadata": {},
   "outputs": [
    {
     "data": {
      "text/latex": [
       "$\\displaystyle \\left[\\begin{matrix}f{\\left(x_{0} \\right)}\\\\- \\frac{f{\\left(- h + x_{0} \\right)}}{2 h} + \\frac{f{\\left(h + x_{0} \\right)}}{2 h}\\\\- \\frac{2 f{\\left(x_{0} \\right)}}{h^{2}} + \\frac{f{\\left(- h + x_{0} \\right)}}{h^{2}} + \\frac{f{\\left(h + x_{0} \\right)}}{h^{2}}\\end{matrix}\\right]$"
      ],
      "text/plain": [
       "Matrix([\n",
       "[                                             f(x_0)],\n",
       "[              -f(-h + x_0)/(2*h) + f(h + x_0)/(2*h)],\n",
       "[-2*f(x_0)/h**2 + f(-h + x_0)/h**2 + f(h + x_0)/h**2]])"
      ]
     },
     "execution_count": 212,
     "metadata": {},
     "output_type": "execute_result"
    }
   ],
   "source": [
    "f = Function('f')\n",
    "derivatives(f, 3)[0]"
   ]
  },
  {
   "cell_type": "code",
   "execution_count": 213,
   "metadata": {},
   "outputs": [
    {
     "data": {
      "text/latex": [
       "$\\displaystyle - \\frac{f{\\left(- h + x_{0} \\right)}}{2 h} + \\frac{f{\\left(h + x_{0} \\right)}}{2 h}$"
      ],
      "text/plain": [
       "-f(-h + x_0)/(2*h) + f(h + x_0)/(2*h)"
      ]
     },
     "execution_count": 213,
     "metadata": {},
     "output_type": "execute_result"
    }
   ],
   "source": [
    "derivative(f, 1)[0]"
   ]
  },
  {
   "cell_type": "code",
   "execution_count": 214,
   "metadata": {},
   "outputs": [
    {
     "data": {
      "text/latex": [
       "$\\displaystyle \\frac{f{\\left(- 2 h + x_{0} \\right)}}{12 h} - \\frac{2 f{\\left(- h + x_{0} \\right)}}{3 h} + \\frac{2 f{\\left(h + x_{0} \\right)}}{3 h} - \\frac{f{\\left(2 h + x_{0} \\right)}}{12 h}$"
      ],
      "text/plain": [
       "f(-2*h + x_0)/(12*h) - 2*f(-h + x_0)/(3*h) + 2*f(h + x_0)/(3*h) - f(2*h + x_0)/(12*h)"
      ]
     },
     "execution_count": 214,
     "metadata": {},
     "output_type": "execute_result"
    }
   ],
   "source": [
    "# higher n_max gives more precision\n",
    "derivative(f, 1, n_max=5)[0]"
   ]
  },
  {
   "cell_type": "code",
   "execution_count": 215,
   "metadata": {},
   "outputs": [
    {
     "data": {
      "text/latex": [
       "$\\displaystyle - \\frac{5 f{\\left(x_{0} \\right)}}{2 h^{2}} - \\frac{f{\\left(- 2 h + x_{0} \\right)}}{12 h^{2}} + \\frac{4 f{\\left(- h + x_{0} \\right)}}{3 h^{2}} + \\frac{4 f{\\left(h + x_{0} \\right)}}{3 h^{2}} - \\frac{f{\\left(2 h + x_{0} \\right)}}{12 h^{2}}$"
      ],
      "text/plain": [
       "-5*f(x_0)/(2*h**2) - f(-2*h + x_0)/(12*h**2) + 4*f(-h + x_0)/(3*h**2) + 4*f(h + x_0)/(3*h**2) - f(2*h + x_0)/(12*h**2)"
      ]
     },
     "execution_count": 215,
     "metadata": {},
     "output_type": "execute_result"
    }
   ],
   "source": [
    "derivative(f, 2, n_max=5)[0]"
   ]
  },
  {
   "cell_type": "code",
   "execution_count": 216,
   "metadata": {},
   "outputs": [],
   "source": [
    "def test_full(n=1, x0=0, h=0.1, n_max: int | None = None):\n",
    "    def f(x):\n",
    "        return x**2 + 2*x + 1\n",
    "    y, sx0, sh, X = derivative(f, n, n_max=n_max)\n",
    "    return y.subs({sx0: x0, sh: h}), X\n",
    "\n",
    "def test(n=1, x0=0, h=0.1, n_max: int | None = None):\n",
    "    y, _ = test_full(n, x0, h, n_max=n_max)\n",
    "    return y"
   ]
  },
  {
   "cell_type": "code",
   "execution_count": 217,
   "metadata": {},
   "outputs": [
    {
     "data": {
      "text/latex": [
       "$\\displaystyle 2.0$"
      ],
      "text/plain": [
       "2.00000000000000"
      ]
     },
     "execution_count": 217,
     "metadata": {},
     "output_type": "execute_result"
    }
   ],
   "source": [
    "test() # 2"
   ]
  },
  {
   "cell_type": "code",
   "execution_count": 218,
   "metadata": {},
   "outputs": [
    {
     "data": {
      "text/latex": [
       "$\\displaystyle 0$"
      ],
      "text/plain": [
       "0"
      ]
     },
     "execution_count": 218,
     "metadata": {},
     "output_type": "execute_result"
    }
   ],
   "source": [
    "test(x0=-1) # 0"
   ]
  },
  {
   "cell_type": "code",
   "execution_count": 219,
   "metadata": {},
   "outputs": [
    {
     "data": {
      "text/latex": [
       "$\\displaystyle 2.0$"
      ],
      "text/plain": [
       "2.00000000000000"
      ]
     },
     "execution_count": 219,
     "metadata": {},
     "output_type": "execute_result"
    }
   ],
   "source": [
    "test(n=2) # 2"
   ]
  },
  {
   "cell_type": "code",
   "execution_count": 220,
   "metadata": {},
   "outputs": [
    {
     "data": {
      "text/latex": [
       "$\\displaystyle 2.00000000000003$"
      ],
      "text/plain": [
       "2.00000000000003"
      ]
     },
     "execution_count": 220,
     "metadata": {},
     "output_type": "execute_result"
    }
   ],
   "source": [
    "test(n=2, x0=-1) # 2"
   ]
  },
  {
   "cell_type": "code",
   "execution_count": 221,
   "metadata": {},
   "outputs": [
    {
     "data": {
      "text/latex": [
       "$\\displaystyle 2.00000000000002$"
      ],
      "text/plain": [
       "2.00000000000002"
      ]
     },
     "execution_count": 221,
     "metadata": {},
     "output_type": "execute_result"
    }
   ],
   "source": [
    "test(n=2, x0=-1, n_max=11) # 2"
   ]
  },
  {
   "cell_type": "code",
   "execution_count": 222,
   "metadata": {},
   "outputs": [
    {
     "data": {
      "text/latex": [
       "$\\displaystyle 2.8421709430404 \\cdot 10^{-13}$"
      ],
      "text/plain": [
       "2.84217094304040e-13"
      ]
     },
     "execution_count": 222,
     "metadata": {},
     "output_type": "execute_result"
    }
   ],
   "source": [
    "test(n=3) # 0"
   ]
  },
  {
   "cell_type": "code",
   "execution_count": 223,
   "metadata": {},
   "outputs": [
    {
     "data": {
      "text/latex": [
       "$\\displaystyle 5.6843418860808 \\cdot 10^{-13}$"
      ],
      "text/plain": [
       "5.68434188608080e-13"
      ]
     },
     "execution_count": 223,
     "metadata": {},
     "output_type": "execute_result"
    }
   ],
   "source": [
    "test(n=3, x0=-1) # 0"
   ]
  },
  {
   "cell_type": "code",
   "execution_count": 224,
   "metadata": {},
   "outputs": [
    {
     "data": {
      "text/latex": [
       "$\\displaystyle \\left[\\begin{matrix}x_{0}^{2} + 2 x_{0} + 1\\\\\\frac{- 4 h + 2 x_{0} + \\left(- 2 h + x_{0}\\right)^{2} + 1}{12 h} - \\frac{2 \\left(- 2 h + 2 x_{0} + \\left(- h + x_{0}\\right)^{2} + 1\\right)}{3 h} + \\frac{2 \\left(2 h + 2 x_{0} + \\left(h + x_{0}\\right)^{2} + 1\\right)}{3 h} - \\frac{4 h + 2 x_{0} + \\left(2 h + x_{0}\\right)^{2} + 1}{12 h}\\\\- \\frac{5 \\left(x_{0}^{2} + 2 x_{0} + 1\\right)}{2 h^{2}} - \\frac{- 4 h + 2 x_{0} + \\left(- 2 h + x_{0}\\right)^{2} + 1}{12 h^{2}} + \\frac{4 \\left(- 2 h + 2 x_{0} + \\left(- h + x_{0}\\right)^{2} + 1\\right)}{3 h^{2}} + \\frac{4 \\left(2 h + 2 x_{0} + \\left(h + x_{0}\\right)^{2} + 1\\right)}{3 h^{2}} - \\frac{4 h + 2 x_{0} + \\left(2 h + x_{0}\\right)^{2} + 1}{12 h^{2}}\\\\- \\frac{- 4 h + 2 x_{0} + \\left(- 2 h + x_{0}\\right)^{2} + 1}{2 h^{3}} + \\frac{- 2 h + 2 x_{0} + \\left(- h + x_{0}\\right)^{2} + 1}{h^{3}} - \\frac{2 h + 2 x_{0} + \\left(h + x_{0}\\right)^{2} + 1}{h^{3}} + \\frac{4 h + 2 x_{0} + \\left(2 h + x_{0}\\right)^{2} + 1}{2 h^{3}}\\\\\\frac{6 \\left(x_{0}^{2} + 2 x_{0} + 1\\right)}{h^{4}} + \\frac{- 4 h + 2 x_{0} + \\left(- 2 h + x_{0}\\right)^{2} + 1}{h^{4}} - \\frac{4 \\left(- 2 h + 2 x_{0} + \\left(- h + x_{0}\\right)^{2} + 1\\right)}{h^{4}} - \\frac{4 \\left(2 h + 2 x_{0} + \\left(h + x_{0}\\right)^{2} + 1\\right)}{h^{4}} + \\frac{4 h + 2 x_{0} + \\left(2 h + x_{0}\\right)^{2} + 1}{h^{4}}\\end{matrix}\\right]$"
      ],
      "text/plain": [
       "Matrix([\n",
       "[                                                                                                                                                                                                            x_0**2 + 2*x_0 + 1],\n",
       "[                                               (-4*h + 2*x_0 + (-2*h + x_0)**2 + 1)/(12*h) - 2*(-2*h + 2*x_0 + (-h + x_0)**2 + 1)/(3*h) + 2*(2*h + 2*x_0 + (h + x_0)**2 + 1)/(3*h) - (4*h + 2*x_0 + (2*h + x_0)**2 + 1)/(12*h)],\n",
       "[-5*(x_0**2 + 2*x_0 + 1)/(2*h**2) - (-4*h + 2*x_0 + (-2*h + x_0)**2 + 1)/(12*h**2) + 4*(-2*h + 2*x_0 + (-h + x_0)**2 + 1)/(3*h**2) + 4*(2*h + 2*x_0 + (h + x_0)**2 + 1)/(3*h**2) - (4*h + 2*x_0 + (2*h + x_0)**2 + 1)/(12*h**2)],\n",
       "[                                                -(-4*h + 2*x_0 + (-2*h + x_0)**2 + 1)/(2*h**3) + (-2*h + 2*x_0 + (-h + x_0)**2 + 1)/h**3 - (2*h + 2*x_0 + (h + x_0)**2 + 1)/h**3 + (4*h + 2*x_0 + (2*h + x_0)**2 + 1)/(2*h**3)],\n",
       "[                       6*(x_0**2 + 2*x_0 + 1)/h**4 + (-4*h + 2*x_0 + (-2*h + x_0)**2 + 1)/h**4 - 4*(-2*h + 2*x_0 + (-h + x_0)**2 + 1)/h**4 - 4*(2*h + 2*x_0 + (h + x_0)**2 + 1)/h**4 + (4*h + 2*x_0 + (2*h + x_0)**2 + 1)/h**4]])"
      ]
     },
     "execution_count": 224,
     "metadata": {},
     "output_type": "execute_result"
    }
   ],
   "source": [
    "test_full(n=3)[1]"
   ]
  }
 ],
 "metadata": {
  "kernelspec": {
   "display_name": "dev",
   "language": "python",
   "name": "python3"
  },
  "language_info": {
   "codemirror_mode": {
    "name": "ipython",
    "version": 3
   },
   "file_extension": ".py",
   "mimetype": "text/x-python",
   "name": "python",
   "nbconvert_exporter": "python",
   "pygments_lexer": "ipython3",
   "version": "3.11.5"
  }
 },
 "nbformat": 4,
 "nbformat_minor": 2
}
