{
 "cells": [
  {
   "cell_type": "code",
   "execution_count": 22,
   "metadata": {},
   "outputs": [],
   "source": [
    "import sympy\n",
    "from sympy import *\n",
    "from sympy.abc import x\n",
    "\n",
    "f = Function('f')"
   ]
  },
  {
   "cell_type": "code",
   "execution_count": 23,
   "metadata": {},
   "outputs": [
    {
     "data": {
      "text/latex": [
       "$\\displaystyle \\int\\limits_{0}^{1} f{\\left(x \\right)}\\, dx$"
      ],
      "text/plain": [
       "Integral(f(x), (x, 0, 1))"
      ]
     },
     "execution_count": 23,
     "metadata": {},
     "output_type": "execute_result"
    }
   ],
   "source": [
    "Integral(f(x), (x, 0, 1))"
   ]
  },
  {
   "cell_type": "code",
   "execution_count": 24,
   "metadata": {},
   "outputs": [
    {
     "data": {
      "text/plain": [
       "{x}"
      ]
     },
     "execution_count": 24,
     "metadata": {},
     "output_type": "execute_result"
    }
   ],
   "source": [
    "Integral(f(x), (x, 0, 1)).atoms(Symbol)"
   ]
  },
  {
   "cell_type": "code",
   "execution_count": 25,
   "metadata": {},
   "outputs": [
    {
     "data": {
      "text/plain": [
       "True"
      ]
     },
     "execution_count": 25,
     "metadata": {},
     "output_type": "execute_result"
    }
   ],
   "source": [
    "x in Integral(f(x), (x, 0, 1)).atoms(Symbol)"
   ]
  },
  {
   "cell_type": "code",
   "execution_count": 26,
   "metadata": {},
   "outputs": [
    {
     "data": {
      "text/plain": [
       "set()"
      ]
     },
     "execution_count": 26,
     "metadata": {},
     "output_type": "execute_result"
    }
   ],
   "source": [
    "Integral(f(x), (x, 0, 1)).free_symbols"
   ]
  },
  {
   "cell_type": "code",
   "execution_count": 42,
   "metadata": {},
   "outputs": [
    {
     "name": "stdout",
     "output_type": "stream",
     "text": [
      "1234\n",
      "False\n"
     ]
    },
    {
     "data": {
      "text/latex": [
       "$\\displaystyle p_{12}$"
      ],
      "text/plain": [
       "ParamVar(12, _Dummy_51)"
      ]
     },
     "execution_count": 42,
     "metadata": {},
     "output_type": "execute_result"
    }
   ],
   "source": [
    "class IdElem(sympy.Basic):\n",
    "    @classmethod\n",
    "    def prefix(cls):\n",
    "        return 'unk'\n",
    "\n",
    "    def __init__(self, id: int):\n",
    "        super().__init__()\n",
    "        self._args = (sympy.Integer(id), sympy.Dummy())\n",
    "\n",
    "    def _latex(self, printer):\n",
    "        return r\"%s_{%s}\" % (self.prefix(), self.args[0])\n",
    "\n",
    "    @property\n",
    "    def id(self) -> int:\n",
    "        id = self.args[0]\n",
    "        assert isinstance(id, sympy.Integer)\n",
    "        return int(id)\n",
    "\n",
    "class DefinitionKey(IdElem):\n",
    "    @classmethod\n",
    "    def prefix(cls):\n",
    "        return 'f'\n",
    "\n",
    "class ParamVar(IdElem):\n",
    "    @classmethod\n",
    "    def prefix(cls):\n",
    "        return 'p'\n",
    "\n",
    "print(ParamVar(1234).id)\n",
    "print(ParamVar(123) == ParamVar(123))\n",
    "ParamVar(12)"
   ]
  }
 ],
 "metadata": {
  "kernelspec": {
   "display_name": "dev",
   "language": "python",
   "name": "python3"
  },
  "language_info": {
   "codemirror_mode": {
    "name": "ipython",
    "version": 3
   },
   "file_extension": ".py",
   "mimetype": "text/x-python",
   "name": "python",
   "nbconvert_exporter": "python",
   "pygments_lexer": "ipython3",
   "version": "3.11.5"
  }
 },
 "nbformat": 4,
 "nbformat_minor": 2
}
