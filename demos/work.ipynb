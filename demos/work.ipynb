{
 "cells": [
  {
   "cell_type": "markdown",
   "metadata": {},
   "source": [
    "# Demo"
   ]
  },
  {
   "cell_type": "markdown",
   "metadata": {},
   "source": [
    "## Load Environment Vars"
   ]
  },
  {
   "cell_type": "code",
   "execution_count": 1,
   "metadata": {},
   "outputs": [
    {
     "data": {
      "text/plain": [
       "True"
      ]
     },
     "execution_count": 1,
     "metadata": {},
     "output_type": "execute_result"
    }
   ],
   "source": [
    "from dotenv import load_dotenv\n",
    "load_dotenv('../.env')"
   ]
  },
  {
   "cell_type": "markdown",
   "metadata": {},
   "source": [
    "## Data Models"
   ]
  },
  {
   "cell_type": "code",
   "execution_count": 2,
   "metadata": {},
   "outputs": [],
   "source": [
    "from langchain_core.pydantic_v1 import BaseModel, Field\n",
    "\n",
    "class Subcategory(BaseModel):\n",
    "    \"\"\"A project subcategory.\"\"\"\n",
    "    \n",
    "    id: int = Field(description=\"The subcategory id.\")\n",
    "    name: str = Field(description=\"The subcategory name.\")\n",
    "\n",
    "class ReprovationReason(BaseModel):\n",
    "    \"\"\"A project reprovation reason.\"\"\"\n",
    "    \n",
    "    id: int = Field(description=\"The reprovation reason id.\")\n",
    "    name: str = Field(description=\"The reprovation reason name.\")\n",
    "    description: str = Field(description=\"The reprovation reason description.\")\n",
    "\n",
    "class ProjectInput(BaseModel):\n",
    "    \"\"\"The project data defined by the client (may need changes).\"\"\"\n",
    "    \n",
    "    subcategory: int = Field(description=\"The subcategory of the project.\")\n",
    "    title: str = Field(description=\"The title of the project.\")\n",
    "    description: str = Field(description=\"The description of the project.\")\n",
    "    abilities: list[str] | None = Field(description=\"The abilities desired for the project.\")\n",
    "    \n",
    "class ProjectPrediction(BaseModel):\n",
    "    \"\"\"The predicted project data based on the input. Some fields might be left undefined depending on the project being approved or not.\"\"\"\n",
    "    \n",
    "    approve: bool = Field(description=\"Whether the project should be approved or not.\")\n",
    "    subcategory: int | None = Field(description=\"The subcategory of the project (when approved).\")\n",
    "    title: str | None = Field(description=\"The title of the project (when approved).\", min_length=25, max_length=75)\n",
    "    description: str | None = Field(description=\"The description of the project (when approved).\", min_length=50, max_length=2000)\n",
    "    reprovation_reason: int | None = Field(description=\"The reason for the project to be reproved (when reproved).\")\n",
    "    reprovation_comment: str | None = Field(description=\"The comment for the reprovation (when reproved).\")\n",
    "    \n",
    "class ProjectInfo(BaseModel):\n",
    "    \"\"\"Additional information about the project.\"\"\"\n",
    "    \n",
    "    reasoning: str = Field(description=\"The reasoning behind the prediction.\")\n",
    "    confidence: float = Field(description=\"The confidence of the prediction.\", ge=0, le=1)\n",
    "    bot_generated: float = Field(description=\"How likely is for the project to be bot generated.\", ge=0, le=1)\n",
    "    \n",
    "    \n",
    "class ProjectOutput(BaseModel):\n",
    "    \"\"\"The predicted project data based on the input, along with additional information.\"\"\"\n",
    "    \n",
    "    prediction: ProjectPrediction = Field(description=\"The predicted project data based on the input.\")\n",
    "    info: ProjectInfo = Field(description=\"Additional information about the project.\")"
   ]
  },
  {
   "cell_type": "markdown",
   "metadata": {},
   "source": [
    "## Load Examples"
   ]
  },
  {
   "cell_type": "code",
   "execution_count": 3,
   "metadata": {},
   "outputs": [],
   "source": [
    "def get_subcategories():\n",
    "    return [\n",
    "        Subcategory(id=0, name=\"Outra categoria\"),\n",
    "        Subcategory(id=1, name=\"Design gráfico\"),\n",
    "        Subcategory(id=2, name=\"Desenvolvimento Web\"),\n",
    "        Subcategory(id=3, name=\"Redação\"),\n",
    "        Subcategory(id=4, name=\"Edição de Vídeo\"),\n",
    "        Subcategory(id=5, name=\"Tradução\"),\n",
    "        Subcategory(id=6, name=\"Assistente Virtual\"),\n",
    "        Subcategory(id=7, name=\"Animação\"),\n",
    "        Subcategory(id=8, name=\"Marketing Digital\"),\n",
    "        Subcategory(id=9, name=\"Ilustração\"),\n",
    "    ]\n",
    "\n",
    "def get_reprovation_reasons():\n",
    "    return [\n",
    "        ReprovationReason(id=1, name=\"Outro Motivo\", description=\"\"),\n",
    "        ReprovationReason(id=2, name=\"Projeto Duplicado\", description=\"Você publicou um projeto muito parecido ou idêntico a esse a pouco tempo\"),\n",
    "        ReprovationReason(id=3, name=\"Proposta para Trabalhar\", description=\"Se o seu objetivo é encontrar trabalhos, por favor, altere o seu perfil para o de Freelancer\"),\n",
    "        ReprovationReason(id=4, name=\"Conteúdo Não Permitido\", description=\"Há conteúdo não permitido na descrição do projeto (informações de contato, orçamento, solicitação de testes não remunerados, etc)\"),\n",
    "        ReprovationReason(id=5, name=\"Projeto Confuso\", description=\"Não está claro o que é pedido no projeto\"),\n",
    "        ReprovationReason(id=6, name=\"Poucos Detalhes\", description=\"Os freelancers precisam saber detalhes para que possam enviar as suas propostas. Seja o mais específico possível\"),\n",
    "        ReprovationReason(id=7, name=\"Pagamento Comissionado\", description=\"Projetos com pagamentos parciais ou totais via comissão não são permitidos\"),\n",
    "        ReprovationReason(id=8, name=\"Requer trabalho não pago\", description=\"Todo trabalho deve ser pago\"),\n",
    "        ReprovationReason(id=9, name=\"Troca de trabalho\", description=\"Permutas não são permitidas\"),\n",
    "        ReprovationReason(id=10, name=\"Vaga de emprego\", description=\"Nosso site é somente para trabalhos temporários. Não podemos te ajudar a encontrar profissionais para ocupar cargos na sua empresa\"),\n",
    "        ReprovationReason(id=11, name=\"Trabalhos acadêmicos\", description=\"O seu trabalho não pode ser feito por outra pessoa. Valorize a sua educação\"),\n",
    "        ReprovationReason(id=12, name=\"Ilegal\", description=\"Está solicitando algo que é ilegal ou que será utilizado para fins não permitidos\"),\n",
    "        ReprovationReason(id=13, name=\"Sem demanda\", description=\"Está recrutando profissionais para parceria ou para demandas futuras\"),\n",
    "        ReprovationReason(id=14, name=\"Não Permitido\", description=\"Esse tipo de trabalho não é permitido\"),\n",
    "    ]\n",
    "\n",
    "def get_full_example(idx):\n",
    "    project_id = idx + 1\n",
    "    \n",
    "    if idx % 5 == 0:\n",
    "        input = ProjectInput(\n",
    "            subcategory=1,\n",
    "            title=f\"PRECISO DE DESIGNER GRFICO - #{project_id}\",\n",
    "            description=f\"Preciso de desgner grafico para criação de logotipo\\nMeu telefone é 98765-4321\",\n",
    "            abilities=[\"Criação de logotipo\", \"Ilustração\"],\n",
    "        )\n",
    "        prediction = ProjectPrediction(\n",
    "            approve=True,\n",
    "            subcategory=1,\n",
    "            title=f\"Designer gráfico para criação de Logotipo - #{project_id}\",\n",
    "            description=f\"Preciso de designer gráfico para criação de logotipo.\",\n",
    "        )\n",
    "        info = ProjectInfo(\n",
    "            reasoning=\"Alteração do título para ficar mais conciso e ajustes em sua capitalização. Correções ortográficas na descrição. Remoção de telefone de contato.\",\n",
    "            confidence=0.8,\n",
    "            bot_generated=0.4,\n",
    "        )\n",
    "    elif idx % 5 == 1:\n",
    "        input = ProjectInput(\n",
    "            subcategory=0,\n",
    "            title=f\"ESCREVER ARTIGOS PARA BLOG - #{project_id}\",\n",
    "            description=f\"Preciso de redaor para criação de conteúdo para meu blog https://meublog.com\",\n",
    "        )\n",
    "        prediction = ProjectPrediction(\n",
    "            approve=True,\n",
    "            subcategory=3,\n",
    "            title=f\"Escrever artigos para blog - #{project_id}\",\n",
    "            description=f\"Preciso de redator para criação de conteúdo para meu blog https://meublog.com\",\n",
    "        )\n",
    "        info = ProjectInfo(\n",
    "            reasoning=\"Ajustes na capitalização do título. Correção de erro ortográfico na descrição.\",\n",
    "            confidence=0.7,\n",
    "            bot_generated=0.3,\n",
    "        )\n",
    "    elif idx % 5 == 2:\n",
    "        input = ProjectInput(\n",
    "            subcategory=0,\n",
    "            title=f\"TRADUÇÃO DE TEXTO - #{project_id}\",\n",
    "            description=f\"Preciso de tradutor para traduzir texto de inglês para português. Primeiramente será feito um teste não pago para depois ser decidido o freelancer que fará o projeto.\",\n",
    "        )\n",
    "        prediction = ProjectPrediction(\n",
    "            approve=False,\n",
    "            reprovation_reason=8,            \n",
    "        )\n",
    "        info = ProjectInfo(\n",
    "            reasoning=\"Testes não pagos não são permitidos.\",\n",
    "            confidence=0.8,\n",
    "            bot_generated=0.3,\n",
    "        )\n",
    "    elif idx % 5 == 3:\n",
    "        input = ProjectInput(\n",
    "            subcategory=8,\n",
    "            title=f\"Assistente virtual para tarefa pontual - #{project_id}\",\n",
    "            description=f\"Preciso de assistente virtual para realizar tarefas administrativas com duração de 2 dias. Deverá saber utilizar planilhas do Excel e ter conexão com a internet. Será feito home office.\",\n",
    "        )\n",
    "        prediction = ProjectPrediction(\n",
    "            approve=True,\n",
    "            subcategory=6,\n",
    "            title=f\"Assistente virtual para tarefa pontual - #{project_id}\",\n",
    "            description=f\"Preciso de assistente virtual para realizar tarefas administrativas com duração de 2 dias. Deverá saber utilizar planilhas do Excel e ter conexão com a internet. Será feito home office.\",\n",
    "        )\n",
    "        info = ProjectInfo(\n",
    "            reasoning=\"Nenhuma alteração necessária.\",\n",
    "            confidence=0.9,\n",
    "            bot_generated=0.2,\n",
    "        )\n",
    "    elif idx % 5 == 4:\n",
    "        input = ProjectInput(\n",
    "            subcategory=0,\n",
    "            title=f\"Crawler de Website - #{project_id}\",\n",
    "            description=f\"Preciso de alguém que faça um crawler para coletar informações de um website. Deverá acessar a API e burlar o CAPTCHA, se necessário.\",\n",
    "        )\n",
    "        prediction = ProjectPrediction(\n",
    "            approve=False,\n",
    "            reprovation_reason=12,\n",
    "            reprovation_comment=\"Solicitação de algo não permitido (burlar CAPTCHA).\",\n",
    "        )\n",
    "        info = ProjectInfo(\n",
    "            reasoning=\"Solicitação de algo não permitido (burlar CAPTCHA).\",\n",
    "            confidence=0.8,\n",
    "            bot_generated=0.3,\n",
    "        )\n",
    "\n",
    "    output = ProjectOutput(prediction=prediction, info=info)\n",
    "    return project_id, input, output\n",
    "\n",
    "# Examples of a pretend task of creating antonyms.\n",
    "examples = [get_full_example(i) for i in range(100)]"
   ]
  },
  {
   "cell_type": "code",
   "execution_count": 4,
   "metadata": {},
   "outputs": [
    {
     "data": {
      "text/plain": [
       "[(1,\n",
       "  ProjectInput(subcategory=1, title='PRECISO DE DESIGNER GRFICO - #1', description='Preciso de desgner grafico para criação de logotipo\\nMeu telefone é 98765-4321', abilities=['Criação de logotipo', 'Ilustração']),\n",
       "  ProjectOutput(prediction=ProjectPrediction(approve=True, subcategory=1, title='Designer gráfico para criação de Logotipo - #1', description='Preciso de designer gráfico para criação de logotipo.', reprovation_reason=None, reprovation_comment=None), info=ProjectInfo(reasoning='Alteração do título para ficar mais conciso e ajustes em sua capitalização. Correções ortográficas na descrição. Remoção de telefone de contato.', confidence=0.8, bot_generated=0.4))),\n",
       " (2,\n",
       "  ProjectInput(subcategory=0, title='ESCREVER ARTIGOS PARA BLOG - #2', description='Preciso de redaor para criação de conteúdo para meu blog https://meublog.com', abilities=None),\n",
       "  ProjectOutput(prediction=ProjectPrediction(approve=True, subcategory=3, title='Escrever artigos para blog - #2', description='Preciso de redator para criação de conteúdo para meu blog https://meublog.com', reprovation_reason=None, reprovation_comment=None), info=ProjectInfo(reasoning='Ajustes na capitalização do título. Correção de erro ortográfico na descrição.', confidence=0.7, bot_generated=0.3)))]"
      ]
     },
     "execution_count": 4,
     "metadata": {},
     "output_type": "execute_result"
    }
   ],
   "source": [
    "examples[:2]"
   ]
  },
  {
   "cell_type": "markdown",
   "metadata": {},
   "source": [
    "## Create Store"
   ]
  },
  {
   "cell_type": "code",
   "execution_count": 5,
   "metadata": {},
   "outputs": [],
   "source": [
    "from langchain_core.vectorstores import VectorStore\n",
    "import typing\n",
    "\n",
    "T = typing.TypeVar('T')\n",
    "\n",
    "class MyVectorStores:\n",
    "    def __init__(\n",
    "            self,\n",
    "            subcategories: VectorStore,\n",
    "            reprovation_reasons: VectorStore,\n",
    "            project_inputs: VectorStore,\n",
    "            project_predictions: VectorStore):\n",
    "        self.subcategories = subcategories\n",
    "        self.reprovation_reasons = reprovation_reasons\n",
    "        self.project_inputs = project_inputs\n",
    "        self.project_predictions = project_predictions\n",
    "\n",
    "class VectorStoreHandler(typing.Generic[T]):\n",
    "    def __init__(self, store: VectorStore, json_parser: typing.Callable[[str], T]):\n",
    "        self.store = store\n",
    "        self.json_parser = json_parser\n",
    "        \n",
    "    def get_by_id(self, id: int):\n",
    "        documents = self.store.get(ids=[str(id)])['documents']\n",
    "        document = documents[0] if len(documents or []) else None\n",
    "        data = self.json_parser(document) if document else None\n",
    "        return data\n",
    "    \n",
    "    def similarity_search(\n",
    "            self, \n",
    "            query: str, \n",
    "            k: int = 5):\n",
    "        documents = self.store.similarity_search(query, k=k)\n",
    "        return list(map(lambda d: self.json_parser(d.page_content), documents))\n",
    "    \n",
    "    async def asimilarity_search(\n",
    "            self, \n",
    "            query: str, \n",
    "            k: int = 5):\n",
    "        documents = await self.store.asimilarity_search(query, k=k)\n",
    "        return list(map(lambda d: self.json_parser(d.page_content), documents))\n",
    "    \n",
    "    def max_marginal_relevance_search(\n",
    "            self, \n",
    "            query: str, \n",
    "            k: int = 5):\n",
    "        documents = self.store.max_marginal_relevance_search(query, k=k)\n",
    "        return list(map(lambda d: self.json_parser(d.page_content), documents))\n",
    "    \n",
    "    async def amax_marginal_relevance_search(\n",
    "            self, \n",
    "            query: str, \n",
    "            k: int = 5):\n",
    "        documents = await self.store.amax_marginal_relevance_search(query, k=k)\n",
    "        return list(map(lambda d: self.json_parser(d.page_content), documents))\n",
    "\n",
    "class MyVectorStoreHandler:\n",
    "    def __init__(self, stores: MyVectorStores):\n",
    "        self.subcategories = VectorStoreHandler(store=stores.subcategories, json_parser=Subcategory.parse_raw)\n",
    "        self.reprovation_reasons = VectorStoreHandler(store=stores.reprovation_reasons, json_parser=ReprovationReason.parse_raw)\n",
    "        self.project_inputs = VectorStoreHandler(store=stores.project_inputs, json_parser=ProjectInput.parse_raw)\n",
    "        self.project_predictions = VectorStoreHandler(store=stores.project_predictions, json_parser=ProjectPrediction.parse_raw)"
   ]
  },
  {
   "cell_type": "code",
   "execution_count": 6,
   "metadata": {},
   "outputs": [
    {
     "name": "stderr",
     "output_type": "stream",
     "text": [
      "c:\\Users\\Asus\\anaconda3\\envs\\dev\\Lib\\site-packages\\tqdm\\auto.py:21: TqdmWarning: IProgress not found. Please update jupyter and ipywidgets. See https://ipywidgets.readthedocs.io/en/stable/user_install.html\n",
      "  from .autonotebook import tqdm as notebook_tqdm\n",
      "c:\\Users\\Asus\\anaconda3\\envs\\dev\\Lib\\site-packages\\torch\\_utils.py:831: UserWarning: TypedStorage is deprecated. It will be removed in the future and UntypedStorage will be the only storage class. This should only matter to you if you are using storages directly.  To access UntypedStorage directly, use tensor.untyped_storage() instead of tensor.storage()\n",
      "  return self.fget.__get__(instance, owner)()\n"
     ]
    }
   ],
   "source": [
    "from langchain_community.vectorstores import Chroma\n",
    "from langchain_community.embeddings.sentence_transformer import (\n",
    "    SentenceTransformerEmbeddings,\n",
    ")\n",
    "\n",
    "data_dir = \"./data/chroma_db\"\n",
    "embedding_function = SentenceTransformerEmbeddings(model_name=\"all-MiniLM-L6-v2\")\n",
    "\n",
    "def create_store(collection_name):\n",
    "    return Chroma(persist_directory=data_dir, collection_name=collection_name, embedding_function=embedding_function)\n",
    "\n",
    "def create_stores():\n",
    "    stores = MyVectorStores(\n",
    "        subcategories=create_store(\"subcategories\"),\n",
    "        reprovation_reasons=create_store(\"reprovation_reasons\"),\n",
    "        project_inputs=create_store(\"project_inputs\"),\n",
    "        project_predictions=create_store(\"project_predictions\"),\n",
    "    )\n",
    "    stores_handler = MyVectorStoreHandler(stores)\n",
    "    return stores, stores_handler\n",
    "\n",
    "stores, stores_handler = create_stores()"
   ]
  },
  {
   "cell_type": "code",
   "execution_count": 7,
   "metadata": {},
   "outputs": [],
   "source": [
    "[stores.subcategories.add_texts(ids=[str(subcategory.id)], texts=[subcategory.json()]) for subcategory in get_subcategories()]\n",
    "[stores.reprovation_reasons.add_texts(ids=[str(reason.id)], texts=[reason.json()]) for reason in get_reprovation_reasons()]\n",
    "[stores.project_inputs.add_texts(ids=[str(project_id)], texts=[input.json()]) for project_id, input, _ in examples]\n",
    "[stores.project_predictions.add_texts(ids=[str(project_id)], texts=[output.prediction.json()]) for project_id, _, output in examples]\n",
    "\n",
    "stores, stores_handler = create_stores()"
   ]
  },
  {
   "cell_type": "code",
   "execution_count": 8,
   "metadata": {},
   "outputs": [],
   "source": [
    "from pprint import pprint"
   ]
  },
  {
   "cell_type": "code",
   "execution_count": 9,
   "metadata": {},
   "outputs": [
    {
     "name": "stdout",
     "output_type": "stream",
     "text": [
      "[Subcategory(id=1, name='Design gráfico'),\n",
      " Subcategory(id=8, name='Marketing Digital'),\n",
      " Subcategory(id=0, name='Outra categoria')]\n"
     ]
    }
   ],
   "source": [
    "pprint(stores_handler.subcategories.similarity_search(\"design\", k=3))"
   ]
  },
  {
   "cell_type": "code",
   "execution_count": 10,
   "metadata": {},
   "outputs": [
    {
     "name": "stdout",
     "output_type": "stream",
     "text": [
      "[ReprovationReason(id=2, name='Projeto Duplicado', description='Você publicou um projeto muito parecido ou idêntico a esse a pouco tempo'),\n",
      " ReprovationReason(id=5, name='Projeto Confuso', description='Não está claro o que é pedido no projeto'),\n",
      " ReprovationReason(id=4, name='Conteúdo Não Permitido', description='Há conteúdo não permitido na descrição do projeto (informações de contato, orçamento, solicitação de testes não remunerados, etc)')]\n"
     ]
    }
   ],
   "source": [
    "pprint(stores_handler.reprovation_reasons.similarity_search(\"duplicado\", k=3))"
   ]
  },
  {
   "cell_type": "code",
   "execution_count": 11,
   "metadata": {},
   "outputs": [
    {
     "name": "stdout",
     "output_type": "stream",
     "text": [
      "[ProjectInput(subcategory=1, title='PRECISO DE DESIGNER GRFICO - #26', description='Preciso de desgner grafico para criação de logotipo\\nMeu telefone é 98765-4321', abilities=['Criação de logotipo', 'Ilustração']),\n",
      " ProjectInput(subcategory=1, title='PRECISO DE DESIGNER GRFICO - #21', description='Preciso de desgner grafico para criação de logotipo\\nMeu telefone é 98765-4321', abilities=['Criação de logotipo', 'Ilustração']),\n",
      " ProjectInput(subcategory=1, title='PRECISO DE DESIGNER GRFICO - #46', description='Preciso de desgner grafico para criação de logotipo\\nMeu telefone é 98765-4321', abilities=['Criação de logotipo', 'Ilustração'])]\n"
     ]
    }
   ],
   "source": [
    "pprint(stores_handler.project_inputs.similarity_search(\"desenho\", k=3))"
   ]
  },
  {
   "cell_type": "code",
   "execution_count": 12,
   "metadata": {},
   "outputs": [
    {
     "name": "stdout",
     "output_type": "stream",
     "text": [
      "[ProjectPrediction(approve=True, subcategory=3, title='Escrever artigos para blog - #17', description='Preciso de redator para criação de conteúdo para meu blog https://meublog.com', reprovation_reason=None, reprovation_comment=None),\n",
      " ProjectPrediction(approve=True, subcategory=3, title='Escrever artigos para blog - #27', description='Preciso de redator para criação de conteúdo para meu blog https://meublog.com', reprovation_reason=None, reprovation_comment=None),\n",
      " ProjectPrediction(approve=True, subcategory=3, title='Escrever artigos para blog - #92', description='Preciso de redator para criação de conteúdo para meu blog https://meublog.com', reprovation_reason=None, reprovation_comment=None)]\n"
     ]
    }
   ],
   "source": [
    "pprint(stores_handler.project_predictions.similarity_search(\"escrita\", k=3))"
   ]
  },
  {
   "cell_type": "code",
   "execution_count": 13,
   "metadata": {},
   "outputs": [
    {
     "data": {
      "text/plain": [
       "Subcategory(id=1, name='Design gráfico')"
      ]
     },
     "execution_count": 13,
     "metadata": {},
     "output_type": "execute_result"
    }
   ],
   "source": [
    "stores_handler.subcategories.similarity_search(\"design\")[0]"
   ]
  },
  {
   "cell_type": "code",
   "execution_count": 14,
   "metadata": {},
   "outputs": [
    {
     "data": {
      "text/plain": [
       "ReprovationReason(id=2, name='Projeto Duplicado', description='Você publicou um projeto muito parecido ou idêntico a esse a pouco tempo')"
      ]
     },
     "execution_count": 14,
     "metadata": {},
     "output_type": "execute_result"
    }
   ],
   "source": [
    "stores_handler.reprovation_reasons.similarity_search(\"duplicado\")[0]"
   ]
  },
  {
   "cell_type": "code",
   "execution_count": 15,
   "metadata": {},
   "outputs": [
    {
     "data": {
      "text/plain": [
       "ProjectInput(subcategory=1, title='PRECISO DE DESIGNER GRFICO - #26', description='Preciso de desgner grafico para criação de logotipo\\nMeu telefone é 98765-4321', abilities=['Criação de logotipo', 'Ilustração'])"
      ]
     },
     "execution_count": 15,
     "metadata": {},
     "output_type": "execute_result"
    }
   ],
   "source": [
    "stores_handler.project_inputs.similarity_search(\"desenho\")[0]"
   ]
  },
  {
   "cell_type": "code",
   "execution_count": 16,
   "metadata": {},
   "outputs": [
    {
     "data": {
      "text/plain": [
       "ProjectPrediction(approve=True, subcategory=3, title='Escrever artigos para blog - #17', description='Preciso de redator para criação de conteúdo para meu blog https://meublog.com', reprovation_reason=None, reprovation_comment=None)"
      ]
     },
     "execution_count": 16,
     "metadata": {},
     "output_type": "execute_result"
    }
   ],
   "source": [
    "stores_handler.project_predictions.similarity_search(\"escrita\")[0]"
   ]
  },
  {
   "cell_type": "code",
   "execution_count": 17,
   "metadata": {},
   "outputs": [
    {
     "data": {
      "text/plain": [
       "Subcategory(id=1, name='Design gráfico')"
      ]
     },
     "execution_count": 17,
     "metadata": {},
     "output_type": "execute_result"
    }
   ],
   "source": [
    "stores_handler.subcategories.get_by_id(1)"
   ]
  },
  {
   "cell_type": "code",
   "execution_count": 18,
   "metadata": {},
   "outputs": [
    {
     "data": {
      "text/plain": [
       "ReprovationReason(id=2, name='Projeto Duplicado', description='Você publicou um projeto muito parecido ou idêntico a esse a pouco tempo')"
      ]
     },
     "execution_count": 18,
     "metadata": {},
     "output_type": "execute_result"
    }
   ],
   "source": [
    "stores_handler.reprovation_reasons.get_by_id(2)\n"
   ]
  },
  {
   "cell_type": "code",
   "execution_count": 19,
   "metadata": {},
   "outputs": [
    {
     "data": {
      "text/plain": [
       "ProjectInput(subcategory=0, title='TRADUÇÃO DE TEXTO - #3', description='Preciso de tradutor para traduzir texto de inglês para português. Primeiramente será feito um teste não pago para depois ser decidido o freelancer que fará o projeto.', abilities=None)"
      ]
     },
     "execution_count": 19,
     "metadata": {},
     "output_type": "execute_result"
    }
   ],
   "source": [
    "stores_handler.project_inputs.get_by_id(3)"
   ]
  },
  {
   "cell_type": "code",
   "execution_count": 20,
   "metadata": {},
   "outputs": [
    {
     "data": {
      "text/plain": [
       "ProjectPrediction(approve=True, subcategory=6, title='Assistente virtual para tarefa pontual - #4', description='Preciso de assistente virtual para realizar tarefas administrativas com duração de 2 dias. Deverá saber utilizar planilhas do Excel e ter conexão com a internet. Será feito home office.', reprovation_reason=None, reprovation_comment=None)"
      ]
     },
     "execution_count": 20,
     "metadata": {},
     "output_type": "execute_result"
    }
   ],
   "source": [
    "stores_handler.project_predictions.get_by_id(4)"
   ]
  },
  {
   "cell_type": "markdown",
   "metadata": {},
   "source": [
    "## Create Selector and Examples Prompt"
   ]
  },
  {
   "cell_type": "code",
   "execution_count": 22,
   "metadata": {},
   "outputs": [],
   "source": [
    "# from langchain.prompts import FewShotPromptTemplate, PromptTemplate\n",
    "# from langchain.prompts.example_selector import (\n",
    "#     MaxMarginalRelevanceExampleSelector,\n",
    "#     SemanticSimilarityExampleSelector,\n",
    "# )\n",
    "# from langchain_community.vectorstores import FAISS\n",
    "# from langchain_openai import OpenAIEmbeddings\n",
    "\n",
    "# example_prompt = PromptTemplate(\n",
    "#     input_variables=[\"input\", \"output\"],\n",
    "#     template=\"Input: {input}\\nOutput: {output}\",\n",
    "# )\n"
   ]
  },
  {
   "cell_type": "code",
   "execution_count": 23,
   "metadata": {},
   "outputs": [],
   "source": [
    "# example_selector = MaxMarginalRelevanceExampleSelector.from_examples(\n",
    "#     # The list of examples available to select from.\n",
    "#     examples,\n",
    "#     # The embedding class used to produce embeddings which are used to measure semantic similarity.\n",
    "#     embeddings=OpenAIEmbeddings(),\n",
    "#     # The VectorStore class that is used to store the embeddings and do a similarity search over.\n",
    "#     vectorstore_cls=FAISS,\n",
    "#     # The number of examples to produce.\n",
    "#     k=2,\n",
    "# )\n",
    "# mmr_prompt = FewShotPromptTemplate(\n",
    "#     # We provide an ExampleSelector instead of examples.\n",
    "#     example_selector=example_selector,\n",
    "#     example_prompt=example_prompt,\n",
    "#     prefix=\"Give the antonym of every input\",\n",
    "#     suffix=\"Input: {adjective}\\nOutput:\",\n",
    "#     input_variables=[\"adjective\"],\n",
    "# )"
   ]
  },
  {
   "cell_type": "code",
   "execution_count": 24,
   "metadata": {},
   "outputs": [],
   "source": [
    "# # Input is a feeling, so should select the happy/sad example as the first one\n",
    "# print(mmr_prompt.format(adjective=\"worried\"))"
   ]
  }
 ],
 "metadata": {
  "kernelspec": {
   "display_name": "dev",
   "language": "python",
   "name": "python3"
  },
  "language_info": {
   "codemirror_mode": {
    "name": "ipython",
    "version": 3
   },
   "file_extension": ".py",
   "mimetype": "text/x-python",
   "name": "python",
   "nbconvert_exporter": "python",
   "pygments_lexer": "ipython3",
   "version": "3.11.5"
  }
 },
 "nbformat": 4,
 "nbformat_minor": 2
}
