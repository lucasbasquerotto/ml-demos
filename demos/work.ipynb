{
 "cells": [
  {
   "cell_type": "markdown",
   "metadata": {},
   "source": [
    "# Demo"
   ]
  },
  {
   "cell_type": "markdown",
   "metadata": {},
   "source": [
    "## Load Environment Vars"
   ]
  },
  {
   "cell_type": "code",
   "execution_count": 4,
   "metadata": {},
   "outputs": [
    {
     "data": {
      "text/plain": [
       "True"
      ]
     },
     "execution_count": 4,
     "metadata": {},
     "output_type": "execute_result"
    }
   ],
   "source": [
    "from dotenv import load_dotenv\n",
    "load_dotenv('./.env')"
   ]
  },
  {
   "cell_type": "markdown",
   "metadata": {},
   "source": [
    "## Load Examples"
   ]
  },
  {
   "cell_type": "code",
   "execution_count": 5,
   "metadata": {},
   "outputs": [],
   "source": [
    "from langchain.prompts import FewShotPromptTemplate, PromptTemplate\n",
    "from langchain.prompts.example_selector import (\n",
    "    MaxMarginalRelevanceExampleSelector,\n",
    "    SemanticSimilarityExampleSelector,\n",
    ")\n",
    "from langchain_community.vectorstores import FAISS\n",
    "from langchain_openai import OpenAIEmbeddings\n",
    "\n",
    "example_prompt = PromptTemplate(\n",
    "    input_variables=[\"input\", \"output\"],\n",
    "    template=\"Input: {input}\\nOutput: {output}\",\n",
    ")\n"
   ]
  },
  {
   "cell_type": "markdown",
   "metadata": {},
   "source": [
    "## Create Selector and Examples Prompt"
   ]
  },
  {
   "cell_type": "code",
   "execution_count": 6,
   "metadata": {},
   "outputs": [],
   "source": [
    "example_selector = MaxMarginalRelevanceExampleSelector.from_examples(\n",
    "    # The list of examples available to select from.\n",
    "    examples,\n",
    "    # The embedding class used to produce embeddings which are used to measure semantic similarity.\n",
    "    embeddings=OpenAIEmbeddings(),\n",
    "    # The VectorStore class that is used to store the embeddings and do a similarity search over.\n",
    "    vectorstore_cls=FAISS,\n",
    "    # The number of examples to produce.\n",
    "    k=2,\n",
    ")\n",
    "mmr_prompt = FewShotPromptTemplate(\n",
    "    # We provide an ExampleSelector instead of examples.\n",
    "    example_selector=example_selector,\n",
    "    example_prompt=example_prompt,\n",
    "    prefix=\"Give the antonym of every input\",\n",
    "    suffix=\"Input: {adjective}\\nOutput:\",\n",
    "    input_variables=[\"adjective\"],\n",
    ")"
   ]
  },
  {
   "cell_type": "code",
   "execution_count": 7,
   "metadata": {},
   "outputs": [
    {
     "name": "stdout",
     "output_type": "stream",
     "text": [
      "Give the antonym of every input\n",
      "\n",
      "Input: happy\n",
      "Output: sad\n",
      "\n",
      "Input: windy\n",
      "Output: calm\n",
      "\n",
      "Input: worried\n",
      "Output:\n"
     ]
    }
   ],
   "source": [
    "# Input is a feeling, so should select the happy/sad example as the first one\n",
    "print(mmr_prompt.format(adjective=\"worried\"))"
   ]
  },
  {
   "cell_type": "markdown",
   "metadata": {},
   "source": [
    "## Data Models"
   ]
  },
  {
   "cell_type": "code",
   "execution_count": null,
   "metadata": {},
   "outputs": [],
   "source": [
    "from langchain_core.pydantic_v1 import BaseModel, Field\n",
    "\n",
    "class ProjectInput(BaseModel):\n",
    "    \"\"\"The project data defined by the client (may need changes).\"\"\"\n",
    "    \n",
    "    subcategory: int = Field(description=\"The subcategory of the project.\")\n",
    "    title: str = Field(description=\"The title of the project.\")\n",
    "    description: str = Field(description=\"The description of the project.\")\n",
    "    abilities: list[str] = Field(description=\"The abilities desired for the project.\")\n",
    "    \n",
    "class ProjectPrediction(BaseModel):\n",
    "    \"\"\"The predicted project data based on the input. Some fields might be left undefined depending on the project being approved or not.\"\"\"\n",
    "    \n",
    "    approve: bool = Field(description=\"Whether the project should be approved or not.\")\n",
    "    subcategory: int | None = Field(description=\"The subcategory of the project (when approved).\")\n",
    "    title: str | None = Field(description=\"The title of the project (when approved).\", ge=25, le=75)\n",
    "    description: str | None = Field(description=\"The description of the project (when approved).\", ge=50, le=2000)\n",
    "    reprovation_reason: int | None = Field(description=\"The reason for the project to be reproved (when reproved).\")\n",
    "    reprovation_comment: str | None = Field(description=\"The comment for the reprovation (when reproved).\")\n",
    "    \n",
    "class ProjectInfo(BaseModel):\n",
    "    \"\"\"Additional information about the project.\"\"\"\n",
    "    \n",
    "    reasoning: str = Field(description=\"The reasoning behind the prediction.\")\n",
    "    confidence: float = Field(description=\"The confidence of the prediction.\", ge=0, le=1)\n",
    "    bot_generated: bool = Field(description=\"How likely is for the project to be bot generated.\", ge=0, le=1)\n",
    "    \n",
    "    \n",
    "class ProjectOutput(BaseModel):\n",
    "    \"\"\"The predicted project data based on the input, along with additional information.\"\"\"\n",
    "    \n",
    "    prediction: ProjectPrediction = Field(description=\"The predicted project data based on the input.\")\n",
    "    info: ProjectInfo = Field(description=\"Additional information about the project.\")"
   ]
  },
  {
   "cell_type": "markdown",
   "metadata": {},
   "source": [
    "## Stores"
   ]
  },
  {
   "cell_type": "code",
   "execution_count": null,
   "metadata": {},
   "outputs": [],
   "source": [
    "def get_full_example(idx):\n",
    "    input = ProjectInput(\n",
    "        subcategory=1,\n",
    "        title=f\"PRECISO DE DESIGNER GRFICO - #{idx + 1}\",\n",
    "        description=f\"Preciso de desgner grafico para criação de logotipo\\nMeu telefone é 98765-4321\",\n",
    "        abilities=[\"Habilidade 1\", \"Habilidade 2\", \"Habilidade 3\"],\n",
    "    )\n",
    "    prediction = ProjectPrediction(\n",
    "        subcategory=1,\n",
    "        title=f\"Designer gráfico para criação de Logotipo - #{idx + 1}\",\n",
    "        description=f\"Preciso de designer gráfico para criação de logotipo.\",\n",
    "    )\n",
    "    info = ProjectInfo(\n",
    "        reasoning=\"Alteração do título para ficar mais conciso e ajustes em sua capitalização. Correções ortográficas na descrição. Remoção de telefone de contato.\",\n",
    "        confidence=0.8,\n",
    "        bot_generated=0.4,\n",
    "    )\n",
    "    output = ProjectOutput(prediction=prediction, info=info)\n",
    "    return input, output\n",
    "\n",
    "def get_example(idx):\n",
    "    input, output = get_full_example(idx)\n",
    "    prediction = output.prediction\n",
    "    return input, prediction\n",
    "\n",
    "# Examples of a pretend task of creating antonyms.\n",
    "examples = [get_example(i) for i in range(1000)]"
   ]
  },
  {
   "cell_type": "code",
   "execution_count": null,
   "metadata": {},
   "outputs": [],
   "source": [
    "from langchain.storage import InMemoryByteStore\n",
    "\n",
    "store = InMemoryByteStore()\n",
    "\n",
    "store.mset([(\"k1\", b\"v1\"), (\"k2\", b\"v2\")])\n",
    "print(store.mget([\"k1\", \"k2\"]))"
   ]
  }
 ],
 "metadata": {
  "kernelspec": {
   "display_name": "dev",
   "language": "python",
   "name": "python3"
  },
  "language_info": {
   "codemirror_mode": {
    "name": "ipython",
    "version": 3
   },
   "file_extension": ".py",
   "mimetype": "text/x-python",
   "name": "python",
   "nbconvert_exporter": "python",
   "pygments_lexer": "ipython3",
   "version": "3.11.5"
  }
 },
 "nbformat": 4,
 "nbformat_minor": 2
}
