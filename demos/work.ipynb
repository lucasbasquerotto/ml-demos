{
 "cells": [
  {
   "cell_type": "markdown",
   "metadata": {},
   "source": [
    "# Demo"
   ]
  },
  {
   "cell_type": "markdown",
   "metadata": {},
   "source": [
    "## Load Environment Vars"
   ]
  },
  {
   "cell_type": "code",
   "execution_count": 1,
   "metadata": {},
   "outputs": [
    {
     "data": {
      "text/plain": [
       "True"
      ]
     },
     "execution_count": 1,
     "metadata": {},
     "output_type": "execute_result"
    }
   ],
   "source": [
    "from dotenv import load_dotenv\n",
    "load_dotenv('../.env')"
   ]
  },
  {
   "cell_type": "markdown",
   "metadata": {},
   "source": [
    "## Data Models"
   ]
  },
  {
   "cell_type": "code",
   "execution_count": 2,
   "metadata": {},
   "outputs": [],
   "source": [
    "from langchain_core.pydantic_v1 import BaseModel, Field\n",
    "\n",
    "class Subcategory(BaseModel):\n",
    "    \"\"\"A project subcategory.\"\"\"\n",
    "    \n",
    "    id: int = Field(description=\"The subcategory id.\")\n",
    "    name: str = Field(description=\"The subcategory name.\")\n",
    "\n",
    "class ReprovationReason(BaseModel):\n",
    "    \"\"\"A project reprovation reason.\"\"\"\n",
    "    \n",
    "    id: int = Field(description=\"The reprovation reason id.\")\n",
    "    name: str = Field(description=\"The reprovation reason name.\")\n",
    "    description: str = Field(description=\"The reprovation reason description.\")\n",
    "    other: bool = Field(description=\"Whether the reprovation reason is an 'other' reason.\", default=False)\n",
    "\n",
    "class ProjectInput(BaseModel):\n",
    "    \"\"\"The project data defined by the client (may need changes).\"\"\"\n",
    "    \n",
    "    subcategory: int = Field(description=\"The subcategory of the project.\")\n",
    "    title: str = Field(description=\"The title of the project.\")\n",
    "    description: str = Field(description=\"The description of the project.\")\n",
    "    abilities: list[str] | None = Field(description=\"The abilities desired for the project.\")\n",
    "\n",
    "    def format(self):\n",
    "        abilities_section = ('\\n\\nHabilidades: ' + ', '.join(self.abilities)) if len(self.abilities or []) else ''\n",
    "        return f'{self.title}{abilities_section}\\n\\n{self.description}'\n",
    "    \n",
    "class ProjectPrediction(BaseModel):\n",
    "    \"\"\"The predicted project data based on the input. Some fields might be left undefined depending on the project being approved or not.\"\"\"\n",
    "    \n",
    "    approve: bool = Field(description=\"Whether the project should be approved or not.\")\n",
    "    subcategory: int | None = Field(description=\"The subcategory of the project (when approved).\")\n",
    "    title: str | None = Field(description=\"The title of the project (when approved).\", min_length=25, max_length=75)\n",
    "    description: str | None = Field(description=\"The description of the project (when approved).\", min_length=50, max_length=2000)\n",
    "    reprovation_reason: int | None = Field(description=\"The reason for the project to be reproved (when reproved).\")\n",
    "    reprovation_comment: str | None = Field(description=\"The comment for the reprovation (when reproved).\")\n",
    "    \n",
    "class ProjectInfo(BaseModel):\n",
    "    \"\"\"Additional information about the project.\"\"\"\n",
    "    \n",
    "    reasoning: str = Field(description=\"The reasoning behind the prediction.\")\n",
    "    confidence: float = Field(description=\"The confidence of the prediction.\", ge=0, le=1)\n",
    "    bot_generated: float = Field(description=\"How likely is for the project to be bot generated.\", ge=0, le=1)\n",
    "    \n",
    "    \n",
    "class ProjectOutput(BaseModel):\n",
    "    \"\"\"The predicted project data based on the input, along with additional information.\"\"\"\n",
    "    \n",
    "    prediction: ProjectPrediction = Field(description=\"The predicted project data based on the input.\")\n",
    "    info: ProjectInfo = Field(description=\"Additional information about the project.\")\n",
    "    \n",
    "    \n",
    "class ProjectApprovation(BaseModel):\n",
    "    \"\"\"The project input and prediction for the approvation process.\"\"\"\n",
    "    \n",
    "    input: ProjectInput = Field(description=\"The project input.\")\n",
    "    prediction: ProjectPrediction = Field(description=\"The predicted project data based on the input.\")"
   ]
  },
  {
   "cell_type": "markdown",
   "metadata": {},
   "source": [
    "## Create Store"
   ]
  },
  {
   "cell_type": "code",
   "execution_count": 3,
   "metadata": {},
   "outputs": [],
   "source": [
    "from langchain_core.vectorstores import VectorStore\n",
    "import typing\n",
    "\n",
    "T = typing.TypeVar('T')\n",
    "\n",
    "class MyVectorStores:\n",
    "    def __init__(\n",
    "            self,\n",
    "            subcategories: VectorStore,\n",
    "            reprovation_reasons: VectorStore,\n",
    "            project_approvation: VectorStore):\n",
    "        self.subcategories = subcategories\n",
    "        self.reprovation_reasons = reprovation_reasons\n",
    "        self.project_approvation = project_approvation\n",
    "\n",
    "class VectorStoreHandler(typing.Generic[T]):\n",
    "    def __init__(self, store: VectorStore, json_parser: typing.Callable[[str], T]):\n",
    "        self.store = store\n",
    "        self.json_parser = json_parser\n",
    "        \n",
    "    def get_by_id(self, id: int):\n",
    "        data = self.store.get(ids=[str(id)])\n",
    "        metadatas = data['metadatas']\n",
    "        metadata = metadatas[0] if len(metadatas or []) else None\n",
    "        json_data = metadata['json'] if metadata else None\n",
    "        data = self.json_parser(json_data) if json_data else None\n",
    "        return data\n",
    "    \n",
    "    def similarity_search(\n",
    "            self, \n",
    "            query: str, \n",
    "            k: int = 5):\n",
    "        documents = self.store.similarity_search(query, k=k)\n",
    "        return list(map(lambda d: self.json_parser(d.metadata['json']), documents))\n",
    "    \n",
    "    async def asimilarity_search(\n",
    "            self, \n",
    "            query: str, \n",
    "            k: int = 5):\n",
    "        documents = await self.store.asimilarity_search(query, k=k)\n",
    "        return list(map(lambda d: self.json_parser(d.metadata['json']), documents))\n",
    "    \n",
    "    def max_marginal_relevance_search(\n",
    "            self, \n",
    "            query: str, \n",
    "            k: int = 5):\n",
    "        documents = self.store.max_marginal_relevance_search(query, k=k)\n",
    "        return list(map(lambda d: self.json_parser(d.metadata['json']), documents))\n",
    "    \n",
    "    async def amax_marginal_relevance_search(\n",
    "            self, \n",
    "            query: str, \n",
    "            k: int = 5):\n",
    "        documents = await self.store.amax_marginal_relevance_search(query, k=k)\n",
    "        return list(map(lambda d: self.json_parser(d.metadata['json']), documents))\n",
    "\n",
    "class MyVectorStoreHandler:\n",
    "    def __init__(self, stores: MyVectorStores):\n",
    "        self.subcategories = VectorStoreHandler(store=stores.subcategories, json_parser=Subcategory.parse_raw)\n",
    "        self.reprovation_reasons = VectorStoreHandler(store=stores.reprovation_reasons, json_parser=ReprovationReason.parse_raw)\n",
    "        self.project_approvation = VectorStoreHandler(store=stores.project_approvation, json_parser=ProjectApprovation.parse_raw)"
   ]
  },
  {
   "cell_type": "code",
   "execution_count": 4,
   "metadata": {},
   "outputs": [
    {
     "name": "stderr",
     "output_type": "stream",
     "text": [
      "c:\\Users\\Asus\\anaconda3\\envs\\dev\\Lib\\site-packages\\tqdm\\auto.py:21: TqdmWarning: IProgress not found. Please update jupyter and ipywidgets. See https://ipywidgets.readthedocs.io/en/stable/user_install.html\n",
      "  from .autonotebook import tqdm as notebook_tqdm\n",
      "c:\\Users\\Asus\\anaconda3\\envs\\dev\\Lib\\site-packages\\torch\\_utils.py:831: UserWarning: TypedStorage is deprecated. It will be removed in the future and UntypedStorage will be the only storage class. This should only matter to you if you are using storages directly.  To access UntypedStorage directly, use tensor.untyped_storage() instead of tensor.storage()\n",
      "  return self.fget.__get__(instance, owner)()\n"
     ]
    }
   ],
   "source": [
    "from langchain_community.vectorstores import Chroma\n",
    "from langchain_community.embeddings.sentence_transformer import (\n",
    "    SentenceTransformerEmbeddings,\n",
    ")\n",
    "\n",
    "data_dir = \"./data/chroma_db\"\n",
    "embedding_function = SentenceTransformerEmbeddings(model_name=\"all-MiniLM-L6-v2\")\n",
    "\n",
    "def create_store(collection_name):\n",
    "    return Chroma(persist_directory=data_dir, collection_name=collection_name, embedding_function=embedding_function)\n",
    "\n",
    "def create_stores():\n",
    "    stores = MyVectorStores(\n",
    "        subcategories=create_store(\"subcategories\"),\n",
    "        reprovation_reasons=create_store(\"reprovation_reasons\"),\n",
    "        project_approvation=create_store(\"project_approvation\"),\n",
    "    )\n",
    "    stores_handler = MyVectorStoreHandler(stores)\n",
    "    return stores, stores_handler\n",
    "\n",
    "stores, stores_handler = create_stores()"
   ]
  },
  {
   "cell_type": "markdown",
   "metadata": {},
   "source": [
    "## Examples"
   ]
  },
  {
   "cell_type": "code",
   "execution_count": 5,
   "metadata": {},
   "outputs": [],
   "source": [
    "def get_subcategories():\n",
    "    return [\n",
    "        Subcategory(id=1, name=\"Design gráfico\"),\n",
    "        Subcategory(id=2, name=\"Desenvolvimento Web\"),\n",
    "        Subcategory(id=3, name=\"Redação\"),\n",
    "        Subcategory(id=4, name=\"Edição de Vídeo\"),\n",
    "        Subcategory(id=5, name=\"Tradução\"),\n",
    "        Subcategory(id=6, name=\"Assistente Virtual\"),\n",
    "        Subcategory(id=7, name=\"Animação\"),\n",
    "        Subcategory(id=8, name=\"Marketing Digital\"),\n",
    "        Subcategory(id=9, name=\"Ilustração\"),\n",
    "    ]\n",
    "\n",
    "def get_reprovation_reasons():\n",
    "    return [\n",
    "        ReprovationReason(id=1, name=\"Outro Motivo\", description=\"\", other=True),\n",
    "        ReprovationReason(id=2, name=\"Projeto Duplicado\", description=\"Você publicou um projeto muito parecido ou idêntico a esse a pouco tempo\"),\n",
    "        ReprovationReason(id=3, name=\"Proposta para Trabalhar\", description=\"Se o seu objetivo é encontrar trabalhos, por favor, altere o seu perfil para o de Freelancer\"),\n",
    "        ReprovationReason(id=4, name=\"Conteúdo Não Permitido\", description=\"Há conteúdo não permitido na descrição do projeto (informações de contato, orçamento, solicitação de testes não remunerados, etc)\"),\n",
    "        ReprovationReason(id=5, name=\"Projeto Confuso\", description=\"Não está claro o que é pedido no projeto\"),\n",
    "        ReprovationReason(id=6, name=\"Poucos Detalhes\", description=\"Os freelancers precisam saber detalhes para que possam enviar as suas propostas. Seja o mais específico possível\"),\n",
    "        ReprovationReason(id=7, name=\"Pagamento Comissionado\", description=\"Projetos com pagamentos parciais ou totais via comissão não são permitidos\"),\n",
    "        ReprovationReason(id=8, name=\"Requer trabalho não pago\", description=\"Todo trabalho deve ser pago\"),\n",
    "        ReprovationReason(id=9, name=\"Troca de trabalho\", description=\"Permutas não são permitidas\"),\n",
    "        ReprovationReason(id=10, name=\"Vaga de emprego\", description=\"Nosso site é somente para trabalhos temporários. Não podemos te ajudar a encontrar profissionais para ocupar cargos na sua empresa\"),\n",
    "        ReprovationReason(id=11, name=\"Trabalhos acadêmicos\", description=\"O seu trabalho não pode ser feito por outra pessoa. Valorize a sua educação\"),\n",
    "        ReprovationReason(id=12, name=\"Ilegal\", description=\"Está solicitando algo que é ilegal ou que será utilizado para fins não permitidos\"),\n",
    "        ReprovationReason(id=13, name=\"Sem demanda\", description=\"Está recrutando profissionais para parceria ou para demandas futuras\"),\n",
    "        ReprovationReason(id=14, name=\"Não Permitido\", description=\"Esse tipo de trabalho não é permitido\"),\n",
    "    ]\n",
    "\n",
    "def get_projects_approvation_full(idx):\n",
    "    project_id = idx + 1\n",
    "    \n",
    "    if idx % 5 == 0:\n",
    "        input = ProjectInput(\n",
    "            subcategory=1,\n",
    "            title=f\"PRECISO DE DESIGNER GRFICO - #{project_id}\",\n",
    "            description=f\"Preciso de desgner grafico para criação de logotipo\\nMeu telefone é 98765-4321\",\n",
    "            abilities=[\"Criação de logotipo\", \"Ilustração\"],\n",
    "        )\n",
    "        prediction = ProjectPrediction(\n",
    "            approve=True,\n",
    "            subcategory=1,\n",
    "            title=f\"Designer gráfico para criação de Logotipo - #{project_id}\",\n",
    "            description=f\"Preciso de designer gráfico para criação de logotipo.\",\n",
    "        )\n",
    "        info = ProjectInfo(\n",
    "            reasoning=\"Alteração do título para ficar mais conciso e ajustes em sua capitalização. Correções ortográficas na descrição. Remoção de telefone de contato.\",\n",
    "            confidence=0.8,\n",
    "            bot_generated=0.4,\n",
    "        )\n",
    "    elif idx % 5 == 1:\n",
    "        input = ProjectInput(\n",
    "            subcategory=0,\n",
    "            title=f\"ESCREVER ARTIGOS PARA BLOG - #{project_id}\",\n",
    "            description=f\"Preciso de redaor para criação de conteúdo para meu blog https://meublog.com\",\n",
    "        )\n",
    "        prediction = ProjectPrediction(\n",
    "            approve=True,\n",
    "            subcategory=3,\n",
    "            title=f\"Escrever artigos para blog - #{project_id}\",\n",
    "            description=f\"Preciso de redator para criação de conteúdo para meu blog https://meublog.com\",\n",
    "        )\n",
    "        info = ProjectInfo(\n",
    "            reasoning=\"Ajustes na capitalização do título. Correção de erro ortográfico na descrição.\",\n",
    "            confidence=0.7,\n",
    "            bot_generated=0.3,\n",
    "        )\n",
    "    elif idx % 5 == 2:\n",
    "        input = ProjectInput(\n",
    "            subcategory=0,\n",
    "            title=f\"TRADUÇÃO DE TEXTO - #{project_id}\",\n",
    "            description=f\"Preciso de tradutor para traduzir texto de inglês para português. Primeiramente será feito um teste não pago para depois ser decidido o freelancer que fará o projeto.\",\n",
    "        )\n",
    "        prediction = ProjectPrediction(\n",
    "            approve=False,\n",
    "            reprovation_reason=8,            \n",
    "        )\n",
    "        info = ProjectInfo(\n",
    "            reasoning=\"Testes não pagos não são permitidos.\",\n",
    "            confidence=0.8,\n",
    "            bot_generated=0.3,\n",
    "        )\n",
    "    elif idx % 5 == 3:\n",
    "        input = ProjectInput(\n",
    "            subcategory=8,\n",
    "            title=f\"Assistente virtual para tarefa pontual - #{project_id}\",\n",
    "            description=f\"Preciso de assistente virtual para realizar tarefas administrativas com duração de 2 dias. Deverá saber utilizar planilhas do Excel e ter conexão com a internet. Será feito home office.\",\n",
    "        )\n",
    "        prediction = ProjectPrediction(\n",
    "            approve=True,\n",
    "            subcategory=6,\n",
    "            title=f\"Assistente virtual para tarefa pontual - #{project_id}\",\n",
    "            description=f\"Preciso de assistente virtual para realizar tarefas administrativas com duração de 2 dias. Deverá saber utilizar planilhas do Excel e ter conexão com a internet. Será feito home office.\",\n",
    "        )\n",
    "        info = ProjectInfo(\n",
    "            reasoning=\"Nenhuma alteração necessária.\",\n",
    "            confidence=0.9,\n",
    "            bot_generated=0.2,\n",
    "        )\n",
    "    elif idx % 5 == 4:\n",
    "        input = ProjectInput(\n",
    "            subcategory=0,\n",
    "            title=f\"Crawler de Website - #{project_id}\",\n",
    "            description=f\"Preciso de alguém que faça um crawler para coletar informações de um website. Deverá acessar a API e burlar o CAPTCHA, se necessário.\",\n",
    "        )\n",
    "        prediction = ProjectPrediction(\n",
    "            approve=False,\n",
    "            reprovation_reason=12,\n",
    "            reprovation_comment=\"Solicitação de algo não permitido (burlar CAPTCHA).\",\n",
    "        )\n",
    "        info = ProjectInfo(\n",
    "            reasoning=\"Solicitação de algo não permitido (burlar CAPTCHA).\",\n",
    "            confidence=0.8,\n",
    "            bot_generated=0.3,\n",
    "        )\n",
    "\n",
    "    output = ProjectOutput(prediction=prediction, info=info)\n",
    "    return project_id, input, output\n",
    "\n",
    "def get_full_examples(amount: int):\n",
    "    return [get_projects_approvation_full(i) for i in range(amount)]\n",
    "\n"
   ]
  },
  {
   "cell_type": "markdown",
   "metadata": {},
   "source": [
    "## Load Examples"
   ]
  },
  {
   "cell_type": "code",
   "execution_count": 6,
   "metadata": {},
   "outputs": [],
   "source": [
    "# Examples of a pretend task of creating antonyms.\n",
    "examples = get_full_examples(100)"
   ]
  },
  {
   "cell_type": "code",
   "execution_count": 7,
   "metadata": {},
   "outputs": [
    {
     "data": {
      "text/plain": [
       "[(1,\n",
       "  ProjectInput(subcategory=1, title='PRECISO DE DESIGNER GRFICO - #1', description='Preciso de desgner grafico para criação de logotipo\\nMeu telefone é 98765-4321', abilities=['Criação de logotipo', 'Ilustração']),\n",
       "  ProjectOutput(prediction=ProjectPrediction(approve=True, subcategory=1, title='Designer gráfico para criação de Logotipo - #1', description='Preciso de designer gráfico para criação de logotipo.', reprovation_reason=None, reprovation_comment=None), info=ProjectInfo(reasoning='Alteração do título para ficar mais conciso e ajustes em sua capitalização. Correções ortográficas na descrição. Remoção de telefone de contato.', confidence=0.8, bot_generated=0.4))),\n",
       " (2,\n",
       "  ProjectInput(subcategory=0, title='ESCREVER ARTIGOS PARA BLOG - #2', description='Preciso de redaor para criação de conteúdo para meu blog https://meublog.com', abilities=None),\n",
       "  ProjectOutput(prediction=ProjectPrediction(approve=True, subcategory=3, title='Escrever artigos para blog - #2', description='Preciso de redator para criação de conteúdo para meu blog https://meublog.com', reprovation_reason=None, reprovation_comment=None), info=ProjectInfo(reasoning='Ajustes na capitalização do título. Correção de erro ortográfico na descrição.', confidence=0.7, bot_generated=0.3)))]"
      ]
     },
     "execution_count": 7,
     "metadata": {},
     "output_type": "execute_result"
    }
   ],
   "source": [
    "examples[:2]"
   ]
  },
  {
   "cell_type": "code",
   "execution_count": 8,
   "metadata": {},
   "outputs": [],
   "source": [
    "[\n",
    "    stores.subcategories.add_texts(\n",
    "        ids=[str(item.id)], \n",
    "        texts=[item.name], \n",
    "        metadatas=[dict(id=item.id, json=item.json(ensure_ascii=False))]\n",
    "    ) for item in get_subcategories()\n",
    "]\n",
    "[\n",
    "    stores.reprovation_reasons.add_texts(\n",
    "        ids=[str(item.id)], \n",
    "        texts=[item.name], \n",
    "        metadatas=[dict(id=item.id, json=item.json(ensure_ascii=False))]\n",
    "    ) for item in get_reprovation_reasons()\n",
    "]\n",
    "[\n",
    "    stores.project_approvation.add_texts(\n",
    "        ids=[str(project_id)], \n",
    "        texts=[data.input.format()], \n",
    "        metadatas=[dict(id=project_id, json=data.json(ensure_ascii=False))]\n",
    "    ) for project_id, data in [\n",
    "        (project_id, ProjectApprovation(input=input, prediction=output.prediction)) \n",
    "        for project_id, input, output in examples\n",
    "    ]\n",
    "]\n",
    "\n",
    "stores, stores_handler = create_stores()"
   ]
  },
  {
   "cell_type": "markdown",
   "metadata": {},
   "source": [
    "## Print examples loaded from the stores"
   ]
  },
  {
   "cell_type": "code",
   "execution_count": 9,
   "metadata": {},
   "outputs": [],
   "source": [
    "from pprint import pprint"
   ]
  },
  {
   "cell_type": "code",
   "execution_count": 10,
   "metadata": {},
   "outputs": [
    {
     "name": "stdout",
     "output_type": "stream",
     "text": [
      "[Subcategory(id=1, name='Design gráfico'),\n",
      " Subcategory(id=8, name='Marketing Digital'),\n",
      " Subcategory(id=7, name='Animação')]\n"
     ]
    }
   ],
   "source": [
    "pprint(stores_handler.subcategories.similarity_search(\"design\", k=3))"
   ]
  },
  {
   "cell_type": "code",
   "execution_count": 11,
   "metadata": {},
   "outputs": [
    {
     "name": "stdout",
     "output_type": "stream",
     "text": [
      "[ReprovationReason(id=2, name='Projeto Duplicado', description='Você publicou um projeto muito parecido ou idêntico a esse a pouco tempo', other=False),\n",
      " ReprovationReason(id=5, name='Projeto Confuso', description='Não está claro o que é pedido no projeto', other=False),\n",
      " ReprovationReason(id=7, name='Pagamento Comissionado', description='Projetos com pagamentos parciais ou totais via comissão não são permitidos', other=False)]\n"
     ]
    }
   ],
   "source": [
    "pprint(stores_handler.reprovation_reasons.similarity_search(\"duplicado\", k=3))"
   ]
  },
  {
   "cell_type": "code",
   "execution_count": 12,
   "metadata": {},
   "outputs": [
    {
     "name": "stdout",
     "output_type": "stream",
     "text": [
      "[ProjectApprovation(input=ProjectInput(subcategory=8, title='Assistente virtual para tarefa pontual - #74', description='Preciso de assistente virtual para realizar tarefas administrativas com duração de 2 dias. Deverá saber utilizar planilhas do Excel e ter conexão com a internet. Será feito home office.', abilities=None), prediction=ProjectPrediction(approve=True, subcategory=6, title='Assistente virtual para tarefa pontual - #74', description='Preciso de assistente virtual para realizar tarefas administrativas com duração de 2 dias. Deverá saber utilizar planilhas do Excel e ter conexão com a internet. Será feito home office.', reprovation_reason=None, reprovation_comment=None)),\n",
      " ProjectApprovation(input=ProjectInput(subcategory=8, title='Assistente virtual para tarefa pontual - #49', description='Preciso de assistente virtual para realizar tarefas administrativas com duração de 2 dias. Deverá saber utilizar planilhas do Excel e ter conexão com a internet. Será feito home office.', abilities=None), prediction=ProjectPrediction(approve=True, subcategory=6, title='Assistente virtual para tarefa pontual - #49', description='Preciso de assistente virtual para realizar tarefas administrativas com duração de 2 dias. Deverá saber utilizar planilhas do Excel e ter conexão com a internet. Será feito home office.', reprovation_reason=None, reprovation_comment=None)),\n",
      " ProjectApprovation(input=ProjectInput(subcategory=0, title='TRADUÇÃO DE TEXTO - #78', description='Preciso de tradutor para traduzir texto de inglês para português. Primeiramente será feito um teste não pago para depois ser decidido o freelancer que fará o projeto.', abilities=None), prediction=ProjectPrediction(approve=False, subcategory=None, title=None, description=None, reprovation_reason=8, reprovation_comment=None))]\n"
     ]
    }
   ],
   "source": [
    "pprint(stores_handler.project_approvation.similarity_search(\"desenho\", k=3))"
   ]
  },
  {
   "cell_type": "code",
   "execution_count": 13,
   "metadata": {},
   "outputs": [
    {
     "data": {
      "text/plain": [
       "Subcategory(id=1, name='Design gráfico')"
      ]
     },
     "execution_count": 13,
     "metadata": {},
     "output_type": "execute_result"
    }
   ],
   "source": [
    "stores_handler.subcategories.similarity_search(\"design\")[0]"
   ]
  },
  {
   "cell_type": "code",
   "execution_count": 14,
   "metadata": {},
   "outputs": [
    {
     "data": {
      "text/plain": [
       "ReprovationReason(id=2, name='Projeto Duplicado', description='Você publicou um projeto muito parecido ou idêntico a esse a pouco tempo', other=False)"
      ]
     },
     "execution_count": 14,
     "metadata": {},
     "output_type": "execute_result"
    }
   ],
   "source": [
    "stores_handler.reprovation_reasons.similarity_search(\"duplicado\")[0]"
   ]
  },
  {
   "cell_type": "code",
   "execution_count": 15,
   "metadata": {},
   "outputs": [
    {
     "data": {
      "text/plain": [
       "ProjectApprovation(input=ProjectInput(subcategory=8, title='Assistente virtual para tarefa pontual - #74', description='Preciso de assistente virtual para realizar tarefas administrativas com duração de 2 dias. Deverá saber utilizar planilhas do Excel e ter conexão com a internet. Será feito home office.', abilities=None), prediction=ProjectPrediction(approve=True, subcategory=6, title='Assistente virtual para tarefa pontual - #74', description='Preciso de assistente virtual para realizar tarefas administrativas com duração de 2 dias. Deverá saber utilizar planilhas do Excel e ter conexão com a internet. Será feito home office.', reprovation_reason=None, reprovation_comment=None))"
      ]
     },
     "execution_count": 15,
     "metadata": {},
     "output_type": "execute_result"
    }
   ],
   "source": [
    "stores_handler.project_approvation.similarity_search(\"desenho\")[0]"
   ]
  },
  {
   "cell_type": "code",
   "execution_count": 16,
   "metadata": {},
   "outputs": [
    {
     "data": {
      "text/plain": [
       "Subcategory(id=1, name='Design gráfico')"
      ]
     },
     "execution_count": 16,
     "metadata": {},
     "output_type": "execute_result"
    }
   ],
   "source": [
    "stores_handler.subcategories.get_by_id(1)"
   ]
  },
  {
   "cell_type": "code",
   "execution_count": 17,
   "metadata": {},
   "outputs": [
    {
     "data": {
      "text/plain": [
       "ReprovationReason(id=2, name='Projeto Duplicado', description='Você publicou um projeto muito parecido ou idêntico a esse a pouco tempo', other=False)"
      ]
     },
     "execution_count": 17,
     "metadata": {},
     "output_type": "execute_result"
    }
   ],
   "source": [
    "stores_handler.reprovation_reasons.get_by_id(2)"
   ]
  },
  {
   "cell_type": "code",
   "execution_count": 18,
   "metadata": {},
   "outputs": [
    {
     "data": {
      "text/plain": [
       "ProjectApprovation(input=ProjectInput(subcategory=0, title='TRADUÇÃO DE TEXTO - #3', description='Preciso de tradutor para traduzir texto de inglês para português. Primeiramente será feito um teste não pago para depois ser decidido o freelancer que fará o projeto.', abilities=None), prediction=ProjectPrediction(approve=False, subcategory=None, title=None, description=None, reprovation_reason=8, reprovation_comment=None))"
      ]
     },
     "execution_count": 18,
     "metadata": {},
     "output_type": "execute_result"
    }
   ],
   "source": [
    "stores_handler.project_approvation.get_by_id(3)"
   ]
  },
  {
   "cell_type": "markdown",
   "metadata": {},
   "source": [
    "## Create the ids mapper prompt"
   ]
  },
  {
   "cell_type": "code",
   "execution_count": 19,
   "metadata": {},
   "outputs": [],
   "source": [
    "def subcategories_prompt(input_query: str, k=50):    \n",
    "    filtered = stores_handler.subcategories.similarity_search(input_query, k=min(k, len(stores.subcategories.get(limit=k)['ids'])))\n",
    "    filtered.insert(0, Subcategory(id=0, name=\"Outra categoria\"))\n",
    "    result = 'Subcategories ([ID]: [NAME]):\\n\\n' + '\\n'.join([f\"{item.id}: {item.name}\" for item in filtered])\n",
    "    return result"
   ]
  },
  {
   "cell_type": "code",
   "execution_count": 20,
   "metadata": {},
   "outputs": [],
   "source": [
    "def reprovation_reasons_prompt(input_query: str, k=50):\n",
    "    filtered = stores_handler.reprovation_reasons.similarity_search(input_query, k=min(k, len(stores.reprovation_reasons.get(limit=k)['ids'])))\n",
    "    \n",
    "    if not any(item.other for item in filtered):\n",
    "        filtered.insert(0, ReprovationReason(id=1, name=\"Outro Motivo\", description=\"\"))\n",
    "\n",
    "    result = 'Reprovation reasons ([ID]: [NAME] (DESCRIPTION)):\\n\\n' + '\\n'.join(\n",
    "        [f\"{item.id}: {item.name} ({item.description or '-'})\" for item in filtered])\n",
    "    \n",
    "    return result"
   ]
  },
  {
   "cell_type": "markdown",
   "metadata": {},
   "source": [
    "## Create the examples prompt"
   ]
  },
  {
   "cell_type": "code",
   "execution_count": 21,
   "metadata": {},
   "outputs": [],
   "source": [
    "def examples_prompt(input_query: str, k=5):\n",
    "    filtered_examples = stores_handler.project_approvation.similarity_search(input_query, k=k)\n",
    "\n",
    "    result = 'Partial examples of inputs and predictions (used for the complete output):\\n\\n' + '\\n\\n'.join([\n",
    "        f\"Input: {example.input.json(ensure_ascii=False)}\\nPrediction: {example.prediction.json(ensure_ascii=False)}\" \n",
    "        for example in filtered_examples\n",
    "    ])\n",
    "\n",
    "    return result"
   ]
  },
  {
   "cell_type": "code",
   "execution_count": 22,
   "metadata": {},
   "outputs": [],
   "source": [
    "def full_example_item_prompt(input: str, output: str):\n",
    "    return f\"Input: {input}\\nOutput: {output}\" \n",
    "\n",
    "def full_examples_prompt(full_examples: list[tuple[ProjectInput, ProjectOutput]]):\n",
    "    result = 'Examples of inputs and the corresponding full output:\\n\\n' + '\\n\\n'.join([\n",
    "        f\"{item_prompt}\" for item_prompt in [\n",
    "            full_example_item_prompt(input=input.json(ensure_ascii=False), output=output.json(ensure_ascii=False))\n",
    "            for input, output in full_examples\n",
    "        ]\n",
    "    ])\n",
    "\n",
    "    return result"
   ]
  },
  {
   "cell_type": "markdown",
   "metadata": {},
   "source": [
    "## Full Prompt"
   ]
  },
  {
   "cell_type": "code",
   "execution_count": 32,
   "metadata": {},
   "outputs": [],
   "source": [
    "from langchain.output_parsers import PydanticOutputParser\n",
    "\n",
    "def full_prompt(input: ProjectInput, parser: PydanticOutputParser):\n",
    "    input_query = input.format()\n",
    "    subcategories = subcategories_prompt(input_query, k=50)\n",
    "    reprovation_reasons = reprovation_reasons_prompt(input_query, k=50)\n",
    "    examples = examples_prompt(input_query, k=5)\n",
    "    full_examples = full_examples_prompt([(input, output) for _, input, output in get_full_examples(5)])\n",
    "    format_instructions = parser.get_format_instructions()\n",
    "    formatted_input = full_example_item_prompt(input=input.json(ensure_ascii=False), output='')\n",
    "    \n",
    "    result = f\"\"\"Return the expected output for the project approvation process based on the input.\n",
    "\n",
    "The output is composed by a prediction according to the input and additional information about the project.\n",
    "\n",
    "This additional information is a meta information given by you according to your reasoning about the project and the prediction itself.\n",
    "\n",
    "Some data in the predictions must be defined as the id based on the following mapping:\n",
    "\n",
    "{subcategories}\n",
    "\n",
    "{reprovation_reasons}\n",
    "\n",
    "{examples}\n",
    "\n",
    "The result that you return must include both the prediction (as defined above) and the additional information (based on your reasoning) as shown below.\n",
    "\n",
    "{full_examples}\n",
    "\n",
    "The language of the prediction must be the same as the input language. The default language is Brazilian Portuguese (pt-BR).\n",
    "\n",
    "The prediction should change the minimum possible from the input, but it should be improved in terms of grammar and punctuation, if needed.\n",
    "\n",
    "You MUST NOT change the meaning of the description. NO MATTER WHAT. If needed, you can define to be reproved if something is really wrong.\n",
    "\n",
    "{format_instructions}\n",
    "\n",
    "The prediction should be done based on the following input:\n",
    "\n",
    "{formatted_input}\n",
    "\"\"\"\n",
    "\n",
    "    return result"
   ]
  },
  {
   "cell_type": "markdown",
   "metadata": {},
   "source": [
    "## Print some prompts"
   ]
  },
  {
   "cell_type": "code",
   "execution_count": 24,
   "metadata": {},
   "outputs": [
    {
     "name": "stdout",
     "output_type": "stream",
     "text": [
      "Subcategories ([ID]: [NAME]):\n",
      "\n",
      "0: Outra categoria\n",
      "2: Desenvolvimento Web\n",
      "8: Marketing Digital\n",
      "1: Design gráfico\n",
      "3: Redação\n",
      "9: Ilustração\n"
     ]
    }
   ],
   "source": [
    "print(subcategories_prompt(\"website\", k=5))"
   ]
  },
  {
   "cell_type": "code",
   "execution_count": 25,
   "metadata": {},
   "outputs": [
    {
     "name": "stdout",
     "output_type": "stream",
     "text": [
      "Reprovation reasons ([ID]: [NAME] (DESCRIPTION)):\n",
      "\n",
      "1: Outro Motivo (-)\n",
      "5: Projeto Confuso (Não está claro o que é pedido no projeto)\n",
      "4: Conteúdo Não Permitido (Há conteúdo não permitido na descrição do projeto (informações de contato, orçamento, solicitação de testes não remunerados, etc))\n",
      "2: Projeto Duplicado (Você publicou um projeto muito parecido ou idêntico a esse a pouco tempo)\n",
      "14: Não Permitido (Esse tipo de trabalho não é permitido)\n",
      "7: Pagamento Comissionado (Projetos com pagamentos parciais ou totais via comissão não são permitidos)\n"
     ]
    }
   ],
   "source": [
    "print(reprovation_reasons_prompt(\"conteúdo impróprio\", k=5))"
   ]
  },
  {
   "cell_type": "code",
   "execution_count": 26,
   "metadata": {},
   "outputs": [
    {
     "name": "stdout",
     "output_type": "stream",
     "text": [
      "Partial examples of inputs and predictions (used for the complete output):\n",
      "\n",
      "Input: {\"subcategory\": 0, \"title\": \"TRADUÇÃO DE TEXTO - #53\", \"description\": \"Preciso de tradutor para traduzir texto de inglês para português. Primeiramente será feito um teste não pago para depois ser decidido o freelancer que fará o projeto.\", \"abilities\": null}\n",
      "Prediction: {\"approve\": false, \"subcategory\": null, \"title\": null, \"description\": null, \"reprovation_reason\": 8, \"reprovation_comment\": null}\n",
      "\n",
      "Input: {\"subcategory\": 0, \"title\": \"TRADUÇÃO DE TEXTO - #43\", \"description\": \"Preciso de tradutor para traduzir texto de inglês para português. Primeiramente será feito um teste não pago para depois ser decidido o freelancer que fará o projeto.\", \"abilities\": null}\n",
      "Prediction: {\"approve\": false, \"subcategory\": null, \"title\": null, \"description\": null, \"reprovation_reason\": 8, \"reprovation_comment\": null}\n",
      "\n",
      "Input: {\"subcategory\": 0, \"title\": \"TRADUÇÃO DE TEXTO - #38\", \"description\": \"Preciso de tradutor para traduzir texto de inglês para português. Primeiramente será feito um teste não pago para depois ser decidido o freelancer que fará o projeto.\", \"abilities\": null}\n",
      "Prediction: {\"approve\": false, \"subcategory\": null, \"title\": null, \"description\": null, \"reprovation_reason\": 8, \"reprovation_comment\": null}\n"
     ]
    }
   ],
   "source": [
    "print(examples_prompt(\"tradução\", k=3))"
   ]
  },
  {
   "cell_type": "code",
   "execution_count": 27,
   "metadata": {},
   "outputs": [
    {
     "name": "stdout",
     "output_type": "stream",
     "text": [
      "Full prompt below:\n",
      "Return the expected output for the project approvation process based on the input.\n",
      "\n",
      "The output is composed by a prediction according to the input and additional information about the project.\n",
      "\n",
      "This additional information is a meta information given by you according to your reasoning about the project and the prediction itself.\n",
      "\n",
      "Some data in the predictions must be defined as the id based on the following mapping:\n",
      "\n",
      "Subcategories ([ID]: [NAME]):\n",
      "\n",
      "0: Outra categoria\n",
      "1: Design gráfico\n",
      "7: Animação\n",
      "4: Edição de Vídeo\n",
      "2: Desenvolvimento Web\n",
      "3: Redação\n",
      "5: Tradução\n",
      "9: Ilustração\n",
      "6: Assistente Virtual\n",
      "0: Outra categoria\n",
      "8: Marketing Digital\n",
      "\n",
      "Reprovation reasons ([ID]: [NAME] (DESCRIPTION)):\n",
      "\n",
      "5: Projeto Confuso (Não está claro o que é pedido no projeto)\n",
      "4: Conteúdo Não Permitido (Há conteúdo não permitido na descrição do projeto (informações de contato, orçamento, solicitação de testes não remunerados, etc))\n",
      "2: Projeto Duplicado (Você publicou um projeto muito parecido ou idêntico a esse a pouco tempo)\n",
      "14: Não Permitido (Esse tipo de trabalho não é permitido)\n",
      "1: Outro Motivo (-)\n",
      "11: Trabalhos acadêmicos (O seu trabalho não pode ser feito por outra pessoa. Valorize a sua educação)\n",
      "7: Pagamento Comissionado (Projetos com pagamentos parciais ou totais via comissão não são permitidos)\n",
      "8: Requer trabalho não pago (Todo trabalho deve ser pago)\n",
      "10: Vaga de emprego (Nosso site é somente para trabalhos temporários. Não podemos te ajudar a encontrar profissionais para ocupar cargos na sua empresa)\n",
      "13: Sem demanda (Está recrutando profissionais para parceria ou para demandas futuras)\n",
      "9: Troca de trabalho (Permutas não são permitidas)\n",
      "3: Proposta para Trabalhar (Se o seu objetivo é encontrar trabalhos, por favor, altere o seu perfil para o de Freelancer)\n",
      "6: Poucos Detalhes (Os freelancers precisam saber detalhes para que possam enviar as suas propostas. Seja o mais específico possível)\n",
      "12: Ilegal (Está solicitando algo que é ilegal ou que será utilizado para fins não permitidos)\n",
      "\n",
      "Partial examples of inputs and predictions (used for the complete output):\n",
      "\n",
      "Input: {\"subcategory\": 1, \"title\": \"PRECISO DE DESIGNER GRFICO - #6\", \"description\": \"Preciso de desgner grafico para criação de logotipo\\nMeu telefone é 98765-4321\", \"abilities\": [\"Criação de logotipo\", \"Ilustração\"]}\n",
      "Prediction: {\"approve\": true, \"subcategory\": 1, \"title\": \"Designer gráfico para criação de Logotipo - #6\", \"description\": \"Preciso de designer gráfico para criação de logotipo.\", \"reprovation_reason\": null, \"reprovation_comment\": null}\n",
      "\n",
      "Input: {\"subcategory\": 1, \"title\": \"PRECISO DE DESIGNER GRFICO - #41\", \"description\": \"Preciso de desgner grafico para criação de logotipo\\nMeu telefone é 98765-4321\", \"abilities\": [\"Criação de logotipo\", \"Ilustração\"]}\n",
      "Prediction: {\"approve\": true, \"subcategory\": 1, \"title\": \"Designer gráfico para criação de Logotipo - #41\", \"description\": \"Preciso de designer gráfico para criação de logotipo.\", \"reprovation_reason\": null, \"reprovation_comment\": null}\n",
      "\n",
      "Input: {\"subcategory\": 1, \"title\": \"PRECISO DE DESIGNER GRFICO - #56\", \"description\": \"Preciso de desgner grafico para criação de logotipo\\nMeu telefone é 98765-4321\", \"abilities\": [\"Criação de logotipo\", \"Ilustração\"]}\n",
      "Prediction: {\"approve\": true, \"subcategory\": 1, \"title\": \"Designer gráfico para criação de Logotipo - #56\", \"description\": \"Preciso de designer gráfico para criação de logotipo.\", \"reprovation_reason\": null, \"reprovation_comment\": null}\n",
      "\n",
      "Input: {\"subcategory\": 1, \"title\": \"PRECISO DE DESIGNER GRFICO - #46\", \"description\": \"Preciso de desgner grafico para criação de logotipo\\nMeu telefone é 98765-4321\", \"abilities\": [\"Criação de logotipo\", \"Ilustração\"]}\n",
      "Prediction: {\"approve\": true, \"subcategory\": 1, \"title\": \"Designer gráfico para criação de Logotipo - #46\", \"description\": \"Preciso de designer gráfico para criação de logotipo.\", \"reprovation_reason\": null, \"reprovation_comment\": null}\n",
      "\n",
      "Input: {\"subcategory\": 1, \"title\": \"PRECISO DE DESIGNER GRFICO - #16\", \"description\": \"Preciso de desgner grafico para criação de logotipo\\nMeu telefone é 98765-4321\", \"abilities\": [\"Criação de logotipo\", \"Ilustração\"]}\n",
      "Prediction: {\"approve\": true, \"subcategory\": 1, \"title\": \"Designer gráfico para criação de Logotipo - #16\", \"description\": \"Preciso de designer gráfico para criação de logotipo.\", \"reprovation_reason\": null, \"reprovation_comment\": null}\n",
      "\n",
      "The result that you return must include both the prediction (as defined above) and the additional information (based on your reasoning) as shown below.\n",
      "\n",
      "Examples of inputs and the corresponding full output:\n",
      "\n",
      "Input: {\"subcategory\": 1, \"title\": \"PRECISO DE DESIGNER GRFICO - #1\", \"description\": \"Preciso de desgner grafico para criação de logotipo\\nMeu telefone é 98765-4321\", \"abilities\": [\"Criação de logotipo\", \"Ilustração\"]}\n",
      "Output: {\"prediction\": {\"approve\": true, \"subcategory\": 1, \"title\": \"Designer gráfico para criação de Logotipo - #1\", \"description\": \"Preciso de designer gráfico para criação de logotipo.\", \"reprovation_reason\": null, \"reprovation_comment\": null}, \"info\": {\"reasoning\": \"Alteração do título para ficar mais conciso e ajustes em sua capitalização. Correções ortográficas na descrição. Remoção de telefone de contato.\", \"confidence\": 0.8, \"bot_generated\": 0.4}}\n",
      "\n",
      "Input: {\"subcategory\": 0, \"title\": \"ESCREVER ARTIGOS PARA BLOG - #2\", \"description\": \"Preciso de redaor para criação de conteúdo para meu blog https://meublog.com\", \"abilities\": null}\n",
      "Output: {\"prediction\": {\"approve\": true, \"subcategory\": 3, \"title\": \"Escrever artigos para blog - #2\", \"description\": \"Preciso de redator para criação de conteúdo para meu blog https://meublog.com\", \"reprovation_reason\": null, \"reprovation_comment\": null}, \"info\": {\"reasoning\": \"Ajustes na capitalização do título. Correção de erro ortográfico na descrição.\", \"confidence\": 0.7, \"bot_generated\": 0.3}}\n",
      "\n",
      "Input: {\"subcategory\": 0, \"title\": \"TRADUÇÃO DE TEXTO - #3\", \"description\": \"Preciso de tradutor para traduzir texto de inglês para português. Primeiramente será feito um teste não pago para depois ser decidido o freelancer que fará o projeto.\", \"abilities\": null}\n",
      "Output: {\"prediction\": {\"approve\": false, \"subcategory\": null, \"title\": null, \"description\": null, \"reprovation_reason\": 8, \"reprovation_comment\": null}, \"info\": {\"reasoning\": \"Testes não pagos não são permitidos.\", \"confidence\": 0.8, \"bot_generated\": 0.3}}\n",
      "\n",
      "Input: {\"subcategory\": 8, \"title\": \"Assistente virtual para tarefa pontual - #4\", \"description\": \"Preciso de assistente virtual para realizar tarefas administrativas com duração de 2 dias. Deverá saber utilizar planilhas do Excel e ter conexão com a internet. Será feito home office.\", \"abilities\": null}\n",
      "Output: {\"prediction\": {\"approve\": true, \"subcategory\": 6, \"title\": \"Assistente virtual para tarefa pontual - #4\", \"description\": \"Preciso de assistente virtual para realizar tarefas administrativas com duração de 2 dias. Deverá saber utilizar planilhas do Excel e ter conexão com a internet. Será feito home office.\", \"reprovation_reason\": null, \"reprovation_comment\": null}, \"info\": {\"reasoning\": \"Nenhuma alteração necessária.\", \"confidence\": 0.9, \"bot_generated\": 0.2}}\n",
      "\n",
      "Input: {\"subcategory\": 0, \"title\": \"Crawler de Website - #5\", \"description\": \"Preciso de alguém que faça um crawler para coletar informações de um website. Deverá acessar a API e burlar o CAPTCHA, se necessário.\", \"abilities\": null}\n",
      "Output: {\"prediction\": {\"approve\": false, \"subcategory\": null, \"title\": null, \"description\": null, \"reprovation_reason\": 12, \"reprovation_comment\": \"Solicitação de algo não permitido (burlar CAPTCHA).\"}, \"info\": {\"reasoning\": \"Solicitação de algo não permitido (burlar CAPTCHA).\", \"confidence\": 0.8, \"bot_generated\": 0.3}}\n",
      "\n",
      "The language of the prediction must be the same as the input language. The default language is Brazilian Portuguese (pt-BR).\n",
      "\n",
      "The prediction should change the minimum possible from the input, but it should be improved in terms of grammar and punctuation, if needed.\n",
      "\n",
      "You MUST NOT change the meaning of the description. NO MATTER WHAT. If needed, you can define to be reproved if something is really wrong.\n",
      "\n",
      "The output should be formatted as a JSON instance that conforms to the JSON schema below.\n",
      "\n",
      "As an example, for the schema {\"properties\": {\"foo\": {\"title\": \"Foo\", \"description\": \"a list of strings\", \"type\": \"array\", \"items\": {\"type\": \"string\"}}}, \"required\": [\"foo\"]}\n",
      "the object {\"foo\": [\"bar\", \"baz\"]} is a well-formatted instance of the schema. The object {\"properties\": {\"foo\": [\"bar\", \"baz\"]}} is not well-formatted.\n",
      "\n",
      "Here is the output schema:\n",
      "```\n",
      "{\"description\": \"The predicted project data based on the input, along with additional information.\", \"properties\": {\"prediction\": {\"title\": \"Prediction\", \"description\": \"The predicted project data based on the input.\", \"allOf\": [{\"$ref\": \"#/definitions/ProjectPrediction\"}]}, \"info\": {\"title\": \"Info\", \"description\": \"Additional information about the project.\", \"allOf\": [{\"$ref\": \"#/definitions/ProjectInfo\"}]}}, \"required\": [\"prediction\", \"info\"], \"definitions\": {\"ProjectPrediction\": {\"title\": \"ProjectPrediction\", \"description\": \"The predicted project data based on the input. Some fields might be left undefined depending on the project being approved or not.\", \"type\": \"object\", \"properties\": {\"approve\": {\"title\": \"Approve\", \"description\": \"Whether the project should be approved or not.\", \"type\": \"boolean\"}, \"subcategory\": {\"title\": \"Subcategory\", \"description\": \"The subcategory of the project (when approved).\", \"type\": \"integer\"}, \"title\": {\"title\": \"Title\", \"description\": \"The title of the project (when approved).\", \"maxLength\": 75, \"minLength\": 25, \"type\": \"string\"}, \"description\": {\"title\": \"Description\", \"description\": \"The description of the project (when approved).\", \"maxLength\": 2000, \"minLength\": 50, \"type\": \"string\"}, \"reprovation_reason\": {\"title\": \"Reprovation Reason\", \"description\": \"The reason for the project to be reproved (when reproved).\", \"type\": \"integer\"}, \"reprovation_comment\": {\"title\": \"Reprovation Comment\", \"description\": \"The comment for the reprovation (when reproved).\", \"type\": \"string\"}}, \"required\": [\"approve\"]}, \"ProjectInfo\": {\"title\": \"ProjectInfo\", \"description\": \"Additional information about the project.\", \"type\": \"object\", \"properties\": {\"reasoning\": {\"title\": \"Reasoning\", \"description\": \"The reasoning behind the prediction.\", \"type\": \"string\"}, \"confidence\": {\"title\": \"Confidence\", \"description\": \"The confidence of the prediction.\", \"minimum\": 0, \"maximum\": 1, \"type\": \"number\"}, \"bot_generated\": {\"title\": \"Bot Generated\", \"description\": \"How likely is for the project to be bot generated.\", \"minimum\": 0, \"maximum\": 1, \"type\": \"number\"}}, \"required\": [\"reasoning\", \"confidence\", \"bot_generated\"]}}}\n",
      "```\n",
      "\n",
      "The prediction should be done based on the following input:\n",
      "\n",
      "Input: {\"subcategory\": 1, \"title\": \"Design gráfico\", \"description\": \"Preciso de um design gráfico para criar um logotipo.\", \"abilities\": null}\n",
      "Output: \n",
      "\n"
     ]
    }
   ],
   "source": [
    "prompt = full_prompt(ProjectInput(\n",
    "    subcategory=1, \n",
    "    title=\"Design gráfico\", \n",
    "    description=\"Preciso de um design gráfico para criar um logotipo.\"\n",
    "), PydanticOutputParser(pydantic_object=ProjectOutput))\n",
    "print('Full prompt below:')\n",
    "print(prompt)"
   ]
  },
  {
   "cell_type": "markdown",
   "metadata": {},
   "source": [
    "## Create the chain"
   ]
  },
  {
   "cell_type": "code",
   "execution_count": 33,
   "metadata": {},
   "outputs": [],
   "source": [
    "from langchain_openai import OpenAI\n",
    "from langchain_core.runnables import RunnablePassthrough\n",
    "from langchain_core.prompts import PromptTemplate\n",
    "\n",
    "llm = OpenAI(temperature=0)\n",
    "\n",
    "parser = PydanticOutputParser(pydantic_object=ProjectOutput)\n",
    "\n",
    "prompt = dict(prompt_text=RunnablePassthrough()) | PromptTemplate.from_template(\"{prompt_text}\")\n",
    "\n",
    "chain = prompt | llm | parser\n",
    "\n",
    "def get_result(input: ProjectInput):\n",
    "    return chain.invoke(input=input)"
   ]
  },
  {
   "cell_type": "code",
   "execution_count": 34,
   "metadata": {},
   "outputs": [],
   "source": [
    "input = ProjectInput(\n",
    "    subcategory=9, \n",
    "    title=\"Ilustrador para criação de Gibi\",\n",
    "    description=\"Preciso de um ilustrador para criar um gibi colorido de 20 páginas.\"    \n",
    ")"
   ]
  },
  {
   "cell_type": "code",
   "execution_count": 35,
   "metadata": {},
   "outputs": [
    {
     "name": "stdout",
     "output_type": "stream",
     "text": [
      " budget=500 deadline=2021-12-31T00:00:00.000Z\n",
      "\n",
      "\n",
      "Título: Ilustrador para criação de Gibi\n",
      "Descrição: Preciso de um ilustrador para criar um gibi colorido de 20 páginas. O gibi será voltado para o público infantil e deve conter ilustrações criativas e atrativas. O roteiro já está pronto e será fornecido ao ilustrador, mas aceito sugestões e ideias para enriquecer a história.\n",
      "Habilidades necessárias: Experiência em ilustração, criatividade, habilidade em desenhar personagens e cenários, conhecimento em técnicas de coloração.\n",
      "Orçamento: R$500,00\n",
      "Prazo: 31/12/2021\n"
     ]
    }
   ],
   "source": [
    "print((prompt | llm).invoke(input=input))"
   ]
  },
  {
   "cell_type": "code",
   "execution_count": 31,
   "metadata": {},
   "outputs": [
    {
     "ename": "OutputParserException",
     "evalue": "Invalid json output: budget=500 deadline=2021-12-31T00:00:00.000Z\n\n\nTítulo: Ilustrador para criação de Gibi\nDescrição: Preciso de um ilustrador para criar um gibi colorido de 20 páginas. O gibi será voltado para o público infantil e deve conter ilustrações criativas e atrativas. O roteiro já está pronto e será fornecido ao ilustrador, mas aceito sugestões e ideias para enriquecer a história.\nHabilidades necessárias: Experiência em ilustração, criatividade, habilidade em desenhar personagens e cenários, conhecimento em técnicas de coloração.\nOrçamento: R$500,00\nPrazo: 31/12/2021",
     "output_type": "error",
     "traceback": [
      "\u001b[1;31m---------------------------------------------------------------------------\u001b[0m",
      "\u001b[1;31mJSONDecodeError\u001b[0m                           Traceback (most recent call last)",
      "File \u001b[1;32mc:\\Users\\Asus\\anaconda3\\envs\\dev\\Lib\\site-packages\\langchain_core\\output_parsers\\json.py:212\u001b[0m, in \u001b[0;36mJsonOutputParser.parse_result\u001b[1;34m(self, result, partial)\u001b[0m\n\u001b[0;32m    211\u001b[0m \u001b[38;5;28;01mtry\u001b[39;00m:\n\u001b[1;32m--> 212\u001b[0m     \u001b[38;5;28;01mreturn\u001b[39;00m \u001b[43mparse_json_markdown\u001b[49m\u001b[43m(\u001b[49m\u001b[43mtext\u001b[49m\u001b[43m)\u001b[49m\n\u001b[0;32m    213\u001b[0m \u001b[38;5;28;01mexcept\u001b[39;00m JSONDecodeError \u001b[38;5;28;01mas\u001b[39;00m e:\n",
      "File \u001b[1;32mc:\\Users\\Asus\\anaconda3\\envs\\dev\\Lib\\site-packages\\langchain_core\\output_parsers\\json.py:157\u001b[0m, in \u001b[0;36mparse_json_markdown\u001b[1;34m(json_string, parser)\u001b[0m\n\u001b[0;32m    156\u001b[0m \u001b[38;5;66;03m# Parse the JSON string into a Python dictionary\u001b[39;00m\n\u001b[1;32m--> 157\u001b[0m parsed \u001b[38;5;241m=\u001b[39m \u001b[43mparser\u001b[49m\u001b[43m(\u001b[49m\u001b[43mjson_str\u001b[49m\u001b[43m)\u001b[49m\n\u001b[0;32m    159\u001b[0m \u001b[38;5;28;01mreturn\u001b[39;00m parsed\n",
      "File \u001b[1;32mc:\\Users\\Asus\\anaconda3\\envs\\dev\\Lib\\site-packages\\langchain_core\\output_parsers\\json.py:125\u001b[0m, in \u001b[0;36mparse_partial_json\u001b[1;34m(s, strict)\u001b[0m\n\u001b[0;32m    122\u001b[0m \u001b[38;5;66;03m# If we got here, we ran out of characters to remove\u001b[39;00m\n\u001b[0;32m    123\u001b[0m \u001b[38;5;66;03m# and still couldn't parse the string as JSON, so return the parse error\u001b[39;00m\n\u001b[0;32m    124\u001b[0m \u001b[38;5;66;03m# for the original string.\u001b[39;00m\n\u001b[1;32m--> 125\u001b[0m \u001b[38;5;28;01mreturn\u001b[39;00m \u001b[43mjson\u001b[49m\u001b[38;5;241;43m.\u001b[39;49m\u001b[43mloads\u001b[49m\u001b[43m(\u001b[49m\u001b[43ms\u001b[49m\u001b[43m,\u001b[49m\u001b[43m \u001b[49m\u001b[43mstrict\u001b[49m\u001b[38;5;241;43m=\u001b[39;49m\u001b[43mstrict\u001b[49m\u001b[43m)\u001b[49m\n",
      "File \u001b[1;32mc:\\Users\\Asus\\anaconda3\\envs\\dev\\Lib\\json\\__init__.py:359\u001b[0m, in \u001b[0;36mloads\u001b[1;34m(s, cls, object_hook, parse_float, parse_int, parse_constant, object_pairs_hook, **kw)\u001b[0m\n\u001b[0;32m    358\u001b[0m     kw[\u001b[38;5;124m'\u001b[39m\u001b[38;5;124mparse_constant\u001b[39m\u001b[38;5;124m'\u001b[39m] \u001b[38;5;241m=\u001b[39m parse_constant\n\u001b[1;32m--> 359\u001b[0m \u001b[38;5;28;01mreturn\u001b[39;00m \u001b[38;5;28;43mcls\u001b[39;49m\u001b[43m(\u001b[49m\u001b[38;5;241;43m*\u001b[39;49m\u001b[38;5;241;43m*\u001b[39;49m\u001b[43mkw\u001b[49m\u001b[43m)\u001b[49m\u001b[38;5;241;43m.\u001b[39;49m\u001b[43mdecode\u001b[49m\u001b[43m(\u001b[49m\u001b[43ms\u001b[49m\u001b[43m)\u001b[49m\n",
      "File \u001b[1;32mc:\\Users\\Asus\\anaconda3\\envs\\dev\\Lib\\json\\decoder.py:337\u001b[0m, in \u001b[0;36mJSONDecoder.decode\u001b[1;34m(self, s, _w)\u001b[0m\n\u001b[0;32m    333\u001b[0m \u001b[38;5;250m\u001b[39m\u001b[38;5;124;03m\"\"\"Return the Python representation of ``s`` (a ``str`` instance\u001b[39;00m\n\u001b[0;32m    334\u001b[0m \u001b[38;5;124;03mcontaining a JSON document).\u001b[39;00m\n\u001b[0;32m    335\u001b[0m \n\u001b[0;32m    336\u001b[0m \u001b[38;5;124;03m\"\"\"\u001b[39;00m\n\u001b[1;32m--> 337\u001b[0m obj, end \u001b[38;5;241m=\u001b[39m \u001b[38;5;28;43mself\u001b[39;49m\u001b[38;5;241;43m.\u001b[39;49m\u001b[43mraw_decode\u001b[49m\u001b[43m(\u001b[49m\u001b[43ms\u001b[49m\u001b[43m,\u001b[49m\u001b[43m \u001b[49m\u001b[43midx\u001b[49m\u001b[38;5;241;43m=\u001b[39;49m\u001b[43m_w\u001b[49m\u001b[43m(\u001b[49m\u001b[43ms\u001b[49m\u001b[43m,\u001b[49m\u001b[43m \u001b[49m\u001b[38;5;241;43m0\u001b[39;49m\u001b[43m)\u001b[49m\u001b[38;5;241;43m.\u001b[39;49m\u001b[43mend\u001b[49m\u001b[43m(\u001b[49m\u001b[43m)\u001b[49m\u001b[43m)\u001b[49m\n\u001b[0;32m    338\u001b[0m end \u001b[38;5;241m=\u001b[39m _w(s, end)\u001b[38;5;241m.\u001b[39mend()\n",
      "File \u001b[1;32mc:\\Users\\Asus\\anaconda3\\envs\\dev\\Lib\\json\\decoder.py:355\u001b[0m, in \u001b[0;36mJSONDecoder.raw_decode\u001b[1;34m(self, s, idx)\u001b[0m\n\u001b[0;32m    354\u001b[0m \u001b[38;5;28;01mexcept\u001b[39;00m \u001b[38;5;167;01mStopIteration\u001b[39;00m \u001b[38;5;28;01mas\u001b[39;00m err:\n\u001b[1;32m--> 355\u001b[0m     \u001b[38;5;28;01mraise\u001b[39;00m JSONDecodeError(\u001b[38;5;124m\"\u001b[39m\u001b[38;5;124mExpecting value\u001b[39m\u001b[38;5;124m\"\u001b[39m, s, err\u001b[38;5;241m.\u001b[39mvalue) \u001b[38;5;28;01mfrom\u001b[39;00m \u001b[38;5;28;01mNone\u001b[39;00m\n\u001b[0;32m    356\u001b[0m \u001b[38;5;28;01mreturn\u001b[39;00m obj, end\n",
      "\u001b[1;31mJSONDecodeError\u001b[0m: Expecting value: line 1 column 1 (char 0)",
      "\nThe above exception was the direct cause of the following exception:\n",
      "\u001b[1;31mOutputParserException\u001b[0m                     Traceback (most recent call last)",
      "Cell \u001b[1;32mIn[31], line 1\u001b[0m\n\u001b[1;32m----> 1\u001b[0m \u001b[38;5;28mprint\u001b[39m(\u001b[43mget_result\u001b[49m\u001b[43m(\u001b[49m\u001b[38;5;28;43minput\u001b[39;49m\u001b[43m)\u001b[49m)\n",
      "Cell \u001b[1;32mIn[28], line 14\u001b[0m, in \u001b[0;36mget_result\u001b[1;34m(input)\u001b[0m\n\u001b[0;32m     13\u001b[0m \u001b[38;5;28;01mdef\u001b[39;00m \u001b[38;5;21mget_result\u001b[39m(\u001b[38;5;28minput\u001b[39m: ProjectInput):\n\u001b[1;32m---> 14\u001b[0m     \u001b[38;5;28;01mreturn\u001b[39;00m \u001b[43mchain\u001b[49m\u001b[38;5;241;43m.\u001b[39;49m\u001b[43minvoke\u001b[49m\u001b[43m(\u001b[49m\u001b[38;5;28;43minput\u001b[39;49m\u001b[38;5;241;43m=\u001b[39;49m\u001b[38;5;28;43minput\u001b[39;49m\u001b[43m)\u001b[49m\n",
      "File \u001b[1;32mc:\\Users\\Asus\\anaconda3\\envs\\dev\\Lib\\site-packages\\langchain_core\\runnables\\base.py:2075\u001b[0m, in \u001b[0;36mRunnableSequence.invoke\u001b[1;34m(self, input, config)\u001b[0m\n\u001b[0;32m   2073\u001b[0m \u001b[38;5;28;01mtry\u001b[39;00m:\n\u001b[0;32m   2074\u001b[0m     \u001b[38;5;28;01mfor\u001b[39;00m i, step \u001b[38;5;129;01min\u001b[39;00m \u001b[38;5;28menumerate\u001b[39m(\u001b[38;5;28mself\u001b[39m\u001b[38;5;241m.\u001b[39msteps):\n\u001b[1;32m-> 2075\u001b[0m         \u001b[38;5;28minput\u001b[39m \u001b[38;5;241m=\u001b[39m \u001b[43mstep\u001b[49m\u001b[38;5;241;43m.\u001b[39;49m\u001b[43minvoke\u001b[49m\u001b[43m(\u001b[49m\n\u001b[0;32m   2076\u001b[0m \u001b[43m            \u001b[49m\u001b[38;5;28;43minput\u001b[39;49m\u001b[43m,\u001b[49m\n\u001b[0;32m   2077\u001b[0m \u001b[43m            \u001b[49m\u001b[38;5;66;43;03m# mark each step as a child run\u001b[39;49;00m\n\u001b[0;32m   2078\u001b[0m \u001b[43m            \u001b[49m\u001b[43mpatch_config\u001b[49m\u001b[43m(\u001b[49m\n\u001b[0;32m   2079\u001b[0m \u001b[43m                \u001b[49m\u001b[43mconfig\u001b[49m\u001b[43m,\u001b[49m\u001b[43m \u001b[49m\u001b[43mcallbacks\u001b[49m\u001b[38;5;241;43m=\u001b[39;49m\u001b[43mrun_manager\u001b[49m\u001b[38;5;241;43m.\u001b[39;49m\u001b[43mget_child\u001b[49m\u001b[43m(\u001b[49m\u001b[38;5;124;43mf\u001b[39;49m\u001b[38;5;124;43m\"\u001b[39;49m\u001b[38;5;124;43mseq:step:\u001b[39;49m\u001b[38;5;132;43;01m{\u001b[39;49;00m\u001b[43mi\u001b[49m\u001b[38;5;241;43m+\u001b[39;49m\u001b[38;5;241;43m1\u001b[39;49m\u001b[38;5;132;43;01m}\u001b[39;49;00m\u001b[38;5;124;43m\"\u001b[39;49m\u001b[43m)\u001b[49m\n\u001b[0;32m   2080\u001b[0m \u001b[43m            \u001b[49m\u001b[43m)\u001b[49m\u001b[43m,\u001b[49m\n\u001b[0;32m   2081\u001b[0m \u001b[43m        \u001b[49m\u001b[43m)\u001b[49m\n\u001b[0;32m   2082\u001b[0m \u001b[38;5;66;03m# finish the root run\u001b[39;00m\n\u001b[0;32m   2083\u001b[0m \u001b[38;5;28;01mexcept\u001b[39;00m \u001b[38;5;167;01mBaseException\u001b[39;00m \u001b[38;5;28;01mas\u001b[39;00m e:\n",
      "File \u001b[1;32mc:\\Users\\Asus\\anaconda3\\envs\\dev\\Lib\\site-packages\\langchain_core\\output_parsers\\base.py:178\u001b[0m, in \u001b[0;36mBaseOutputParser.invoke\u001b[1;34m(self, input, config)\u001b[0m\n\u001b[0;32m    169\u001b[0m     \u001b[38;5;28;01mreturn\u001b[39;00m \u001b[38;5;28mself\u001b[39m\u001b[38;5;241m.\u001b[39m_call_with_config(\n\u001b[0;32m    170\u001b[0m         \u001b[38;5;28;01mlambda\u001b[39;00m inner_input: \u001b[38;5;28mself\u001b[39m\u001b[38;5;241m.\u001b[39mparse_result(\n\u001b[0;32m    171\u001b[0m             [ChatGeneration(message\u001b[38;5;241m=\u001b[39minner_input)]\n\u001b[1;32m   (...)\u001b[0m\n\u001b[0;32m    175\u001b[0m         run_type\u001b[38;5;241m=\u001b[39m\u001b[38;5;124m\"\u001b[39m\u001b[38;5;124mparser\u001b[39m\u001b[38;5;124m\"\u001b[39m,\n\u001b[0;32m    176\u001b[0m     )\n\u001b[0;32m    177\u001b[0m \u001b[38;5;28;01melse\u001b[39;00m:\n\u001b[1;32m--> 178\u001b[0m     \u001b[38;5;28;01mreturn\u001b[39;00m \u001b[38;5;28;43mself\u001b[39;49m\u001b[38;5;241;43m.\u001b[39;49m\u001b[43m_call_with_config\u001b[49m\u001b[43m(\u001b[49m\n\u001b[0;32m    179\u001b[0m \u001b[43m        \u001b[49m\u001b[38;5;28;43;01mlambda\u001b[39;49;00m\u001b[43m \u001b[49m\u001b[43minner_input\u001b[49m\u001b[43m:\u001b[49m\u001b[43m \u001b[49m\u001b[38;5;28;43mself\u001b[39;49m\u001b[38;5;241;43m.\u001b[39;49m\u001b[43mparse_result\u001b[49m\u001b[43m(\u001b[49m\u001b[43m[\u001b[49m\u001b[43mGeneration\u001b[49m\u001b[43m(\u001b[49m\u001b[43mtext\u001b[49m\u001b[38;5;241;43m=\u001b[39;49m\u001b[43minner_input\u001b[49m\u001b[43m)\u001b[49m\u001b[43m]\u001b[49m\u001b[43m)\u001b[49m\u001b[43m,\u001b[49m\n\u001b[0;32m    180\u001b[0m \u001b[43m        \u001b[49m\u001b[38;5;28;43minput\u001b[39;49m\u001b[43m,\u001b[49m\n\u001b[0;32m    181\u001b[0m \u001b[43m        \u001b[49m\u001b[43mconfig\u001b[49m\u001b[43m,\u001b[49m\n\u001b[0;32m    182\u001b[0m \u001b[43m        \u001b[49m\u001b[43mrun_type\u001b[49m\u001b[38;5;241;43m=\u001b[39;49m\u001b[38;5;124;43m\"\u001b[39;49m\u001b[38;5;124;43mparser\u001b[39;49m\u001b[38;5;124;43m\"\u001b[39;49m\u001b[43m,\u001b[49m\n\u001b[0;32m    183\u001b[0m \u001b[43m    \u001b[49m\u001b[43m)\u001b[49m\n",
      "File \u001b[1;32mc:\\Users\\Asus\\anaconda3\\envs\\dev\\Lib\\site-packages\\langchain_core\\runnables\\base.py:1262\u001b[0m, in \u001b[0;36mRunnable._call_with_config\u001b[1;34m(self, func, input, config, run_type, **kwargs)\u001b[0m\n\u001b[0;32m   1258\u001b[0m     context \u001b[38;5;241m=\u001b[39m copy_context()\n\u001b[0;32m   1259\u001b[0m     context\u001b[38;5;241m.\u001b[39mrun(var_child_runnable_config\u001b[38;5;241m.\u001b[39mset, child_config)\n\u001b[0;32m   1260\u001b[0m     output \u001b[38;5;241m=\u001b[39m cast(\n\u001b[0;32m   1261\u001b[0m         Output,\n\u001b[1;32m-> 1262\u001b[0m         \u001b[43mcontext\u001b[49m\u001b[38;5;241;43m.\u001b[39;49m\u001b[43mrun\u001b[49m\u001b[43m(\u001b[49m\n\u001b[0;32m   1263\u001b[0m \u001b[43m            \u001b[49m\u001b[43mcall_func_with_variable_args\u001b[49m\u001b[43m,\u001b[49m\n\u001b[0;32m   1264\u001b[0m \u001b[43m            \u001b[49m\u001b[43mfunc\u001b[49m\u001b[43m,\u001b[49m\u001b[43m  \u001b[49m\u001b[38;5;66;43;03m# type: ignore[arg-type]\u001b[39;49;00m\n\u001b[0;32m   1265\u001b[0m \u001b[43m            \u001b[49m\u001b[38;5;28;43minput\u001b[39;49m\u001b[43m,\u001b[49m\u001b[43m  \u001b[49m\u001b[38;5;66;43;03m# type: ignore[arg-type]\u001b[39;49;00m\n\u001b[0;32m   1266\u001b[0m \u001b[43m            \u001b[49m\u001b[43mconfig\u001b[49m\u001b[43m,\u001b[49m\n\u001b[0;32m   1267\u001b[0m \u001b[43m            \u001b[49m\u001b[43mrun_manager\u001b[49m\u001b[43m,\u001b[49m\n\u001b[0;32m   1268\u001b[0m \u001b[43m            \u001b[49m\u001b[38;5;241;43m*\u001b[39;49m\u001b[38;5;241;43m*\u001b[39;49m\u001b[43mkwargs\u001b[49m\u001b[43m,\u001b[49m\n\u001b[0;32m   1269\u001b[0m \u001b[43m        \u001b[49m\u001b[43m)\u001b[49m,\n\u001b[0;32m   1270\u001b[0m     )\n\u001b[0;32m   1271\u001b[0m \u001b[38;5;28;01mexcept\u001b[39;00m \u001b[38;5;167;01mBaseException\u001b[39;00m \u001b[38;5;28;01mas\u001b[39;00m e:\n\u001b[0;32m   1272\u001b[0m     run_manager\u001b[38;5;241m.\u001b[39mon_chain_error(e)\n",
      "File \u001b[1;32mc:\\Users\\Asus\\anaconda3\\envs\\dev\\Lib\\site-packages\\langchain_core\\runnables\\config.py:326\u001b[0m, in \u001b[0;36mcall_func_with_variable_args\u001b[1;34m(func, input, config, run_manager, **kwargs)\u001b[0m\n\u001b[0;32m    324\u001b[0m \u001b[38;5;28;01mif\u001b[39;00m run_manager \u001b[38;5;129;01mis\u001b[39;00m \u001b[38;5;129;01mnot\u001b[39;00m \u001b[38;5;28;01mNone\u001b[39;00m \u001b[38;5;129;01mand\u001b[39;00m accepts_run_manager(func):\n\u001b[0;32m    325\u001b[0m     kwargs[\u001b[38;5;124m\"\u001b[39m\u001b[38;5;124mrun_manager\u001b[39m\u001b[38;5;124m\"\u001b[39m] \u001b[38;5;241m=\u001b[39m run_manager\n\u001b[1;32m--> 326\u001b[0m \u001b[38;5;28;01mreturn\u001b[39;00m \u001b[43mfunc\u001b[49m\u001b[43m(\u001b[49m\u001b[38;5;28;43minput\u001b[39;49m\u001b[43m,\u001b[49m\u001b[43m \u001b[49m\u001b[38;5;241;43m*\u001b[39;49m\u001b[38;5;241;43m*\u001b[39;49m\u001b[43mkwargs\u001b[49m\u001b[43m)\u001b[49m\n",
      "File \u001b[1;32mc:\\Users\\Asus\\anaconda3\\envs\\dev\\Lib\\site-packages\\langchain_core\\output_parsers\\base.py:179\u001b[0m, in \u001b[0;36mBaseOutputParser.invoke.<locals>.<lambda>\u001b[1;34m(inner_input)\u001b[0m\n\u001b[0;32m    169\u001b[0m     \u001b[38;5;28;01mreturn\u001b[39;00m \u001b[38;5;28mself\u001b[39m\u001b[38;5;241m.\u001b[39m_call_with_config(\n\u001b[0;32m    170\u001b[0m         \u001b[38;5;28;01mlambda\u001b[39;00m inner_input: \u001b[38;5;28mself\u001b[39m\u001b[38;5;241m.\u001b[39mparse_result(\n\u001b[0;32m    171\u001b[0m             [ChatGeneration(message\u001b[38;5;241m=\u001b[39minner_input)]\n\u001b[1;32m   (...)\u001b[0m\n\u001b[0;32m    175\u001b[0m         run_type\u001b[38;5;241m=\u001b[39m\u001b[38;5;124m\"\u001b[39m\u001b[38;5;124mparser\u001b[39m\u001b[38;5;124m\"\u001b[39m,\n\u001b[0;32m    176\u001b[0m     )\n\u001b[0;32m    177\u001b[0m \u001b[38;5;28;01melse\u001b[39;00m:\n\u001b[0;32m    178\u001b[0m     \u001b[38;5;28;01mreturn\u001b[39;00m \u001b[38;5;28mself\u001b[39m\u001b[38;5;241m.\u001b[39m_call_with_config(\n\u001b[1;32m--> 179\u001b[0m         \u001b[38;5;28;01mlambda\u001b[39;00m inner_input: \u001b[38;5;28;43mself\u001b[39;49m\u001b[38;5;241;43m.\u001b[39;49m\u001b[43mparse_result\u001b[49m\u001b[43m(\u001b[49m\u001b[43m[\u001b[49m\u001b[43mGeneration\u001b[49m\u001b[43m(\u001b[49m\u001b[43mtext\u001b[49m\u001b[38;5;241;43m=\u001b[39;49m\u001b[43minner_input\u001b[49m\u001b[43m)\u001b[49m\u001b[43m]\u001b[49m\u001b[43m)\u001b[49m,\n\u001b[0;32m    180\u001b[0m         \u001b[38;5;28minput\u001b[39m,\n\u001b[0;32m    181\u001b[0m         config,\n\u001b[0;32m    182\u001b[0m         run_type\u001b[38;5;241m=\u001b[39m\u001b[38;5;124m\"\u001b[39m\u001b[38;5;124mparser\u001b[39m\u001b[38;5;124m\"\u001b[39m,\n\u001b[0;32m    183\u001b[0m     )\n",
      "File \u001b[1;32mc:\\Users\\Asus\\anaconda3\\envs\\dev\\Lib\\site-packages\\langchain\\output_parsers\\pydantic.py:23\u001b[0m, in \u001b[0;36mPydanticOutputParser.parse_result\u001b[1;34m(self, result, partial)\u001b[0m\n\u001b[0;32m     22\u001b[0m \u001b[38;5;28;01mdef\u001b[39;00m \u001b[38;5;21mparse_result\u001b[39m(\u001b[38;5;28mself\u001b[39m, result: List[Generation], \u001b[38;5;241m*\u001b[39m, partial: \u001b[38;5;28mbool\u001b[39m \u001b[38;5;241m=\u001b[39m \u001b[38;5;28;01mFalse\u001b[39;00m) \u001b[38;5;241m-\u001b[39m\u001b[38;5;241m>\u001b[39m Any:\n\u001b[1;32m---> 23\u001b[0m     json_object \u001b[38;5;241m=\u001b[39m \u001b[38;5;28;43msuper\u001b[39;49m\u001b[43m(\u001b[49m\u001b[43m)\u001b[49m\u001b[38;5;241;43m.\u001b[39;49m\u001b[43mparse_result\u001b[49m\u001b[43m(\u001b[49m\u001b[43mresult\u001b[49m\u001b[43m)\u001b[49m\n\u001b[0;32m     24\u001b[0m     \u001b[38;5;28;01mtry\u001b[39;00m:\n\u001b[0;32m     25\u001b[0m         \u001b[38;5;28;01mreturn\u001b[39;00m \u001b[38;5;28mself\u001b[39m\u001b[38;5;241m.\u001b[39mpydantic_object\u001b[38;5;241m.\u001b[39mparse_obj(json_object)\n",
      "File \u001b[1;32mc:\\Users\\Asus\\anaconda3\\envs\\dev\\Lib\\site-packages\\langchain_core\\output_parsers\\json.py:215\u001b[0m, in \u001b[0;36mJsonOutputParser.parse_result\u001b[1;34m(self, result, partial)\u001b[0m\n\u001b[0;32m    213\u001b[0m \u001b[38;5;28;01mexcept\u001b[39;00m JSONDecodeError \u001b[38;5;28;01mas\u001b[39;00m e:\n\u001b[0;32m    214\u001b[0m     msg \u001b[38;5;241m=\u001b[39m \u001b[38;5;124mf\u001b[39m\u001b[38;5;124m\"\u001b[39m\u001b[38;5;124mInvalid json output: \u001b[39m\u001b[38;5;132;01m{\u001b[39;00mtext\u001b[38;5;132;01m}\u001b[39;00m\u001b[38;5;124m\"\u001b[39m\n\u001b[1;32m--> 215\u001b[0m     \u001b[38;5;28;01mraise\u001b[39;00m OutputParserException(msg, llm_output\u001b[38;5;241m=\u001b[39mtext) \u001b[38;5;28;01mfrom\u001b[39;00m \u001b[38;5;21;01me\u001b[39;00m\n",
      "\u001b[1;31mOutputParserException\u001b[0m: Invalid json output: budget=500 deadline=2021-12-31T00:00:00.000Z\n\n\nTítulo: Ilustrador para criação de Gibi\nDescrição: Preciso de um ilustrador para criar um gibi colorido de 20 páginas. O gibi será voltado para o público infantil e deve conter ilustrações criativas e atrativas. O roteiro já está pronto e será fornecido ao ilustrador, mas aceito sugestões e ideias para enriquecer a história.\nHabilidades necessárias: Experiência em ilustração, criatividade, habilidade em desenhar personagens e cenários, conhecimento em técnicas de coloração.\nOrçamento: R$500,00\nPrazo: 31/12/2021"
     ]
    }
   ],
   "source": [
    "print(get_result(input))"
   ]
  }
 ],
 "metadata": {
  "kernelspec": {
   "display_name": "dev",
   "language": "python",
   "name": "python3"
  },
  "language_info": {
   "codemirror_mode": {
    "name": "ipython",
    "version": 3
   },
   "file_extension": ".py",
   "mimetype": "text/x-python",
   "name": "python",
   "nbconvert_exporter": "python",
   "pygments_lexer": "ipython3",
   "version": "3.11.5"
  }
 },
 "nbformat": 4,
 "nbformat_minor": 2
}
