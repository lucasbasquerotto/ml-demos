{
 "cells": [
  {
   "cell_type": "markdown",
   "metadata": {},
   "source": [
    "# Chapter 05 - Exercises"
   ]
  },
  {
   "cell_type": "markdown",
   "metadata": {},
   "source": [
    "### Exercise 5.6\n",
    "\n",
    "**Q**\n",
    "\n",
    "What is the equation analogous to (5.6) for action values Q(s, a) instead of state values V (s), again given returns generated using b?\n",
    "\n",
    "**A**\n",
    "\n",
    "The equation 5.6 is:\n",
    "\n",
    "\\begin{align*}\n",
    "V(s) \\stackrel{.}{=} \\frac{\\sum_{t \\in \\mathcal{T}(s)} \\rho_{t:T(t)-1} G_t}{\\sum_{t \\in \\mathcal{T}(s)} \\rho_{t:T(t)-1}}\n",
    "\\end{align*}\n",
    "\n",
    "And:\n",
    "\n",
    "\\begin{align*}\n",
    "\\rho_{t:T(t)-1} \\stackrel{.}{=} \\frac{\\prod_{k=t}^{T-1} \\pi(A_k | S_k) p(S_{k+1} | S_k, A_k)}{\\prod_{k=t}^{T-1} b(A_k | S_k) p(S_{k+1} | S_k, A_k)} = \\frac{\\prod_{k=t}^{T-1} \\pi(A_k | S_k)}{\\prod_{k=t}^{T-1} b(A_k | S_k)}\n",
    "\\end{align*}\n",
    "\n",
    "For $Q(s, a)$, we have $A_t=a$, so:\n",
    "\n",
    "\\begin{align*}\n",
    "Q(s, a) &\\stackrel{.}{=} \\frac{\\sum_{t \\in \\mathcal{T}(s, a)} \\rho_{t:T(t)-1} G_t}{\\sum_{t \\in \\mathcal{T}(s, a)} \\rho_{t:T(t)-1}} \\\\\n",
    "&= \\frac{\\sum_{t \\in \\mathcal{T}(s, a)} \\rho_{t:t} \\rho_{t+1:T(t)-1} G_t}{\\sum_{t \\in \\mathcal{T}(s, a)} \\rho_{t:t} \\rho_{t+1:T(t)-1}} \\\\\n",
    "&= \\frac{\\sum_{t \\in \\mathcal{T}(s, a)} \\frac{\\pi(A_t | S_t)}{b(A_t | S_t)} \\rho_{t+1:T(t)-1} G_t}{\\sum_{t \\in \\mathcal{T}(s, a)} \\frac{\\pi(A_t | S_t)}{b(A_t | S_t)} \\rho_{t+1:T(t)-1}} \\\\\n",
    "&= \\frac{\\sum_{t \\in \\mathcal{T}(s, a)} \\frac{\\pi(a | s)}{b(a | s)} \\rho_{t+1:T(t)-1} G_t}{\\sum_{t \\in \\mathcal{T}(s, a)} \\frac{\\pi(a | s)}{b(a | s)} \\rho_{t+1:T(t)-1}} \\\\\n",
    "&= \\frac{\\frac{\\pi(a | s)}{b(a | s)} \\sum_{t \\in \\mathcal{T}(s, a)} \\rho_{t+1:T(t)-1} G_t}{\\frac{\\pi(a | s)}{b(a | s)} \\sum_{t \\in \\mathcal{T}(s, a)} \\rho_{t+1:T(t)-1}} \\\\\n",
    "&= \\frac{\\sum_{t \\in \\mathcal{T}(s, a)} \\rho_{t+1:T(t)-1} G_t}{\\sum_{t \\in \\mathcal{T}(s, a)} \\rho_{t+1:T(t)-1}}\n",
    "\\end{align*}\n",
    "\n",
    "In which $\\mathcal{T}(s, a)$ are the occurences (or first occurence in the episode for first-visit Monte Carlo) of the state s and action a across all episodes.\n",
    "\n",
    "Because $A_t=a$, the first term in the product that generate $\\rho_{t:T(t)-1}$ is a constant, and can be isolated outside the sum. \n",
    "\n",
    "In a weighted importance sampling (which is the case above), the constant is present both in the numerator and denominator and cancel each other, that is, the importance-sampling ratio, $\\rho$, can consider only the times from $t+1$ onwards in a weighted importance sampling for $Q(s, a)$.\n",
    "\n"
   ]
  },
  {
   "cell_type": "markdown",
   "metadata": {},
   "source": [
    "### Exercise 5.7\n",
    "\n",
    "**Q**\n",
    "\n",
    "In learning curves such as those shown in Figure 5.3 error generally decreases with training, as indeed happened for the ordinary importance-sampling method. But for the weighted importance-sampling method error first increased and then decreased. Why do you think this happened?\n",
    "\n",
    "**A**"
   ]
  },
  {
   "cell_type": "markdown",
   "metadata": {},
   "source": [
    "### Exercise 5.8\n",
    "\n",
    "**Q**\n",
    "\n",
    "The results with Example 5.5 and shown in Figure 5.4 used a first-visit MC method. Suppose that instead an every-visit MC method was used on the same problem. Would the variance of the estimator still be infinite? Why or why not?\n",
    "\n",
    "**A**"
   ]
  }
 ],
 "metadata": {
  "language_info": {
   "name": "python"
  }
 },
 "nbformat": 4,
 "nbformat_minor": 2
}
