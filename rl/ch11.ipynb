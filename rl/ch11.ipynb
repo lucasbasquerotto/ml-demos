{
 "cells": [
  {
   "cell_type": "markdown",
   "metadata": {},
   "source": [
    "# Chapter 11 - Exercises"
   ]
  },
  {
   "cell_type": "markdown",
   "metadata": {},
   "source": [
    "### Exercise 11.1\n",
    "\n",
    "**Q**\n",
    "\n",
    "Convert the equation of n-step off-policy TD (7.9) to semi-gradient form. Give accompanying definitions of the return for both the episodic and continuing cases.\n",
    "\n",
    "**A**\n",
    "\n",
    "Equation 7.9 is:\n",
    "\n",
    "$$\n",
    "V_{t+n}(S_t) \\doteq V_{t+n-1}(S_t) + \\alpha \\rho_{t:t+n-1} [G_{t:t+n} - V_{t+n-1}(S_t)], \\quad 0 \\leq t \\lt T\n",
    "$$\n",
    "\n",
    "The equivalent semi-gradient form is:\n",
    "\n",
    "$$\n",
    "\\textbf{w}_{t+n} \\doteq \\textbf{w}_{t+n-1} + \\alpha \\rho_{t:t+n-1} [G_{t:t+n} - \\widehat{v}(S_t, \\textbf{w}_{t+n-1})] \\nabla \\widehat{v}(S_t, \\textbf{w}_{t+n-1}), \\quad 0 \\leq t \\lt T\n",
    "$$\n",
    "\n",
    "The definitions of the return for both the episodic and continuing cases are:\n",
    "\n",
    "$$\n",
    "G_{t:t+n}(S_t) \\doteq R_{t+1} + ... + \\gamma^{n-1} R_{t+n} + \\gamma^n \\widehat{v}(S_{t+n}, \\textbf{w}_{t+n-1}) = \\left[ \\sum_{i=0}^{n-1} \\gamma^i R_{t+i+1} \\right] + \\gamma^n \\widehat{v}(S_{t+n}, \\textbf{w}_{t+n-1}) \\tag{episodic}\n",
    "$$\n",
    "\n",
    "$$\n",
    "G_{t:t+n}(S_t) \\doteq R_{t+1} - \\overline{R}_t + ... + R_{t+n} - \\overline{R}_{t+n-1} + \\widehat{v}(S_{t+n}, \\textbf{w}_{t+n-1}) = \\left[ \\sum_{i=0}^{n-1} (R_{t+i+1} - \\overline{R}_{t+i}) \\right] + \\widehat{v}(S_{t+n}, \\textbf{w}_{t+n-1}) \\tag{continuing}\n",
    "$$\n",
    "\n",
    "with $G_{t:t+n} = G_t$ if $t + n \\geq T$."
   ]
  },
  {
   "cell_type": "markdown",
   "metadata": {},
   "source": [
    "### Exercise 11.2 \n",
    "\n",
    "**Q**\n",
    "\n",
    "Convert the equations of n-step Q($\\sigma$) (7.11 and 7.17) to semi-gradient form. Give definitions that cover both the episodic and continuing cases.\n",
    "\n",
    "**A**\n",
    "\n",
    "Equation 7.11 is:\n",
    "\n",
    "$$\n",
    "Q_{t+n}(S_t, A_t) \\doteq Q_{t+n-1}(S_t, A_t) + \\alpha \\rho_{t+1:t+n}[G_{t:t+n} - Q_{t+n-1}(S_t, A_t)] \\tag{7.11}\n",
    "$$\n",
    "\n",
    "Equation 7.17 is:\n",
    "\n",
    "$$\n",
    "G_{t:h} \\doteq R_{t+1} + \\gamma(\\sigma_{t+1} \\rho_{t+1} + (1 - \\sigma_{t+1}) \\pi(A_{t+1} | S_{t+1})) (G_{t+1:h} - Q_{h-1}(S_{t+1}, A_{t+1})) + \\gamma \\overline{V}_{h-1} (S_{t+1}) \\tag{7.17}\n",
    "$$\n",
    "\n",
    "The n-step Q($\\sigma$) update in semi-gradient form is:\n",
    "\n",
    "$$\n",
    "\\textbf{w}_{t+n} \\doteq \\textbf{w}_{t+n-1} + \\alpha \\rho_{t+1:t+n}[G_{t:t+n} - \\widehat{q}(S_t, A_t, \\textbf{w}_{t+n-1})] \\nabla \\widehat{q}(S_t, A_t, \\textbf{w}_{t+n-1})\n",
    "$$\n",
    "\n",
    "With, for $h = t + n$:\n",
    "\n",
    "$$\n",
    "G_{t:t+n} = G_{t:h} \\doteq R_{t+1} + \\gamma(\\sigma_{t+1} \\rho_{t+1} + (1 - \\sigma_{t+1}) \\pi(A_{t+1} | S_{t+1})) (G_{t+1:h} - \\widehat{q}(S_{t+1}, A_{t+1}, \\textbf{w}_{h-1})) + \\gamma \\overline{v} (S_{t+1}, \\textbf{w}_{h-1}) \\tag{episodic}\n",
    "$$\n",
    "\n",
    "$$\n",
    "G_{t:t+n} = G_{t:h} \\doteq R_{t+1} - \\overline{R}_t + (\\sigma_{t+1} \\rho_{t+1} + (1 - \\sigma_{t+1}) \\pi(A_{t+1} | S_{t+1})) (G_{t+1:h} - \\widehat{q}(S_{t+1}, A_{t+1}, \\textbf{w}_{h-1})) + \\overline{v} (S_{t+1}, \\textbf{w}_{h-1}) \\tag{continuing}\n",
    "$$\n",
    "\n",
    "with:\n",
    "\n",
    "$$\n",
    "\\overline{v}(s, \\textbf{w}) = \\sum_{a \\in \\mathcal{A}(s)} \\pi(a | s) \\widehat{q}(s, a, \\textbf{w})\n",
    "$$\n",
    "\n",
    "for $t \\lt h \\leq T$, with $G_{h:h} = \\widehat{q}(S_h, A_h, \\textbf{w}_{h-1})$ if $h \\lt T$ or, if $h = T$, with $G_{T-1:T} = R_T$ for the episodic case and $G_{T-1:T} = R_T - \\overline{R}_{T-1}$ for the continuing case.\n"
   ]
  },
  {
   "cell_type": "markdown",
   "metadata": {},
   "source": [
    "### Example 11.1\n",
    "\n",
    "\\begin{align*}\n",
    "\\frac{d[(w - \\gamma 2 w_k)^2 + (2w - (1 - \\epsilon) \\gamma 2 w_k)^2]}{dw} &= 0 \\\\\n",
    "2(w - \\gamma 2 w_k) \\cdot 1 + 2(2w - (1 - \\epsilon) \\gamma 2 w_k) \\cdot 2 &= 0\\\\\n",
    "2w - 4 \\gamma w_k + 8w - 8 \\gamma w_k + 8 \\epsilon \\gamma w_k &= 0 \\\\\n",
    "10w - 12 \\gamma w_k + 8 \\epsilon \\gamma w_k &= 0 \\\\\n",
    "10w &= 12 \\gamma w_k - 8 \\epsilon \\gamma w_k \\\\\n",
    "w &= \\frac{12 \\gamma w_k - 8 \\epsilon \\gamma w_k}{10} \\\\\n",
    "w &= \\frac{6 - 4 \\epsilon}{5} \\gamma w_k\n",
    "\\end{align*}"
   ]
  }
 ],
 "metadata": {
  "language_info": {
   "name": "python"
  }
 },
 "nbformat": 4,
 "nbformat_minor": 2
}
