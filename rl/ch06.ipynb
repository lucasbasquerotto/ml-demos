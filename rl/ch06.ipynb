{
 "cells": [
  {
   "cell_type": "markdown",
   "metadata": {},
   "source": [
    "# Chapter 06 - Exercises"
   ]
  },
  {
   "cell_type": "markdown",
   "metadata": {},
   "source": [
    "### Exercise 6.1\n",
    "\n",
    "**Q**\n",
    "\n",
    "If V changes during the episode, then (6.6) only holds approximately; what would the difference be between the two sides? Let $V_t$ denote the array of state values used at time t in the TD error (6.5) and in the TD update (6.2). Redo the derivation above to determine the additional amount that must be added to the sum of TD errors in order to equal the Monte Carlo error.\n",
    "\n",
    "**A**\n",
    "\n",
    "The equation 6.2, that defines how the values are updated using the TD method, is:\n",
    "\n",
    "\\begin{align*}\n",
    "V(S_t) \\gets V(S_t) + \\alpha [R_{t+1} + \\gamma V(S_{t+1}) - V(S_t)] \\tag{6.2}\n",
    "\\end{align*}\n",
    "\n",
    "The TD error (equation 6.5) is:\n",
    "\n",
    "\\begin{align*}\n",
    "\\delta_t \\stackrel{.}{=} R_{t+1} + \\gamma V(S_{t+1}) - V(S_t) \\tag{6.5}\n",
    "\\end{align*}\n",
    "\n",
    "The equation 6.6 is:\n",
    "\n",
    "\\begin{align*}\n",
    "G_t - V(S_t) &= R_{t+1} + \\gamma G_{t+1} - V(S_t) + \\gamma V(S_{t+1}) - \\gamma V(S_{t+1}) \\tag{from (3.9)} \\\\\n",
    "&= \\delta_t + \\gamma (G_{t+1} - V(S_{t+1})) \\\\\n",
    "&= \\delta_t + \\gamma \\delta_{t+1} + \\gamma^2 (G_{t+2} - V(S_{t+2})) \\\\\n",
    "&= \\delta_t + \\gamma \\delta_{t+1} + \\gamma^2 \\delta_{t+2} + ... + \\gamma^{T-t-1} \\delta_{T-1} + \\gamma^{T-t} (G_T - V(S_T)) \\\\\n",
    "&= \\delta_t + \\gamma \\delta_{t+1} + \\gamma^2 \\delta_{t+2} + ... + \\gamma^{T-t-1} \\delta_{T-1} + \\gamma^{T-t} (0 - 0) \\\\\n",
    "&= \\sum_{k=t}^{T-1} \\gamma^{k-t} \\delta_k \\tag{6.6}\n",
    "\\end{align*}\n",
    "\n",
    "If V changes during the episode, then at time t the new V would be:\n",
    "\n",
    "\\begin{align*}\n",
    "V_{t+1}(S_t) \\gets V_t(S_t) + \\alpha [R_{t+1} + \\gamma V_t(S_{t+1}) - V_t(S_t)]\n",
    "\\end{align*}\n",
    "\n",
    "where $V_t$ hold the state values at time t.\n",
    "\n",
    "The TD error at time t would be:\n",
    "\n",
    "\\begin{align*}\n",
    "\\delta_t \\stackrel{.}{=} R_{t+1} + \\gamma V_t(S_{t+1}) - V_t(S_t)\n",
    "\\end{align*}\n",
    "\n",
    "The final value at the end of the episode, $V_T$, is:\n",
    "\n",
    "\\begin{align*}\n",
    "V(S_t) = V_T(S_t) &= V_{T-1}(S_t) + 1_{S_{T-1} = S_t} \\alpha [R_{t+1} + \\gamma V_{T-1}(S_{t+1}) - V_{T-1}(S_t)] \\\\\n",
    "&= V_{T-1}(S_t) + \\alpha 1_{S_{T-1} = S_t} \\delta_{T-1} \\\\\n",
    "&= [V_{T-2}(S_t) + \\alpha 1_{S_{T-2} = S_t} \\delta_{T-2}] + \\alpha \\delta_{T-1} \\\\\n",
    "&= V_t(S_t) + \\alpha \\sum_{k=t}^{T-1} 1_{S_k = S_t} \\delta_k \\\\\n",
    "\\end{align*}\n",
    "\n",
    "in which $1_{S_k = S_t}$ means that the value will be 1 if $S_k = S_t$ and 0 otherwise, because $V(S_t)$ changes after the time-step k only if the state at that time-step, $S_k$, is the same state at the time-step t, $S_t$. \n",
    "\n",
    "It's important to keep in mind that the same state may be visited several times depending on the choosen actions and the environment dynamics. For the special case in which we have the state $S_t$ only visited at time t, then $V(S_t) = V_t(S_t) + \\alpha \\delta_t$ (there was only one change: it happened in the transition from t to t+1). In the other extreme, if the state $S_t$ was the only state for all time-steps before the terminal state, then $V(S_t) = V_t(S_t) + \\alpha \\sum_{k=t}^{T-1} \\delta_k$, which is the initial value at time t plus all the changes after each time-step.\n",
    "\n",
    "The new derivation (6.6) would be:\n",
    "\n",
    "\\begin{align*}\n",
    "G_t - V(S_t) &= G_t - V_t(S_t) - \\alpha \\sum_{k=t}^{T-1} 1_{S_k = S_t} \\delta_k \\\\\n",
    "&= \\left[ \\sum_{k=t}^{T-1} \\gamma^{k-t} \\delta_k \\right] - \\alpha \\left[ \\sum_{k=t}^{T-1} 1_{S_k = S_t} \\delta_k \\right] \\\\\n",
    "&= \\sum_{k=t}^{T-1} \\left[ (\\gamma^{k-t} - 1_{S_k = S_t} \\alpha) \\delta_k \\right]\n",
    "\\end{align*}"
   ]
  }
 ],
 "metadata": {
  "language_info": {
   "name": "python"
  }
 },
 "nbformat": 4,
 "nbformat_minor": 2
}
