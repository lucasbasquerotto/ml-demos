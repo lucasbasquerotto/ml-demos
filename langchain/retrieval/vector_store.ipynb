{
 "cells": [
  {
   "cell_type": "markdown",
   "metadata": {},
   "source": [
    "# Vector stores"
   ]
  },
  {
   "cell_type": "code",
   "execution_count": 1,
   "metadata": {},
   "outputs": [
    {
     "data": {
      "text/plain": [
       "True"
      ]
     },
     "execution_count": 1,
     "metadata": {},
     "output_type": "execute_result"
    }
   ],
   "source": [
    "from dotenv import load_dotenv\n",
    "load_dotenv('../.env')"
   ]
  },
  {
   "cell_type": "markdown",
   "metadata": {},
   "source": [
    "## Get started"
   ]
  },
  {
   "cell_type": "code",
   "execution_count": 2,
   "metadata": {},
   "outputs": [],
   "source": [
    "from langchain_community.document_loaders import TextLoader\n",
    "from langchain_openai import OpenAIEmbeddings\n",
    "from langchain.text_splitter import CharacterTextSplitter\n",
    "from langchain_community.vectorstores import Chroma\n",
    "\n",
    "# Load the document, split it into chunks, embed each chunk and load it into the vector store.\n",
    "raw_documents = TextLoader('../serve.py').load()\n",
    "text_splitter = CharacterTextSplitter(chunk_size=1000, chunk_overlap=0)\n",
    "documents = text_splitter.split_documents(raw_documents)\n",
    "db = Chroma.from_documents(documents, OpenAIEmbeddings())"
   ]
  },
  {
   "cell_type": "markdown",
   "metadata": {},
   "source": [
    "### Similarity search"
   ]
  },
  {
   "cell_type": "code",
   "execution_count": 3,
   "metadata": {},
   "outputs": [
    {
     "name": "stderr",
     "output_type": "stream",
     "text": [
      "Number of requested results 4 is greater than number of elements in index 3, updating n_results = 3\n"
     ]
    },
    {
     "name": "stdout",
     "output_type": "stream",
     "text": [
      "# 1. Load Retriever\n",
      "loader = WebBaseLoader(\"https://docs.smith.langchain.com/user_guide\")\n",
      "docs = loader.load()\n",
      "text_splitter = RecursiveCharacterTextSplitter()\n",
      "documents = text_splitter.split_documents(docs)\n",
      "embeddings = OpenAIEmbeddings()\n",
      "vector = FAISS.from_documents(documents, embeddings)\n",
      "retriever = vector.as_retriever()\n",
      "\n",
      "# 2. Create Tools\n",
      "retriever_tool = create_retriever_tool(\n",
      "    retriever,\n",
      "    \"langsmith_search\",\n",
      "    \"Search for information about LangSmith. For any questions about LangSmith, you must use this tool!\",\n",
      ")\n",
      "search = TavilySearchResults()\n",
      "tools = [retriever_tool, search]\n",
      "\n",
      "\n",
      "# 3. Create Agent\n",
      "prompt = hub.pull(\"hwchase17/openai-functions-agent\")\n",
      "llm = ChatOpenAI(model=\"gpt-3.5-turbo\", temperature=0)\n",
      "agent = create_openai_functions_agent(llm, tools, prompt)\n",
      "agent_executor = AgentExecutor(agent=agent, tools=tools, verbose=True)\n"
     ]
    }
   ],
   "source": [
    "query = \"What the tool does?\"\n",
    "docs = db.similarity_search(query)\n",
    "print(docs[0].page_content)"
   ]
  },
  {
   "cell_type": "markdown",
   "metadata": {},
   "source": [
    "### Similarity search by vector"
   ]
  },
  {
   "cell_type": "code",
   "execution_count": 4,
   "metadata": {},
   "outputs": [
    {
     "name": "stderr",
     "output_type": "stream",
     "text": [
      "Number of requested results 4 is greater than number of elements in index 3, updating n_results = 3\n"
     ]
    },
    {
     "name": "stdout",
     "output_type": "stream",
     "text": [
      "# 1. Load Retriever\n",
      "loader = WebBaseLoader(\"https://docs.smith.langchain.com/user_guide\")\n",
      "docs = loader.load()\n",
      "text_splitter = RecursiveCharacterTextSplitter()\n",
      "documents = text_splitter.split_documents(docs)\n",
      "embeddings = OpenAIEmbeddings()\n",
      "vector = FAISS.from_documents(documents, embeddings)\n",
      "retriever = vector.as_retriever()\n",
      "\n",
      "# 2. Create Tools\n",
      "retriever_tool = create_retriever_tool(\n",
      "    retriever,\n",
      "    \"langsmith_search\",\n",
      "    \"Search for information about LangSmith. For any questions about LangSmith, you must use this tool!\",\n",
      ")\n",
      "search = TavilySearchResults()\n",
      "tools = [retriever_tool, search]\n",
      "\n",
      "\n",
      "# 3. Create Agent\n",
      "prompt = hub.pull(\"hwchase17/openai-functions-agent\")\n",
      "llm = ChatOpenAI(model=\"gpt-3.5-turbo\", temperature=0)\n",
      "agent = create_openai_functions_agent(llm, tools, prompt)\n",
      "agent_executor = AgentExecutor(agent=agent, tools=tools, verbose=True)\n"
     ]
    }
   ],
   "source": [
    "embedding_vector = OpenAIEmbeddings().embed_query(query)\n",
    "docs = db.similarity_search_by_vector(embedding_vector)\n",
    "print(docs[0].page_content)"
   ]
  },
  {
   "cell_type": "markdown",
   "metadata": {},
   "source": [
    "## Asynchronous operations"
   ]
  },
  {
   "cell_type": "code",
   "execution_count": 6,
   "metadata": {},
   "outputs": [],
   "source": [
    "from langchain_community.vectorstores import Qdrant"
   ]
  },
  {
   "cell_type": "markdown",
   "metadata": {},
   "source": [
    "### Create a vector store asynchronously"
   ]
  },
  {
   "cell_type": "code",
   "execution_count": 8,
   "metadata": {},
   "outputs": [],
   "source": [
    "embeddings = OpenAIEmbeddings()\n",
    "db = await Qdrant.afrom_documents(documents, embeddings, location=\":memory:\")"
   ]
  },
  {
   "cell_type": "markdown",
   "metadata": {},
   "source": [
    "### Similarity search"
   ]
  },
  {
   "cell_type": "code",
   "execution_count": 9,
   "metadata": {},
   "outputs": [
    {
     "name": "stdout",
     "output_type": "stream",
     "text": [
      "# 1. Load Retriever\n",
      "loader = WebBaseLoader(\"https://docs.smith.langchain.com/user_guide\")\n",
      "docs = loader.load()\n",
      "text_splitter = RecursiveCharacterTextSplitter()\n",
      "documents = text_splitter.split_documents(docs)\n",
      "embeddings = OpenAIEmbeddings()\n",
      "vector = FAISS.from_documents(documents, embeddings)\n",
      "retriever = vector.as_retriever()\n",
      "\n",
      "# 2. Create Tools\n",
      "retriever_tool = create_retriever_tool(\n",
      "    retriever,\n",
      "    \"langsmith_search\",\n",
      "    \"Search for information about LangSmith. For any questions about LangSmith, you must use this tool!\",\n",
      ")\n",
      "search = TavilySearchResults()\n",
      "tools = [retriever_tool, search]\n",
      "\n",
      "\n",
      "# 3. Create Agent\n",
      "prompt = hub.pull(\"hwchase17/openai-functions-agent\")\n",
      "llm = ChatOpenAI(model=\"gpt-3.5-turbo\", temperature=0)\n",
      "agent = create_openai_functions_agent(llm, tools, prompt)\n",
      "agent_executor = AgentExecutor(agent=agent, tools=tools, verbose=True)\n"
     ]
    }
   ],
   "source": [
    "docs = await db.asimilarity_search(query)\n",
    "print(docs[0].page_content)"
   ]
  },
  {
   "cell_type": "markdown",
   "metadata": {},
   "source": [
    "### Similarity search by vector"
   ]
  },
  {
   "cell_type": "code",
   "execution_count": 10,
   "metadata": {},
   "outputs": [],
   "source": [
    "embedding_vector = embeddings.embed_query(query)\n",
    "docs = await db.asimilarity_search_by_vector(embedding_vector)"
   ]
  },
  {
   "cell_type": "code",
   "execution_count": 11,
   "metadata": {},
   "outputs": [
    {
     "name": "stdout",
     "output_type": "stream",
     "text": [
      "# 1. Load Retriever\n",
      "loader = WebBaseLoader(\"https://docs.smith.langchain.com/user_guide\")\n",
      "docs = loader.load()\n",
      "text_splitter = RecursiveCharacterTextSplitter()\n",
      "documents = text_splitter.split_documents(docs)\n",
      "embeddings = OpenAIEmbeddings()\n",
      "vector = FAISS.from_documents(documents, embeddings)\n",
      "retriever = vector.as_retriever()\n",
      "\n",
      "# 2. Create Tools\n",
      "retriever_tool = create_retriever_tool(\n",
      "    retriever,\n",
      "    \"langsmith_search\",\n",
      "    \"Search for information about LangSmith. For any questions about LangSmith, you must use this tool!\",\n",
      ")\n",
      "search = TavilySearchResults()\n",
      "tools = [retriever_tool, search]\n",
      "\n",
      "\n",
      "# 3. Create Agent\n",
      "prompt = hub.pull(\"hwchase17/openai-functions-agent\")\n",
      "llm = ChatOpenAI(model=\"gpt-3.5-turbo\", temperature=0)\n",
      "agent = create_openai_functions_agent(llm, tools, prompt)\n",
      "agent_executor = AgentExecutor(agent=agent, tools=tools, verbose=True)\n"
     ]
    }
   ],
   "source": [
    "print(docs[0].page_content)"
   ]
  },
  {
   "cell_type": "markdown",
   "metadata": {},
   "source": [
    "### Maximum marginal relevance search (MMR)"
   ]
  },
  {
   "cell_type": "code",
   "execution_count": 12,
   "metadata": {},
   "outputs": [
    {
     "name": "stdout",
     "output_type": "stream",
     "text": [
      "1. # 1. Load Retriever\n",
      "loader = WebBaseLoader(\"https://docs.smith.langchain.com/user_guide\")\n",
      "docs = loader.load()\n",
      "text_splitter = RecursiveCharacterTextSplitter()\n",
      "documents = text_splitter.split_documents(docs)\n",
      "embeddings = OpenAIEmbeddings()\n",
      "vector = FAISS.from_documents(documents, embeddings)\n",
      "retriever = vector.as_retriever()\n",
      "\n",
      "# 2. Create Tools\n",
      "retriever_tool = create_retriever_tool(\n",
      "    retriever,\n",
      "    \"langsmith_search\",\n",
      "    \"Search for information about LangSmith. For any questions about LangSmith, you must use this tool!\",\n",
      ")\n",
      "search = TavilySearchResults()\n",
      "tools = [retriever_tool, search]\n",
      "\n",
      "\n",
      "# 3. Create Agent\n",
      "prompt = hub.pull(\"hwchase17/openai-functions-agent\")\n",
      "llm = ChatOpenAI(model=\"gpt-3.5-turbo\", temperature=0)\n",
      "agent = create_openai_functions_agent(llm, tools, prompt)\n",
      "agent_executor = AgentExecutor(agent=agent, tools=tools, verbose=True) \n",
      "\n",
      "2. # 4. App definition\n",
      "app = FastAPI(\n",
      "  title=\"LangChain Server\",\n",
      "  version=\"1.0\",\n",
      "  description=\"A simple API server using LangChain's Runnable interfaces\",\n",
      ")\n",
      "\n",
      "# 5. Adding chain route\n",
      "\n",
      "# We need to add these input/output schemas because the current AgentExecutor\n",
      "# is lacking in schemas.\n",
      "\n",
      "class Input(BaseModel):\n",
      "    input: str\n",
      "    chat_history: List[BaseMessage] = Field(\n",
      "        ...,\n",
      "        extra={\"widget\": {\"type\": \"chat\", \"input\": \"location\"}},\n",
      "    )\n",
      "\n",
      "\n",
      "class Output(BaseModel):\n",
      "    output: str\n",
      "\n",
      "add_routes(\n",
      "    app,\n",
      "    agent_executor.with_types(input_type=Input, output_type=Output),\n",
      "    path=\"/agent\",\n",
      ")\n",
      "\n",
      "if __name__ == \"__main__\":\n",
      "    import uvicorn\n",
      "\n",
      "    uvicorn.run(app, host=\"localhost\", port=8000) \n",
      "\n"
     ]
    }
   ],
   "source": [
    "found_docs = await db.amax_marginal_relevance_search(query, k=2, fetch_k=10)\n",
    "for i, doc in enumerate(found_docs):\n",
    "    print(f\"{i + 1}.\", doc.page_content, \"\\n\")"
   ]
  },
  {
   "cell_type": "code",
   "execution_count": 13,
   "metadata": {},
   "outputs": [
    {
     "name": "stdout",
     "output_type": "stream",
     "text": [
      "2\n"
     ]
    }
   ],
   "source": [
    "print(len(found_docs))"
   ]
  },
  {
   "cell_type": "code",
   "execution_count": 14,
   "metadata": {},
   "outputs": [
    {
     "name": "stdout",
     "output_type": "stream",
     "text": [
      "3\n"
     ]
    }
   ],
   "source": [
    "print(len(documents))"
   ]
  },
  {
   "cell_type": "code",
   "execution_count": 15,
   "metadata": {},
   "outputs": [
    {
     "data": {
      "text/plain": [
       "Document(page_content=\"#!/usr/bin/env python\\nfrom typing import List\\n\\nfrom fastapi import FastAPI\\nfrom langchain_core.prompts import ChatPromptTemplate\\nfrom langchain_openai import ChatOpenAI\\nfrom langchain_community.document_loaders import WebBaseLoader\\nfrom langchain_openai import OpenAIEmbeddings\\nfrom langchain_community.vectorstores import FAISS\\nfrom langchain.text_splitter import RecursiveCharacterTextSplitter\\nfrom langchain.tools.retriever import create_retriever_tool\\nfrom langchain_community.tools.tavily_search import TavilySearchResults\\nfrom langchain import hub\\nfrom langchain.agents import create_openai_functions_agent\\nfrom langchain.agents import AgentExecutor\\nfrom langchain.pydantic_v1 import BaseModel, Field\\nfrom langchain_core.messages import BaseMessage\\nfrom langserve import add_routes\\nfrom dotenv import load_dotenv\\n\\nload_dotenv('.env')\", metadata={'source': '../serve.py', '_id': 'b7820abf057543e4b2a10fff9139e594', '_collection_name': '5ed89be72cbe4998b81f03d7a0154c43'})"
      ]
     },
     "execution_count": 15,
     "metadata": {},
     "output_type": "execute_result"
    }
   ],
   "source": [
    "documents[0]"
   ]
  }
 ],
 "metadata": {
  "kernelspec": {
   "display_name": "dev",
   "language": "python",
   "name": "python3"
  },
  "language_info": {
   "codemirror_mode": {
    "name": "ipython",
    "version": 3
   },
   "file_extension": ".py",
   "mimetype": "text/x-python",
   "name": "python",
   "nbconvert_exporter": "python",
   "pygments_lexer": "ipython3",
   "version": "3.11.5"
  }
 },
 "nbformat": 4,
 "nbformat_minor": 2
}
