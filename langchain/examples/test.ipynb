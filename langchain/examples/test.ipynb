{
 "cells": [
  {
   "cell_type": "code",
   "execution_count": null,
   "metadata": {},
   "outputs": [],
   "source": [
    "import sys\n",
    "\n",
    "if sys.platform.startswith(\"win\") and sys.version_info >= (3, 8):\n",
    "    import asyncio\n",
    "    print('debug - 1')\n",
    "\n",
    "    try:\n",
    "        print('debug - 2')\n",
    "        from asyncio import (\n",
    "            WindowsProactorEventLoopPolicy,\n",
    "            WindowsSelectorEventLoopPolicy,\n",
    "        )\n",
    "    except ImportError:\n",
    "        pass\n",
    "        # not affected\n",
    "    else:\n",
    "        print('debug - 3', asyncio.get_event_loop_policy())\n",
    "        if type(asyncio.get_event_loop_policy()) is WindowsSelectorEventLoopPolicy:\n",
    "            # WindowsProactorEventLoopPolicy is not compatible with tornado 6\n",
    "            # fallback to the pre-3.8 default of Selector\n",
    "            print('debug - 4')\n",
    "            asyncio.set_event_loop_policy(WindowsProactorEventLoopPolicy())"
   ]
  },
  {
   "cell_type": "code",
   "execution_count": null,
   "metadata": {},
   "outputs": [],
   "source": [
    "import nest_asyncio\n",
    "\n",
    "# This is just required for running async playwright in a Jupyter notebook\n",
    "nest_asyncio.apply()"
   ]
  },
  {
   "cell_type": "code",
   "execution_count": null,
   "metadata": {},
   "outputs": [],
   "source": [
    "from playwright.async_api import async_playwright\n",
    "\n",
    "playwright = await async_playwright().start()\n",
    "browser = await playwright.chromium.launch(headless = False)\n",
    "page = await browser.new_page()\n",
    "\n",
    "await page.goto(\"http://whatsmyuseragent.org/\")\n",
    "\n",
    "# await page.screenshot(path=\"example.png\")\n",
    "# await browser.close()\n",
    "# await playwright.stop()"
   ]
  }
 ],
 "metadata": {
  "kernelspec": {
   "display_name": "dev",
   "language": "python",
   "name": "python3"
  },
  "language_info": {
   "codemirror_mode": {
    "name": "ipython",
    "version": 3
   },
   "file_extension": ".py",
   "mimetype": "text/x-python",
   "name": "python",
   "nbconvert_exporter": "python",
   "pygments_lexer": "ipython3",
   "version": "3.11.5"
  }
 },
 "nbformat": 4,
 "nbformat_minor": 2
}
