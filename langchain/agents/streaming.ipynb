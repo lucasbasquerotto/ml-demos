{
 "cells": [
  {
   "cell_type": "markdown",
   "metadata": {},
   "source": [
    "# Streaming"
   ]
  },
  {
   "cell_type": "code",
   "execution_count": 1,
   "metadata": {},
   "outputs": [
    {
     "data": {
      "text/plain": [
       "True"
      ]
     },
     "execution_count": 1,
     "metadata": {},
     "output_type": "execute_result"
    }
   ],
   "source": [
    "from dotenv import load_dotenv\n",
    "load_dotenv('../.env')"
   ]
  },
  {
   "cell_type": "code",
   "execution_count": 2,
   "metadata": {},
   "outputs": [],
   "source": [
    "from langchain import hub\n",
    "from langchain.agents import AgentExecutor, create_openai_tools_agent\n",
    "from langchain.prompts import ChatPromptTemplate\n",
    "from langchain.tools import tool\n",
    "from langchain_core.callbacks import Callbacks\n",
    "from langchain_openai import ChatOpenAI"
   ]
  },
  {
   "cell_type": "markdown",
   "metadata": {},
   "source": [
    "## Create the model"
   ]
  },
  {
   "cell_type": "code",
   "execution_count": 3,
   "metadata": {},
   "outputs": [],
   "source": [
    "model = ChatOpenAI(temperature=0, streaming=True)"
   ]
  },
  {
   "cell_type": "markdown",
   "metadata": {},
   "source": [
    "## Tools"
   ]
  },
  {
   "cell_type": "code",
   "execution_count": 4,
   "metadata": {},
   "outputs": [],
   "source": [
    "import random\n",
    "\n",
    "\n",
    "@tool\n",
    "async def where_cat_is_hiding() -> str:\n",
    "    \"\"\"Where is the cat hiding right now?\"\"\"\n",
    "    return random.choice([\"under the bed\", \"on the shelf\"])\n",
    "\n",
    "\n",
    "@tool\n",
    "async def get_items(place: str) -> str:\n",
    "    \"\"\"Use this tool to look up which items are in the given place.\"\"\"\n",
    "    if \"bed\" in place:  # For under the bed\n",
    "        return \"socks, shoes and dust bunnies\"\n",
    "    if \"shelf\" in place:  # For 'shelf'\n",
    "        return \"books, penciles and pictures\"\n",
    "    else:  # if the agent decides to ask about a different place\n",
    "        return \"cat snacks\""
   ]
  },
  {
   "cell_type": "code",
   "execution_count": 10,
   "metadata": {},
   "outputs": [
    {
     "data": {
      "text/plain": [
       "'under the bed'"
      ]
     },
     "execution_count": 10,
     "metadata": {},
     "output_type": "execute_result"
    }
   ],
   "source": [
    "await where_cat_is_hiding.ainvoke({})"
   ]
  },
  {
   "cell_type": "code",
   "execution_count": 11,
   "metadata": {},
   "outputs": [
    {
     "data": {
      "text/plain": [
       "'books, penciles and pictures'"
      ]
     },
     "execution_count": 11,
     "metadata": {},
     "output_type": "execute_result"
    }
   ],
   "source": [
    "await get_items.ainvoke({\"place\": \"shelf\"})"
   ]
  },
  {
   "cell_type": "markdown",
   "metadata": {},
   "source": [
    "## Initialize the agent"
   ]
  },
  {
   "cell_type": "code",
   "execution_count": 12,
   "metadata": {},
   "outputs": [],
   "source": [
    "# Get the prompt to use - you can modify this!\n",
    "prompt = hub.pull(\"hwchase17/openai-tools-agent\")\n",
    "# print(prompt.messages) -- to see the prompt\n",
    "tools = [get_items, where_cat_is_hiding]\n",
    "agent = create_openai_tools_agent(\n",
    "    model.with_config({\"tags\": [\"agent_llm\"]}), tools, prompt\n",
    ")\n",
    "agent_executor = AgentExecutor(agent=agent, tools=tools).with_config(\n",
    "    {\"run_name\": \"Agent\"}\n",
    ")"
   ]
  },
  {
   "cell_type": "markdown",
   "metadata": {},
   "source": [
    "## Stream Intermediate Steps"
   ]
  },
  {
   "cell_type": "code",
   "execution_count": 13,
   "metadata": {},
   "outputs": [
    {
     "name": "stdout",
     "output_type": "stream",
     "text": [
      "------\n",
      "{'actions': [...], 'messages': [...]}\n",
      "------\n",
      "{'messages': [...], 'steps': [...]}\n",
      "------\n",
      "{'actions': [...], 'messages': [...]}\n",
      "------\n",
      "{'messages': [...], 'steps': [...]}\n",
      "------\n",
      "{'messages': [...],\n",
      " 'output': 'The items located where the cat is hiding (on the shelf) are '\n",
      "           'books, pencils, and pictures.'}\n"
     ]
    }
   ],
   "source": [
    "# Note: We use `pprint` to print only to depth 1, it makes it easier to see the output from a high level, before digging in.\n",
    "import pprint\n",
    "\n",
    "chunks = []\n",
    "\n",
    "async for chunk in agent_executor.astream(\n",
    "    {\"input\": \"what's items are located where the cat is hiding?\"}\n",
    "):\n",
    "    chunks.append(chunk)\n",
    "    print(\"------\")\n",
    "    pprint.pprint(chunk, depth=1)"
   ]
  },
  {
   "cell_type": "markdown",
   "metadata": {},
   "source": [
    "### Using Messages"
   ]
  },
  {
   "cell_type": "code",
   "execution_count": 14,
   "metadata": {},
   "outputs": [
    {
     "data": {
      "text/plain": [
       "[OpenAIToolAgentAction(tool='where_cat_is_hiding', tool_input={}, log='\\nInvoking: `where_cat_is_hiding` with `{}`\\n\\n\\n', message_log=[AIMessageChunk(content='', additional_kwargs={'tool_calls': [{'index': 0, 'id': 'call_NI02eyCJfBe128jc1aEU2grK', 'function': {'arguments': '{}', 'name': 'where_cat_is_hiding'}, 'type': 'function'}]})], tool_call_id='call_NI02eyCJfBe128jc1aEU2grK')]"
      ]
     },
     "execution_count": 14,
     "metadata": {},
     "output_type": "execute_result"
    }
   ],
   "source": [
    "chunks[0][\"actions\"]"
   ]
  },
  {
   "cell_type": "code",
   "execution_count": 16,
   "metadata": {},
   "outputs": [
    {
     "data": {
      "text/plain": [
       "[AgentStep(action=OpenAIToolAgentAction(tool='where_cat_is_hiding', tool_input={}, log='\\nInvoking: `where_cat_is_hiding` with `{}`\\n\\n\\n', message_log=[AIMessageChunk(content='', additional_kwargs={'tool_calls': [{'index': 0, 'id': 'call_NI02eyCJfBe128jc1aEU2grK', 'function': {'arguments': '{}', 'name': 'where_cat_is_hiding'}, 'type': 'function'}]})], tool_call_id='call_NI02eyCJfBe128jc1aEU2grK'), observation='on the shelf')]"
      ]
     },
     "execution_count": 16,
     "metadata": {},
     "output_type": "execute_result"
    }
   ],
   "source": [
    "chunks[1][\"steps\"]"
   ]
  },
  {
   "cell_type": "code",
   "execution_count": 17,
   "metadata": {},
   "outputs": [
    {
     "data": {
      "text/plain": [
       "[OpenAIToolAgentAction(tool='get_items', tool_input={'place': 'on the shelf'}, log=\"\\nInvoking: `get_items` with `{'place': 'on the shelf'}`\\n\\n\\n\", message_log=[AIMessageChunk(content='', additional_kwargs={'tool_calls': [{'index': 0, 'id': 'call_v8LwJXZR5R9UylvS3LgPKSjo', 'function': {'arguments': '{\"place\":\"on the shelf\"}', 'name': 'get_items'}, 'type': 'function'}]})], tool_call_id='call_v8LwJXZR5R9UylvS3LgPKSjo')]"
      ]
     },
     "execution_count": 17,
     "metadata": {},
     "output_type": "execute_result"
    }
   ],
   "source": [
    "chunks[2][\"actions\"]"
   ]
  },
  {
   "cell_type": "code",
   "execution_count": 18,
   "metadata": {},
   "outputs": [
    {
     "name": "stdout",
     "output_type": "stream",
     "text": [
      "[AIMessageChunk(content='', additional_kwargs={'tool_calls': [{'index': 0, 'id': 'call_NI02eyCJfBe128jc1aEU2grK', 'function': {'arguments': '{}', 'name': 'where_cat_is_hiding'}, 'type': 'function'}]})]\n",
      "[FunctionMessage(content='on the shelf', name='where_cat_is_hiding')]\n",
      "[AIMessageChunk(content='', additional_kwargs={'tool_calls': [{'index': 0, 'id': 'call_v8LwJXZR5R9UylvS3LgPKSjo', 'function': {'arguments': '{\"place\":\"on the shelf\"}', 'name': 'get_items'}, 'type': 'function'}]})]\n",
      "[FunctionMessage(content='books, penciles and pictures', name='get_items')]\n",
      "[AIMessage(content='The items located where the cat is hiding (on the shelf) are books, pencils, and pictures.')]\n"
     ]
    }
   ],
   "source": [
    "for chunk in chunks:\n",
    "    print(chunk[\"messages\"])"
   ]
  },
  {
   "cell_type": "markdown",
   "metadata": {},
   "source": [
    "### Using AgentAction/Observation"
   ]
  },
  {
   "cell_type": "code",
   "execution_count": 19,
   "metadata": {},
   "outputs": [
    {
     "name": "stdout",
     "output_type": "stream",
     "text": [
      "Calling Tool: `where_cat_is_hiding` with input `{}`\n",
      "---\n",
      "Tool Result: `under the bed`\n",
      "---\n",
      "Calling Tool: `get_items` with input `{'place': 'under the bed'}`\n",
      "---\n",
      "Tool Result: `socks, shoes and dust bunnies`\n",
      "---\n",
      "Final Output: The items located where the cat is hiding (under the bed) are socks, shoes, and dust bunnies.\n",
      "---\n"
     ]
    }
   ],
   "source": [
    "async for chunk in agent_executor.astream(\n",
    "    {\"input\": \"what's items are located where the cat is hiding?\"}\n",
    "):\n",
    "    # Agent Action\n",
    "    if \"actions\" in chunk:\n",
    "        for action in chunk[\"actions\"]:\n",
    "            print(f\"Calling Tool: `{action.tool}` with input `{action.tool_input}`\")\n",
    "    # Observation\n",
    "    elif \"steps\" in chunk:\n",
    "        for step in chunk[\"steps\"]:\n",
    "            print(f\"Tool Result: `{step.observation}`\")\n",
    "    # Final result\n",
    "    elif \"output\" in chunk:\n",
    "        print(f'Final Output: {chunk[\"output\"]}')\n",
    "    else:\n",
    "        raise ValueError()\n",
    "    print(\"---\")"
   ]
  },
  {
   "cell_type": "markdown",
   "metadata": {},
   "source": [
    "## Custom Streaming With Events"
   ]
  },
  {
   "cell_type": "code",
   "execution_count": 20,
   "metadata": {},
   "outputs": [
    {
     "name": "stdout",
     "output_type": "stream",
     "text": [
      "Starting agent: Agent with input: {'input': 'where is the cat hiding? what items are in that location?'}\n",
      "--\n",
      "Starting tool: where_cat_is_hiding with inputs: {}\n",
      "Done tool: where_cat_is_hiding\n",
      "Tool output was: under the bed\n",
      "--\n",
      "--\n",
      "Starting tool: get_items with inputs: {'place': 'under the bed'}\n",
      "Done tool: get_items\n",
      "Tool output was: socks, shoes and dust bunnies\n",
      "--\n",
      "The| cat| is| hiding| under| the| bed|.| In| that| location|,| you| can| find| socks|,| shoes|,| and| dust| b|unn|ies|.|\n",
      "--\n",
      "Done agent: Agent with output: The cat is hiding under the bed. In that location, you can find socks, shoes, and dust bunnies.\n"
     ]
    }
   ],
   "source": [
    "async for event in agent_executor.astream_events(\n",
    "    {\"input\": \"where is the cat hiding? what items are in that location?\"},\n",
    "    version=\"v1\",\n",
    "):\n",
    "    kind = event[\"event\"]\n",
    "    if kind == \"on_chain_start\":\n",
    "        if (\n",
    "            event[\"name\"] == \"Agent\"\n",
    "        ):  # Was assigned when creating the agent with `.with_config({\"run_name\": \"Agent\"})`\n",
    "            print(\n",
    "                f\"Starting agent: {event['name']} with input: {event['data'].get('input')}\"\n",
    "            )\n",
    "    elif kind == \"on_chain_end\":\n",
    "        if (\n",
    "            event[\"name\"] == \"Agent\"\n",
    "        ):  # Was assigned when creating the agent with `.with_config({\"run_name\": \"Agent\"})`\n",
    "            print()\n",
    "            print(\"--\")\n",
    "            print(\n",
    "                f\"Done agent: {event['name']} with output: {event['data'].get('output')['output']}\"\n",
    "            )\n",
    "    if kind == \"on_chat_model_stream\":\n",
    "        content = event[\"data\"][\"chunk\"].content\n",
    "        if content:\n",
    "            # Empty content in the context of OpenAI means\n",
    "            # that the model is asking for a tool to be invoked.\n",
    "            # So we only print non-empty content\n",
    "            print(content, end=\"|\")\n",
    "    elif kind == \"on_tool_start\":\n",
    "        print(\"--\")\n",
    "        print(\n",
    "            f\"Starting tool: {event['name']} with inputs: {event['data'].get('input')}\"\n",
    "        )\n",
    "    elif kind == \"on_tool_end\":\n",
    "        print(f\"Done tool: {event['name']}\")\n",
    "        print(f\"Tool output was: {event['data'].get('output')}\")\n",
    "        print(\"--\")"
   ]
  },
  {
   "cell_type": "markdown",
   "metadata": {},
   "source": [
    "### Stream Events from within Tools"
   ]
  },
  {
   "cell_type": "code",
   "execution_count": 21,
   "metadata": {},
   "outputs": [],
   "source": [
    "@tool\n",
    "async def get_items(place: str, callbacks: Callbacks) -> str:  # <--- Accept callbacks\n",
    "    \"\"\"Use this tool to look up which items are in the given place.\"\"\"\n",
    "    template = ChatPromptTemplate.from_messages(\n",
    "        [\n",
    "            (\n",
    "                \"human\",\n",
    "                \"Can you tell me what kind of items i might find in the following place: '{place}'. \"\n",
    "                \"List at least 3 such items separating them by a comma. And include a brief description of each item..\",\n",
    "            )\n",
    "        ]\n",
    "    )\n",
    "    chain = template | model.with_config(\n",
    "        {\n",
    "            \"run_name\": \"Get Items LLM\",\n",
    "            \"tags\": [\"tool_llm\"],\n",
    "            \"callbacks\": callbacks,  # <-- Propagate callbacks\n",
    "        }\n",
    "    )\n",
    "    chunks = [chunk async for chunk in chain.astream({\"place\": place})]\n",
    "    return \"\".join(chunk.content for chunk in chunks)"
   ]
  },
  {
   "cell_type": "code",
   "execution_count": 22,
   "metadata": {},
   "outputs": [
    {
     "name": "stdout",
     "output_type": "stream",
     "text": [
      "Starting agent: Agent with input: {'input': 'where is the cat hiding? what items are in that location?'}\n",
      "--\n",
      "Starting tool: where_cat_is_hiding with inputs: {}\n",
      "Done tool: where_cat_is_hiding\n",
      "Tool output was: under the bed\n",
      "--\n",
      "--\n",
      "Starting tool: get_items with inputs: {'place': 'under the bed'}\n",
      "1|.| Dust| b|unn|ies| -| small| cl|umps| of| dust| and| debris| that| accumulate| under| the| bed| over| time|.| They| are| often| made| up| of| hair|,| lint|,| and| other| particles| that| have| collected| in| hard|-to|-re|ach| places|.\n",
      "\n",
      "|2|.| Lost| socks| -| single| socks| that| have| gone| missing| from| a| pair| and| ended| up| under| the| bed|.| They| are| often| found| tucked| away| in| corners| or| hidden| under| other| items|.\n",
      "\n",
      "|3|.| Forgotten| toys| -| small| toys| or| tr|ink|ets| that| have| been| dropped| or| lost| under| the| bed|.| These| items| can| range| from| action| figures| to| puzzle| pieces| and| are| often| discovered| during| a| thorough| cleaning| or| rearr|anging| of| the| room|.|Done tool: get_items\n",
      "Tool output was: 1. Dust bunnies - small clumps of dust and debris that accumulate under the bed over time. They are often made up of hair, lint, and other particles that have collected in hard-to-reach places.\n",
      "\n",
      "2. Lost socks - single socks that have gone missing from a pair and ended up under the bed. They are often found tucked away in corners or hidden under other items.\n",
      "\n",
      "3. Forgotten toys - small toys or trinkets that have been dropped or lost under the bed. These items can range from action figures to puzzle pieces and are often discovered during a thorough cleaning or rearranging of the room.\n",
      "--\n",
      "The| cat| is| hiding| under| the| bed|.| In| that| location|,| you| can| find| the| following| items|:\n",
      "|1|.| Dust| b|unn|ies| -| small| cl|umps| of| dust| and| debris|.\n",
      "|2|.| Lost| socks| -| single| socks| that| have| gone| missing|.\n",
      "|3|.| Forgotten| toys| -| small| toys| or| tr|ink|ets|.|\n",
      "--\n",
      "Done agent: Agent with output: The cat is hiding under the bed. In that location, you can find the following items:\n",
      "1. Dust bunnies - small clumps of dust and debris.\n",
      "2. Lost socks - single socks that have gone missing.\n",
      "3. Forgotten toys - small toys or trinkets.\n"
     ]
    }
   ],
   "source": [
    "# Get the prompt to use - you can modify this!\n",
    "prompt = hub.pull(\"hwchase17/openai-tools-agent\")\n",
    "# print(prompt.messages) -- to see the prompt\n",
    "tools = [get_items, where_cat_is_hiding]\n",
    "agent = create_openai_tools_agent(\n",
    "    model.with_config({\"tags\": [\"agent_llm\"]}), tools, prompt\n",
    ")\n",
    "agent_executor = AgentExecutor(agent=agent, tools=tools).with_config(\n",
    "    {\"run_name\": \"Agent\"}\n",
    ")\n",
    "\n",
    "async for event in agent_executor.astream_events(\n",
    "    {\"input\": \"where is the cat hiding? what items are in that location?\"},\n",
    "    version=\"v1\",\n",
    "):\n",
    "    kind = event[\"event\"]\n",
    "    if kind == \"on_chain_start\":\n",
    "        if (\n",
    "            event[\"name\"] == \"Agent\"\n",
    "        ):  # Was assigned when creating the agent with `.with_config({\"run_name\": \"Agent\"})`\n",
    "            print(\n",
    "                f\"Starting agent: {event['name']} with input: {event['data'].get('input')}\"\n",
    "            )\n",
    "    elif kind == \"on_chain_end\":\n",
    "        if (\n",
    "            event[\"name\"] == \"Agent\"\n",
    "        ):  # Was assigned when creating the agent with `.with_config({\"run_name\": \"Agent\"})`\n",
    "            print()\n",
    "            print(\"--\")\n",
    "            print(\n",
    "                f\"Done agent: {event['name']} with output: {event['data'].get('output')['output']}\"\n",
    "            )\n",
    "    if kind == \"on_chat_model_stream\":\n",
    "        content = event[\"data\"][\"chunk\"].content\n",
    "        if content:\n",
    "            # Empty content in the context of OpenAI means\n",
    "            # that the model is asking for a tool to be invoked.\n",
    "            # So we only print non-empty content\n",
    "            print(content, end=\"|\")\n",
    "    elif kind == \"on_tool_start\":\n",
    "        print(\"--\")\n",
    "        print(\n",
    "            f\"Starting tool: {event['name']} with inputs: {event['data'].get('input')}\"\n",
    "        )\n",
    "    elif kind == \"on_tool_end\":\n",
    "        print(f\"Done tool: {event['name']}\")\n",
    "        print(f\"Tool output was: {event['data'].get('output')}\")\n",
    "        print(\"--\")"
   ]
  },
  {
   "cell_type": "markdown",
   "metadata": {},
   "source": [
    "### Other aproaches"
   ]
  },
  {
   "cell_type": "code",
   "execution_count": 23,
   "metadata": {},
   "outputs": [
    {
     "name": "stdout",
     "output_type": "stream",
     "text": [
      "RunLogPatch({'op': 'replace',\n",
      "  'path': '',\n",
      "  'value': {'final_output': None,\n",
      "            'id': '654a1359-a0c4-4e32-bd3c-4c808cd507b8',\n",
      "            'logs': {},\n",
      "            'name': 'Agent',\n",
      "            'streamed_output': [],\n",
      "            'type': 'chain'}})\n",
      "RunLogPatch({'op': 'add',\n",
      "  'path': '/logs/RunnableSequence',\n",
      "  'value': {'end_time': None,\n",
      "            'final_output': None,\n",
      "            'id': '3b6a7ef0-43b5-4d88-a520-414a1e8b3718',\n",
      "            'metadata': {},\n",
      "            'name': 'RunnableSequence',\n",
      "            'start_time': '2024-03-11T15:46:47.281+00:00',\n",
      "            'streamed_output': [],\n",
      "            'streamed_output_str': [],\n",
      "            'tags': [],\n",
      "            'type': 'chain'}})\n",
      "RunLogPatch({'op': 'add',\n",
      "  'path': '/logs/RunnableAssign<agent_scratchpad>',\n",
      "  'value': {'end_time': None,\n",
      "            'final_output': None,\n",
      "            'id': '18b1b387-c57d-42c9-b22c-6b136eb98b37',\n",
      "            'metadata': {},\n",
      "            'name': 'RunnableAssign<agent_scratchpad>',\n",
      "            'start_time': '2024-03-11T15:46:47.309+00:00',\n",
      "            'streamed_output': [],\n",
      "            'streamed_output_str': [],\n",
      "            'tags': ['seq:step:1'],\n",
      "            'type': 'chain'}})\n",
      "RunLogPatch({'op': 'add',\n",
      "  'path': '/logs/RunnableAssign<agent_scratchpad>/streamed_output/-',\n",
      "  'value': {'input': 'where is the cat hiding? what items are in that '\n",
      "                     'location?',\n",
      "            'intermediate_steps': []}})\n",
      "RunLogPatch({'op': 'add',\n",
      "  'path': '/logs/RunnableParallel<agent_scratchpad>',\n",
      "  'value': {'end_time': None,\n",
      "            'final_output': None,\n",
      "            'id': '90de3986-6315-419a-a6ea-9400b9ff01d2',\n",
      "            'metadata': {},\n",
      "            'name': 'RunnableParallel<agent_scratchpad>',\n",
      "            'start_time': '2024-03-11T15:46:47.325+00:00',\n",
      "            'streamed_output': [],\n",
      "            'streamed_output_str': [],\n",
      "            'tags': [],\n",
      "            'type': 'chain'}})\n",
      "RunLogPatch({'op': 'add',\n",
      "  'path': '/logs/RunnableLambda',\n",
      "  'value': {'end_time': None,\n",
      "            'final_output': None,\n",
      "            'id': 'a2f2541a-b0c7-42a9-a829-63f15fe7a7ea',\n",
      "            'metadata': {},\n",
      "            'name': 'RunnableLambda',\n",
      "            'start_time': '2024-03-11T15:46:47.335+00:00',\n",
      "            'streamed_output': [],\n",
      "            'streamed_output_str': [],\n",
      "            'tags': ['map:key:agent_scratchpad'],\n",
      "            'type': 'chain'}})\n",
      "RunLogPatch({'op': 'add', 'path': '/logs/RunnableLambda/streamed_output/-', 'value': []})\n",
      "RunLogPatch({'op': 'add',\n",
      "  'path': '/logs/RunnableParallel<agent_scratchpad>/streamed_output/-',\n",
      "  'value': {'agent_scratchpad': []}})\n",
      "RunLogPatch({'op': 'add',\n",
      "  'path': '/logs/RunnableAssign<agent_scratchpad>/streamed_output/-',\n",
      "  'value': {'agent_scratchpad': []}})\n",
      "RunLogPatch({'op': 'add',\n",
      "  'path': '/logs/RunnableLambda/final_output',\n",
      "  'value': {'output': []}},\n",
      " {'op': 'add',\n",
      "  'path': '/logs/RunnableLambda/end_time',\n",
      "  'value': '2024-03-11T15:46:47.345+00:00'})\n",
      "RunLogPatch({'op': 'add',\n",
      "  'path': '/logs/RunnableParallel<agent_scratchpad>/final_output',\n",
      "  'value': {'agent_scratchpad': []}},\n",
      " {'op': 'add',\n",
      "  'path': '/logs/RunnableParallel<agent_scratchpad>/end_time',\n",
      "  'value': '2024-03-11T15:46:47.345+00:00'})\n"
     ]
    }
   ],
   "source": [
    "i = 0\n",
    "async for chunk in agent_executor.astream_log(\n",
    "    {\"input\": \"where is the cat hiding? what items are in that location?\"},\n",
    "):\n",
    "    print(chunk)\n",
    "    i += 1\n",
    "    if i > 10:\n",
    "        break"
   ]
  },
  {
   "cell_type": "code",
   "execution_count": 24,
   "metadata": {},
   "outputs": [
    {
     "name": "stdout",
     "output_type": "stream",
     "text": [
      "\n",
      "None\n",
      "----\n",
      "/logs/RunnableSequence\n",
      "{'id': 'e8cb5f8c-a105-4778-b198-13a441351ef2', 'name': 'RunnableSequence', 'type': 'chain', 'tags': [], 'metadata': {}, 'start_time': '2024-03-11T15:48:24.586+00:00', 'streamed_output': [], 'streamed_output_str': [], 'final_output': None, 'end_time': None}\n",
      "----\n",
      "/logs/RunnableAssign<agent_scratchpad>\n",
      "{'id': '34d45d47-3170-4dbf-9a4c-dddf292b7843', 'name': 'RunnableAssign<agent_scratchpad>', 'type': 'chain', 'tags': ['seq:step:1'], 'metadata': {}, 'start_time': '2024-03-11T15:48:24.609+00:00', 'streamed_output': [], 'streamed_output_str': [], 'final_output': None, 'end_time': None}\n",
      "----\n",
      "/logs/RunnableAssign<agent_scratchpad>/streamed_output/-\n",
      "{'input': 'where is the cat hiding? what items are in that location?', 'intermediate_steps': []}\n",
      "----\n",
      "/logs/RunnableParallel<agent_scratchpad>\n",
      "{'id': '20f96cbb-f813-427c-afc9-8e2530fece11', 'name': 'RunnableParallel<agent_scratchpad>', 'type': 'chain', 'tags': [], 'metadata': {}, 'start_time': '2024-03-11T15:48:24.623+00:00', 'streamed_output': [], 'streamed_output_str': [], 'final_output': None, 'end_time': None}\n",
      "----\n",
      "/logs/RunnableLambda\n",
      "{'id': 'f9e6f940-8dd5-44f5-bdde-2cb53390424f', 'name': 'RunnableLambda', 'type': 'chain', 'tags': ['map:key:agent_scratchpad'], 'metadata': {}, 'start_time': '2024-03-11T15:48:24.635+00:00', 'streamed_output': [], 'streamed_output_str': [], 'final_output': None, 'end_time': None}\n",
      "----\n",
      "/logs/RunnableLambda/streamed_output/-\n",
      "[]\n",
      "----\n",
      "/logs/RunnableParallel<agent_scratchpad>/streamed_output/-\n",
      "{'agent_scratchpad': []}\n",
      "----\n",
      "/logs/RunnableAssign<agent_scratchpad>/streamed_output/-\n",
      "{'input': 'where is the cat hiding? what items are in that location?', 'intermediate_steps': [], 'agent_scratchpad': []}\n",
      "----\n",
      "/logs/RunnableLambda/end_time\n",
      "2024-03-11T15:48:24.644+00:00\n",
      "----\n",
      "/logs/RunnableParallel<agent_scratchpad>/end_time\n",
      "2024-03-11T15:48:24.644+00:00\n",
      "----\n",
      "/logs/RunnableAssign<agent_scratchpad>/end_time\n",
      "2024-03-11T15:48:24.644+00:00\n",
      "----\n",
      "/logs/ChatPromptTemplate\n",
      "{'id': '43b481c1-e036-4849-ad55-dc9c379421a2', 'name': 'ChatPromptTemplate', 'type': 'prompt', 'tags': ['seq:step:2'], 'metadata': {}, 'start_time': '2024-03-11T15:48:24.644+00:00', 'streamed_output': [], 'streamed_output_str': [], 'final_output': None, 'end_time': None}\n",
      "----\n",
      "/logs/ChatPromptTemplate/end_time\n",
      "2024-03-11T15:48:24.662+00:00\n",
      "----\n",
      "/logs/ChatOpenAI\n",
      "{'id': '5f7539ae-7bb9-4d18-996c-3e9b758c807d', 'name': 'ChatOpenAI', 'type': 'llm', 'tags': ['seq:step:3', 'agent_llm'], 'metadata': {}, 'start_time': '2024-03-11T15:48:24.674+00:00', 'streamed_output': [], 'streamed_output_str': [], 'final_output': None, 'end_time': None}\n",
      "----\n",
      "/logs/ChatOpenAI/streamed_output/-\n",
      "content='' additional_kwargs={'tool_calls': [{'index': 0, 'id': 'call_scbtAOSYV4agZ1VvZmcejBBO', 'function': {'arguments': '', 'name': 'where_cat_is_hiding'}, 'type': 'function'}]}\n",
      "----\n",
      "/logs/ChatOpenAI/streamed_output/-\n",
      "content='' additional_kwargs={'tool_calls': [{'index': 0, 'id': 'call_scbtAOSYV4agZ1VvZmcejBBO', 'function': {'arguments': '{}', 'name': 'where_cat_is_hiding'}, 'type': 'function'}]}\n",
      "----\n",
      "/logs/ChatOpenAI/streamed_output/-\n",
      "content='' additional_kwargs={'tool_calls': [{'index': 0, 'id': 'call_scbtAOSYV4agZ1VvZmcejBBO', 'function': {'arguments': '{}', 'name': 'where_cat_is_hiding'}, 'type': 'function'}]}\n",
      "----\n",
      "/logs/ChatOpenAI/end_time\n",
      "2024-03-11T15:48:25.575+00:00\n",
      "----\n",
      "/logs/OpenAIToolsAgentOutputParser\n",
      "{'id': 'be3b2e62-8ece-4582-8141-0efc2fd85a2d', 'name': 'OpenAIToolsAgentOutputParser', 'type': 'parser', 'tags': ['seq:step:4'], 'metadata': {}, 'start_time': '2024-03-11T15:48:25.585+00:00', 'streamed_output': [], 'streamed_output_str': [], 'final_output': None, 'end_time': None}\n",
      "----\n",
      "/logs/OpenAIToolsAgentOutputParser/end_time\n",
      "2024-03-11T15:48:25.594+00:00\n",
      "----\n",
      "/logs/RunnableSequence/streamed_output/-\n",
      "[OpenAIToolAgentAction(tool='where_cat_is_hiding', tool_input={}, log='\\nInvoking: `where_cat_is_hiding` with `{}`\\n\\n\\n', message_log=[AIMessageChunk(content='', additional_kwargs={'tool_calls': [{'index': 0, 'id': 'call_scbtAOSYV4agZ1VvZmcejBBO', 'function': {'arguments': '{}', 'name': 'where_cat_is_hiding'}, 'type': 'function'}]})], tool_call_id='call_scbtAOSYV4agZ1VvZmcejBBO')]\n",
      "----\n",
      "/logs/RunnableSequence/end_time\n",
      "2024-03-11T15:48:25.594+00:00\n",
      "----\n",
      "/final_output\n",
      "None\n",
      "----\n",
      "/logs/where_cat_is_hiding\n",
      "{'id': 'f6e734d3-6cc1-491d-8010-17ed9c1107ae', 'name': 'where_cat_is_hiding', 'type': 'tool', 'tags': [], 'metadata': {}, 'start_time': '2024-03-11T15:48:25.607+00:00', 'streamed_output': [], 'streamed_output_str': [], 'final_output': None, 'end_time': None}\n",
      "----\n",
      "/logs/where_cat_is_hiding/end_time\n",
      "2024-03-11T15:48:25.615+00:00\n",
      "----\n",
      "/final_output/messages/1\n",
      "content='on the shelf' name='where_cat_is_hiding'\n",
      "----\n",
      "/logs/RunnableSequence:2\n",
      "{'id': '118721a2-b56d-48fc-95ab-7068a2914ec0', 'name': 'RunnableSequence', 'type': 'chain', 'tags': [], 'metadata': {}, 'start_time': '2024-03-11T15:48:25.623+00:00', 'streamed_output': [], 'streamed_output_str': [], 'final_output': None, 'end_time': None}\n",
      "----\n",
      "/logs/RunnableAssign<agent_scratchpad>:2\n",
      "{'id': '060d0a6d-8043-4021-8dee-f58fa4756bd7', 'name': 'RunnableAssign<agent_scratchpad>', 'type': 'chain', 'tags': ['seq:step:1'], 'metadata': {}, 'start_time': '2024-03-11T15:48:25.640+00:00', 'streamed_output': [], 'streamed_output_str': [], 'final_output': None, 'end_time': None}\n",
      "----\n",
      "/logs/RunnableAssign<agent_scratchpad>:2/streamed_output/-\n",
      "{'input': 'where is the cat hiding? what items are in that location?', 'intermediate_steps': [(OpenAIToolAgentAction(tool='where_cat_is_hiding', tool_input={}, log='\\nInvoking: `where_cat_is_hiding` with `{}`\\n\\n\\n', message_log=[AIMessageChunk(content='', additional_kwargs={'tool_calls': [{'index': 0, 'id': 'call_scbtAOSYV4agZ1VvZmcejBBO', 'function': {'arguments': '{}', 'name': 'where_cat_is_hiding'}, 'type': 'function'}]})], tool_call_id='call_scbtAOSYV4agZ1VvZmcejBBO'), 'on the shelf')]}\n",
      "----\n",
      "/logs/RunnableParallel<agent_scratchpad>:2\n",
      "{'id': '0e2ad3c6-693e-41ba-88d2-4c24fea93398', 'name': 'RunnableParallel<agent_scratchpad>', 'type': 'chain', 'tags': [], 'metadata': {}, 'start_time': '2024-03-11T15:48:25.644+00:00', 'streamed_output': [], 'streamed_output_str': [], 'final_output': None, 'end_time': None}\n",
      "----\n"
     ]
    }
   ],
   "source": [
    "i = 0\n",
    "path_status = {}\n",
    "async for chunk in agent_executor.astream_log(\n",
    "    {\"input\": \"where is the cat hiding? what items are in that location?\"},\n",
    "):\n",
    "    for op in chunk.ops:\n",
    "        if op[\"op\"] == \"add\":\n",
    "            if op[\"path\"] not in path_status:\n",
    "                path_status[op[\"path\"]] = op[\"value\"]\n",
    "            else:\n",
    "                path_status[op[\"path\"]] += op[\"value\"]\n",
    "    print(op[\"path\"])\n",
    "    print(path_status.get(op[\"path\"]))\n",
    "    print(\"----\")\n",
    "    i += 1\n",
    "    if i > 30:\n",
    "        break"
   ]
  },
  {
   "cell_type": "code",
   "execution_count": 25,
   "metadata": {},
   "outputs": [
    {
     "name": "stdout",
     "output_type": "stream",
     "text": [
      "on chain start: \n",
      "{'input': 'where is the cat hiding and what items can be found there?'}\n",
      "on chain start: \n",
      "{'input': ''}\n",
      "on chain start: \n",
      "{'input': ''}\n",
      "on chain start: \n",
      "{'input': ''}\n",
      "on chain start: \n",
      "{'input': ''}\n",
      "On chain end\n",
      "[]\n",
      "On chain end\n",
      "{'agent_scratchpad': []}\n",
      "On chain end\n",
      "{'input': 'where is the cat hiding and what items can be found there?', 'intermediate_steps': [], 'agent_scratchpad': []}\n",
      "on chain start: \n",
      "{'input': 'where is the cat hiding and what items can be found there?', 'intermediate_steps': [], 'agent_scratchpad': []}\n",
      "On chain end\n",
      "{'lc': 1, 'type': 'constructor', 'id': ['langchain', 'prompts', 'chat', 'ChatPromptValue'], 'kwargs': {'messages': [{'lc': 1, 'type': 'constructor', 'id': ['langchain', 'schema', 'messages', 'SystemMessage'], 'kwargs': {'content': 'You are a helpful assistant', 'additional_kwargs': {}}}, {'lc': 1, 'type': 'constructor', 'id': ['langchain', 'schema', 'messages', 'HumanMessage'], 'kwargs': {'content': 'where is the cat hiding and what items can be found there?', 'additional_kwargs': {}}}]}}\n",
      "agent_llm: \n",
      "\n",
      "on chain start: \n",
      "content='' additional_kwargs={'tool_calls': [{'index': 0, 'id': 'call_VtZ0VZNLtN0FBCjrDKBqS5Di', 'function': {'arguments': '{}', 'name': 'where_cat_is_hiding'}, 'type': 'function'}]}\n",
      "On chain end\n",
      "[{'lc': 1, 'type': 'constructor', 'id': ['langchain', 'schema', 'agent', 'OpenAIToolAgentAction'], 'kwargs': {'tool': 'where_cat_is_hiding', 'tool_input': {}, 'log': '\\nInvoking: `where_cat_is_hiding` with `{}`\\n\\n\\n', 'message_log': [{'lc': 1, 'type': 'constructor', 'id': ['langchain', 'schema', 'messages', 'AIMessageChunk'], 'kwargs': {'content': '', 'example': False, 'additional_kwargs': {'tool_calls': [{'index': 0, 'id': 'call_VtZ0VZNLtN0FBCjrDKBqS5Di', 'function': {'arguments': '{}', 'name': 'where_cat_is_hiding'}, 'type': 'function'}]}}}], 'tool_call_id': 'call_VtZ0VZNLtN0FBCjrDKBqS5Di'}}]\n",
      "On chain end\n",
      "[OpenAIToolAgentAction(tool='where_cat_is_hiding', tool_input={}, log='\\nInvoking: `where_cat_is_hiding` with `{}`\\n\\n\\n', message_log=[AIMessageChunk(content='', additional_kwargs={'tool_calls': [{'index': 0, 'id': 'call_VtZ0VZNLtN0FBCjrDKBqS5Di', 'function': {'arguments': '{}', 'name': 'where_cat_is_hiding'}, 'type': 'function'}]})], tool_call_id='call_VtZ0VZNLtN0FBCjrDKBqS5Di')]\n",
      "Tool start\n",
      "{'name': 'where_cat_is_hiding', 'description': 'where_cat_is_hiding() -> str - Where is the cat hiding right now?'}\n",
      "Tool end\n",
      "on the shelf\n",
      "on chain start: \n",
      "{'input': ''}\n",
      "on chain start: \n",
      "{'input': ''}\n",
      "on chain start: \n",
      "{'input': ''}\n",
      "on chain start: \n",
      "{'input': ''}\n",
      "On chain end\n",
      "[AIMessageChunk(content='', additional_kwargs={'tool_calls': [{'index': 0, 'id': 'call_VtZ0VZNLtN0FBCjrDKBqS5Di', 'function': {'arguments': '{}', 'name': 'where_cat_is_hiding'}, 'type': 'function'}]}), ToolMessage(content='on the shelf', additional_kwargs={'name': 'where_cat_is_hiding'}, tool_call_id='call_VtZ0VZNLtN0FBCjrDKBqS5Di')]\n",
      "On chain end\n",
      "{'agent_scratchpad': [AIMessageChunk(content='', additional_kwargs={'tool_calls': [{'index': 0, 'id': 'call_VtZ0VZNLtN0FBCjrDKBqS5Di', 'function': {'arguments': '{}', 'name': 'where_cat_is_hiding'}, 'type': 'function'}]}), ToolMessage(content='on the shelf', additional_kwargs={'name': 'where_cat_is_hiding'}, tool_call_id='call_VtZ0VZNLtN0FBCjrDKBqS5Di')]}\n",
      "On chain end\n",
      "{'input': 'where is the cat hiding and what items can be found there?', 'intermediate_steps': [(OpenAIToolAgentAction(tool='where_cat_is_hiding', tool_input={}, log='\\nInvoking: `where_cat_is_hiding` with `{}`\\n\\n\\n', message_log=[AIMessageChunk(content='', additional_kwargs={'tool_calls': [{'index': 0, 'id': 'call_VtZ0VZNLtN0FBCjrDKBqS5Di', 'function': {'arguments': '{}', 'name': 'where_cat_is_hiding'}, 'type': 'function'}]})], tool_call_id='call_VtZ0VZNLtN0FBCjrDKBqS5Di'), 'on the shelf')], 'agent_scratchpad': [AIMessageChunk(content='', additional_kwargs={'tool_calls': [{'index': 0, 'id': 'call_VtZ0VZNLtN0FBCjrDKBqS5Di', 'function': {'arguments': '{}', 'name': 'where_cat_is_hiding'}, 'type': 'function'}]}), ToolMessage(content='on the shelf', additional_kwargs={'name': 'where_cat_is_hiding'}, tool_call_id='call_VtZ0VZNLtN0FBCjrDKBqS5Di')]}\n",
      "on chain start: \n",
      "{'input': 'where is the cat hiding and what items can be found there?', 'intermediate_steps': [(OpenAIToolAgentAction(tool='where_cat_is_hiding', tool_input={}, log='\\nInvoking: `where_cat_is_hiding` with `{}`\\n\\n\\n', message_log=[AIMessageChunk(content='', additional_kwargs={'tool_calls': [{'index': 0, 'id': 'call_VtZ0VZNLtN0FBCjrDKBqS5Di', 'function': {'arguments': '{}', 'name': 'where_cat_is_hiding'}, 'type': 'function'}]})], tool_call_id='call_VtZ0VZNLtN0FBCjrDKBqS5Di'), 'on the shelf')], 'agent_scratchpad': [AIMessageChunk(content='', additional_kwargs={'tool_calls': [{'index': 0, 'id': 'call_VtZ0VZNLtN0FBCjrDKBqS5Di', 'function': {'arguments': '{}', 'name': 'where_cat_is_hiding'}, 'type': 'function'}]}), ToolMessage(content='on the shelf', additional_kwargs={'name': 'where_cat_is_hiding'}, tool_call_id='call_VtZ0VZNLtN0FBCjrDKBqS5Di')]}\n",
      "On chain end\n",
      "{'lc': 1, 'type': 'constructor', 'id': ['langchain', 'prompts', 'chat', 'ChatPromptValue'], 'kwargs': {'messages': [{'lc': 1, 'type': 'constructor', 'id': ['langchain', 'schema', 'messages', 'SystemMessage'], 'kwargs': {'content': 'You are a helpful assistant', 'additional_kwargs': {}}}, {'lc': 1, 'type': 'constructor', 'id': ['langchain', 'schema', 'messages', 'HumanMessage'], 'kwargs': {'content': 'where is the cat hiding and what items can be found there?', 'additional_kwargs': {}}}, {'lc': 1, 'type': 'constructor', 'id': ['langchain', 'schema', 'messages', 'AIMessageChunk'], 'kwargs': {'content': '', 'example': False, 'additional_kwargs': {'tool_calls': [{'index': 0, 'id': 'call_VtZ0VZNLtN0FBCjrDKBqS5Di', 'function': {'arguments': '{}', 'name': 'where_cat_is_hiding'}, 'type': 'function'}]}}}, {'lc': 1, 'type': 'constructor', 'id': ['langchain', 'schema', 'messages', 'ToolMessage'], 'kwargs': {'content': 'on the shelf', 'tool_call_id': 'call_VtZ0VZNLtN0FBCjrDKBqS5Di', 'additional_kwargs': {'name': 'where_cat_is_hiding'}}}]}}\n",
      "agent_llm: \n",
      "\n",
      "on chain start: \n",
      "content='' additional_kwargs={'tool_calls': [{'index': 0, 'id': 'call_WjxFrD5iquXsqwdDXq9pQyEX', 'function': {'arguments': '{\"place\": \"on the shelf\"}', 'name': 'get_items'}, 'type': 'function'}]}\n",
      "On chain end\n",
      "[{'lc': 1, 'type': 'constructor', 'id': ['langchain', 'schema', 'agent', 'OpenAIToolAgentAction'], 'kwargs': {'tool': 'get_items', 'tool_input': {'place': 'on the shelf'}, 'log': \"\\nInvoking: `get_items` with `{'place': 'on the shelf'}`\\n\\n\\n\", 'message_log': [{'lc': 1, 'type': 'constructor', 'id': ['langchain', 'schema', 'messages', 'AIMessageChunk'], 'kwargs': {'content': '', 'example': False, 'additional_kwargs': {'tool_calls': [{'index': 0, 'id': 'call_WjxFrD5iquXsqwdDXq9pQyEX', 'function': {'arguments': '{\"place\": \"on the shelf\"}', 'name': 'get_items'}, 'type': 'function'}]}}}], 'tool_call_id': 'call_WjxFrD5iquXsqwdDXq9pQyEX'}}]\n",
      "On chain end\n",
      "[OpenAIToolAgentAction(tool='get_items', tool_input={'place': 'on the shelf'}, log=\"\\nInvoking: `get_items` with `{'place': 'on the shelf'}`\\n\\n\\n\", message_log=[AIMessageChunk(content='', additional_kwargs={'tool_calls': [{'index': 0, 'id': 'call_WjxFrD5iquXsqwdDXq9pQyEX', 'function': {'arguments': '{\"place\": \"on the shelf\"}', 'name': 'get_items'}, 'type': 'function'}]})], tool_call_id='call_WjxFrD5iquXsqwdDXq9pQyEX')]\n",
      "Tool start\n",
      "{'name': 'get_items', 'description': 'get_items(place: str, callbacks: Union[List[langchain_core.callbacks.base.BaseCallbackHandler], langchain_core.callbacks.base.BaseCallbackManager, NoneType]) -> str - Use this tool to look up which items are in the given place.'}\n",
      "tool_llm: 1|.| Books| -| On| the| shelf|,| you| may| find| a| variety| of| books| ranging| from| fiction| to| non|-fiction|,| covering| different| genres| and| topics|.| Books| are| typically| arranged| neatly| in| rows| for| easy| browsing|.\n",
      "\n",
      "|2|.| Photo| frames| -| Photo| frames| are| commonly| found| on| shelves|,| displaying| cherished| memories| captured| in| photographs|.| They| come| in| various| sizes|,| shapes|,| and| designs| to| complement| different| decor| styles|.\n",
      "\n",
      "|3|.| Decor|ative| figur|ines| -| On| the| shelf|,| you| may| also| come| across| decorative| figur|ines| such| as| sculptures|,| statues|,| or| mini|atures|.| These| items| add| a| personal| touch| to| the| space| and| can| be| themed| based| on| personal| preferences|.|\n",
      "\n",
      "Tool end\n",
      "1. Books - On the shelf, you may find a variety of books ranging from fiction to non-fiction, covering different genres and topics. Books are typically arranged neatly in rows for easy browsing.\n",
      "\n",
      "2. Photo frames - Photo frames are commonly found on shelves, displaying cherished memories captured in photographs. They come in various sizes, shapes, and designs to complement different decor styles.\n",
      "\n",
      "3. Decorative figurines - On the shelf, you may also come across decorative figurines such as sculptures, statues, or miniatures. These items add a personal touch to the space and can be themed based on personal preferences.\n",
      "on chain start: \n",
      "{'input': ''}\n",
      "on chain start: \n",
      "{'input': ''}\n",
      "on chain start: \n",
      "{'input': ''}\n",
      "on chain start: \n",
      "{'input': ''}\n",
      "On chain end\n",
      "[AIMessageChunk(content='', additional_kwargs={'tool_calls': [{'index': 0, 'id': 'call_VtZ0VZNLtN0FBCjrDKBqS5Di', 'function': {'arguments': '{}', 'name': 'where_cat_is_hiding'}, 'type': 'function'}]}), ToolMessage(content='on the shelf', additional_kwargs={'name': 'where_cat_is_hiding'}, tool_call_id='call_VtZ0VZNLtN0FBCjrDKBqS5Di'), AIMessageChunk(content='', additional_kwargs={'tool_calls': [{'index': 0, 'id': 'call_WjxFrD5iquXsqwdDXq9pQyEX', 'function': {'arguments': '{\"place\": \"on the shelf\"}', 'name': 'get_items'}, 'type': 'function'}]}), ToolMessage(content='1. Books - On the shelf, you may find a variety of books ranging from fiction to non-fiction, covering different genres and topics. Books are typically arranged neatly in rows for easy browsing.\\n\\n2. Photo frames - Photo frames are commonly found on shelves, displaying cherished memories captured in photographs. They come in various sizes, shapes, and designs to complement different decor styles.\\n\\n3. Decorative figurines - On the shelf, you may also come across decorative figurines such as sculptures, statues, or miniatures. These items add a personal touch to the space and can be themed based on personal preferences.', additional_kwargs={'name': 'get_items'}, tool_call_id='call_WjxFrD5iquXsqwdDXq9pQyEX')]\n",
      "On chain end\n",
      "{'agent_scratchpad': [AIMessageChunk(content='', additional_kwargs={'tool_calls': [{'index': 0, 'id': 'call_VtZ0VZNLtN0FBCjrDKBqS5Di', 'function': {'arguments': '{}', 'name': 'where_cat_is_hiding'}, 'type': 'function'}]}), ToolMessage(content='on the shelf', additional_kwargs={'name': 'where_cat_is_hiding'}, tool_call_id='call_VtZ0VZNLtN0FBCjrDKBqS5Di'), AIMessageChunk(content='', additional_kwargs={'tool_calls': [{'index': 0, 'id': 'call_WjxFrD5iquXsqwdDXq9pQyEX', 'function': {'arguments': '{\"place\": \"on the shelf\"}', 'name': 'get_items'}, 'type': 'function'}]}), ToolMessage(content='1. Books - On the shelf, you may find a variety of books ranging from fiction to non-fiction, covering different genres and topics. Books are typically arranged neatly in rows for easy browsing.\\n\\n2. Photo frames - Photo frames are commonly found on shelves, displaying cherished memories captured in photographs. They come in various sizes, shapes, and designs to complement different decor styles.\\n\\n3. Decorative figurines - On the shelf, you may also come across decorative figurines such as sculptures, statues, or miniatures. These items add a personal touch to the space and can be themed based on personal preferences.', additional_kwargs={'name': 'get_items'}, tool_call_id='call_WjxFrD5iquXsqwdDXq9pQyEX')]}\n",
      "On chain end\n",
      "{'input': 'where is the cat hiding and what items can be found there?', 'intermediate_steps': [(OpenAIToolAgentAction(tool='where_cat_is_hiding', tool_input={}, log='\\nInvoking: `where_cat_is_hiding` with `{}`\\n\\n\\n', message_log=[AIMessageChunk(content='', additional_kwargs={'tool_calls': [{'index': 0, 'id': 'call_VtZ0VZNLtN0FBCjrDKBqS5Di', 'function': {'arguments': '{}', 'name': 'where_cat_is_hiding'}, 'type': 'function'}]})], tool_call_id='call_VtZ0VZNLtN0FBCjrDKBqS5Di'), 'on the shelf'), (OpenAIToolAgentAction(tool='get_items', tool_input={'place': 'on the shelf'}, log=\"\\nInvoking: `get_items` with `{'place': 'on the shelf'}`\\n\\n\\n\", message_log=[AIMessageChunk(content='', additional_kwargs={'tool_calls': [{'index': 0, 'id': 'call_WjxFrD5iquXsqwdDXq9pQyEX', 'function': {'arguments': '{\"place\": \"on the shelf\"}', 'name': 'get_items'}, 'type': 'function'}]})], tool_call_id='call_WjxFrD5iquXsqwdDXq9pQyEX'), '1. Books - On the shelf, you may find a variety of books ranging from fiction to non-fiction, covering different genres and topics. Books are typically arranged neatly in rows for easy browsing.\\n\\n2. Photo frames - Photo frames are commonly found on shelves, displaying cherished memories captured in photographs. They come in various sizes, shapes, and designs to complement different decor styles.\\n\\n3. Decorative figurines - On the shelf, you may also come across decorative figurines such as sculptures, statues, or miniatures. These items add a personal touch to the space and can be themed based on personal preferences.')], 'agent_scratchpad': [AIMessageChunk(content='', additional_kwargs={'tool_calls': [{'index': 0, 'id': 'call_VtZ0VZNLtN0FBCjrDKBqS5Di', 'function': {'arguments': '{}', 'name': 'where_cat_is_hiding'}, 'type': 'function'}]}), ToolMessage(content='on the shelf', additional_kwargs={'name': 'where_cat_is_hiding'}, tool_call_id='call_VtZ0VZNLtN0FBCjrDKBqS5Di'), AIMessageChunk(content='', additional_kwargs={'tool_calls': [{'index': 0, 'id': 'call_WjxFrD5iquXsqwdDXq9pQyEX', 'function': {'arguments': '{\"place\": \"on the shelf\"}', 'name': 'get_items'}, 'type': 'function'}]}), ToolMessage(content='1. Books - On the shelf, you may find a variety of books ranging from fiction to non-fiction, covering different genres and topics. Books are typically arranged neatly in rows for easy browsing.\\n\\n2. Photo frames - Photo frames are commonly found on shelves, displaying cherished memories captured in photographs. They come in various sizes, shapes, and designs to complement different decor styles.\\n\\n3. Decorative figurines - On the shelf, you may also come across decorative figurines such as sculptures, statues, or miniatures. These items add a personal touch to the space and can be themed based on personal preferences.', additional_kwargs={'name': 'get_items'}, tool_call_id='call_WjxFrD5iquXsqwdDXq9pQyEX')]}\n",
      "on chain start: \n",
      "{'input': 'where is the cat hiding and what items can be found there?', 'intermediate_steps': [(OpenAIToolAgentAction(tool='where_cat_is_hiding', tool_input={}, log='\\nInvoking: `where_cat_is_hiding` with `{}`\\n\\n\\n', message_log=[AIMessageChunk(content='', additional_kwargs={'tool_calls': [{'index': 0, 'id': 'call_VtZ0VZNLtN0FBCjrDKBqS5Di', 'function': {'arguments': '{}', 'name': 'where_cat_is_hiding'}, 'type': 'function'}]})], tool_call_id='call_VtZ0VZNLtN0FBCjrDKBqS5Di'), 'on the shelf'), (OpenAIToolAgentAction(tool='get_items', tool_input={'place': 'on the shelf'}, log=\"\\nInvoking: `get_items` with `{'place': 'on the shelf'}`\\n\\n\\n\", message_log=[AIMessageChunk(content='', additional_kwargs={'tool_calls': [{'index': 0, 'id': 'call_WjxFrD5iquXsqwdDXq9pQyEX', 'function': {'arguments': '{\"place\": \"on the shelf\"}', 'name': 'get_items'}, 'type': 'function'}]})], tool_call_id='call_WjxFrD5iquXsqwdDXq9pQyEX'), '1. Books - On the shelf, you may find a variety of books ranging from fiction to non-fiction, covering different genres and topics. Books are typically arranged neatly in rows for easy browsing.\\n\\n2. Photo frames - Photo frames are commonly found on shelves, displaying cherished memories captured in photographs. They come in various sizes, shapes, and designs to complement different decor styles.\\n\\n3. Decorative figurines - On the shelf, you may also come across decorative figurines such as sculptures, statues, or miniatures. These items add a personal touch to the space and can be themed based on personal preferences.')], 'agent_scratchpad': [AIMessageChunk(content='', additional_kwargs={'tool_calls': [{'index': 0, 'id': 'call_VtZ0VZNLtN0FBCjrDKBqS5Di', 'function': {'arguments': '{}', 'name': 'where_cat_is_hiding'}, 'type': 'function'}]}), ToolMessage(content='on the shelf', additional_kwargs={'name': 'where_cat_is_hiding'}, tool_call_id='call_VtZ0VZNLtN0FBCjrDKBqS5Di'), AIMessageChunk(content='', additional_kwargs={'tool_calls': [{'index': 0, 'id': 'call_WjxFrD5iquXsqwdDXq9pQyEX', 'function': {'arguments': '{\"place\": \"on the shelf\"}', 'name': 'get_items'}, 'type': 'function'}]}), ToolMessage(content='1. Books - On the shelf, you may find a variety of books ranging from fiction to non-fiction, covering different genres and topics. Books are typically arranged neatly in rows for easy browsing.\\n\\n2. Photo frames - Photo frames are commonly found on shelves, displaying cherished memories captured in photographs. They come in various sizes, shapes, and designs to complement different decor styles.\\n\\n3. Decorative figurines - On the shelf, you may also come across decorative figurines such as sculptures, statues, or miniatures. These items add a personal touch to the space and can be themed based on personal preferences.', additional_kwargs={'name': 'get_items'}, tool_call_id='call_WjxFrD5iquXsqwdDXq9pQyEX')]}\n",
      "On chain end\n",
      "{'lc': 1, 'type': 'constructor', 'id': ['langchain', 'prompts', 'chat', 'ChatPromptValue'], 'kwargs': {'messages': [{'lc': 1, 'type': 'constructor', 'id': ['langchain', 'schema', 'messages', 'SystemMessage'], 'kwargs': {'content': 'You are a helpful assistant', 'additional_kwargs': {}}}, {'lc': 1, 'type': 'constructor', 'id': ['langchain', 'schema', 'messages', 'HumanMessage'], 'kwargs': {'content': 'where is the cat hiding and what items can be found there?', 'additional_kwargs': {}}}, {'lc': 1, 'type': 'constructor', 'id': ['langchain', 'schema', 'messages', 'AIMessageChunk'], 'kwargs': {'content': '', 'example': False, 'additional_kwargs': {'tool_calls': [{'index': 0, 'id': 'call_VtZ0VZNLtN0FBCjrDKBqS5Di', 'function': {'arguments': '{}', 'name': 'where_cat_is_hiding'}, 'type': 'function'}]}}}, {'lc': 1, 'type': 'constructor', 'id': ['langchain', 'schema', 'messages', 'ToolMessage'], 'kwargs': {'content': 'on the shelf', 'tool_call_id': 'call_VtZ0VZNLtN0FBCjrDKBqS5Di', 'additional_kwargs': {'name': 'where_cat_is_hiding'}}}, {'lc': 1, 'type': 'constructor', 'id': ['langchain', 'schema', 'messages', 'AIMessageChunk'], 'kwargs': {'content': '', 'example': False, 'additional_kwargs': {'tool_calls': [{'index': 0, 'id': 'call_WjxFrD5iquXsqwdDXq9pQyEX', 'function': {'arguments': '{\"place\": \"on the shelf\"}', 'name': 'get_items'}, 'type': 'function'}]}}}, {'lc': 1, 'type': 'constructor', 'id': ['langchain', 'schema', 'messages', 'ToolMessage'], 'kwargs': {'content': '1. Books - On the shelf, you may find a variety of books ranging from fiction to non-fiction, covering different genres and topics. Books are typically arranged neatly in rows for easy browsing.\\n\\n2. Photo frames - Photo frames are commonly found on shelves, displaying cherished memories captured in photographs. They come in various sizes, shapes, and designs to complement different decor styles.\\n\\n3. Decorative figurines - On the shelf, you may also come across decorative figurines such as sculptures, statues, or miniatures. These items add a personal touch to the space and can be themed based on personal preferences.', 'tool_call_id': 'call_WjxFrD5iquXsqwdDXq9pQyEX', 'additional_kwargs': {'name': 'get_items'}}}]}}\n",
      "agent_llm: The| cat| is| hiding| on| the| shelf|.| Some| items| that| can| be| found| on| the| shelf| include|:\n",
      "|1|.| Books|\n",
      "|2|.| Photo| frames|\n",
      "|3|.| Decor|ative| figur|ines|\n",
      "\n",
      "on chain start: \n",
      "content='The cat is hiding on the shelf. Some items that can be found on the shelf include:\\n1. Books\\n2. Photo frames\\n3. Decorative figurines'\n",
      "On chain end\n",
      "{'lc': 1, 'type': 'constructor', 'id': ['langchain', 'schema', 'agent', 'AgentFinish'], 'kwargs': {'return_values': {'output': 'The cat is hiding on the shelf. Some items that can be found on the shelf include:\\n1. Books\\n2. Photo frames\\n3. Decorative figurines'}, 'log': 'The cat is hiding on the shelf. Some items that can be found on the shelf include:\\n1. Books\\n2. Photo frames\\n3. Decorative figurines'}}\n",
      "On chain end\n",
      "return_values={'output': 'The cat is hiding on the shelf. Some items that can be found on the shelf include:\\n1. Books\\n2. Photo frames\\n3. Decorative figurines'} log='The cat is hiding on the shelf. Some items that can be found on the shelf include:\\n1. Books\\n2. Photo frames\\n3. Decorative figurines'\n",
      "On chain end\n",
      "{'output': 'The cat is hiding on the shelf. Some items that can be found on the shelf include:\\n1. Books\\n2. Photo frames\\n3. Decorative figurines'}\n"
     ]
    }
   ],
   "source": [
    "from typing import TYPE_CHECKING, Any, Dict, List, Optional, Sequence, TypeVar, Union\n",
    "from uuid import UUID\n",
    "\n",
    "from langchain_core.callbacks.base import AsyncCallbackHandler\n",
    "from langchain_core.messages import BaseMessage\n",
    "from langchain_core.outputs import ChatGenerationChunk, GenerationChunk, LLMResult\n",
    "\n",
    "# Here is a custom handler that will print the tokens to stdout.\n",
    "# Instead of printing to stdout you can send the data elsewhere; e.g., to a streaming API response\n",
    "\n",
    "\n",
    "class TokenByTokenHandler(AsyncCallbackHandler):\n",
    "    def __init__(self, tags_of_interest: List[str]) -> None:\n",
    "        \"\"\"A custom call back handler.\n",
    "\n",
    "        Args:\n",
    "            tags_of_interest: Only LLM tokens from models with these tags will be\n",
    "                              printed.\n",
    "        \"\"\"\n",
    "        self.tags_of_interest = tags_of_interest\n",
    "\n",
    "    async def on_chain_start(\n",
    "        self,\n",
    "        serialized: Dict[str, Any],\n",
    "        inputs: Dict[str, Any],\n",
    "        *,\n",
    "        run_id: UUID,\n",
    "        parent_run_id: Optional[UUID] = None,\n",
    "        tags: Optional[List[str]] = None,\n",
    "        metadata: Optional[Dict[str, Any]] = None,\n",
    "        **kwargs: Any,\n",
    "    ) -> None:\n",
    "        \"\"\"Run when chain starts running.\"\"\"\n",
    "        print(\"on chain start: \")\n",
    "        print(inputs)\n",
    "\n",
    "    async def on_chain_end(\n",
    "        self,\n",
    "        outputs: Dict[str, Any],\n",
    "        *,\n",
    "        run_id: UUID,\n",
    "        parent_run_id: Optional[UUID] = None,\n",
    "        tags: Optional[List[str]] = None,\n",
    "        **kwargs: Any,\n",
    "    ) -> None:\n",
    "        \"\"\"Run when chain ends running.\"\"\"\n",
    "        print(\"On chain end\")\n",
    "        print(outputs)\n",
    "\n",
    "    async def on_chat_model_start(\n",
    "        self,\n",
    "        serialized: Dict[str, Any],\n",
    "        messages: List[List[BaseMessage]],\n",
    "        *,\n",
    "        run_id: UUID,\n",
    "        parent_run_id: Optional[UUID] = None,\n",
    "        tags: Optional[List[str]] = None,\n",
    "        metadata: Optional[Dict[str, Any]] = None,\n",
    "        **kwargs: Any,\n",
    "    ) -> Any:\n",
    "        \"\"\"Run when a chat model starts running.\"\"\"\n",
    "        overlap_tags = self.get_overlap_tags(tags)\n",
    "\n",
    "        if overlap_tags:\n",
    "            print(\",\".join(overlap_tags), end=\": \", flush=True)\n",
    "\n",
    "    def on_tool_start(\n",
    "        self,\n",
    "        serialized: Dict[str, Any],\n",
    "        input_str: str,\n",
    "        *,\n",
    "        run_id: UUID,\n",
    "        parent_run_id: Optional[UUID] = None,\n",
    "        tags: Optional[List[str]] = None,\n",
    "        metadata: Optional[Dict[str, Any]] = None,\n",
    "        inputs: Optional[Dict[str, Any]] = None,\n",
    "        **kwargs: Any,\n",
    "    ) -> Any:\n",
    "        \"\"\"Run when tool starts running.\"\"\"\n",
    "        print(\"Tool start\")\n",
    "        print(serialized)\n",
    "\n",
    "    def on_tool_end(\n",
    "        self,\n",
    "        output: str,\n",
    "        *,\n",
    "        run_id: UUID,\n",
    "        parent_run_id: Optional[UUID] = None,\n",
    "        **kwargs: Any,\n",
    "    ) -> Any:\n",
    "        \"\"\"Run when tool ends running.\"\"\"\n",
    "        print(\"Tool end\")\n",
    "        print(output)\n",
    "\n",
    "    async def on_llm_end(\n",
    "        self,\n",
    "        response: LLMResult,\n",
    "        *,\n",
    "        run_id: UUID,\n",
    "        parent_run_id: Optional[UUID] = None,\n",
    "        tags: Optional[List[str]] = None,\n",
    "        **kwargs: Any,\n",
    "    ) -> None:\n",
    "        \"\"\"Run when LLM ends running.\"\"\"\n",
    "        overlap_tags = self.get_overlap_tags(tags)\n",
    "\n",
    "        if overlap_tags:\n",
    "            # Who can argue with beauty?\n",
    "            print()\n",
    "            print()\n",
    "\n",
    "    def get_overlap_tags(self, tags: Optional[List[str]]) -> List[str]:\n",
    "        \"\"\"Check for overlap with filtered tags.\"\"\"\n",
    "        if not tags:\n",
    "            return []\n",
    "        return sorted(set(tags or []) & set(self.tags_of_interest or []))\n",
    "\n",
    "    async def on_llm_new_token(\n",
    "        self,\n",
    "        token: str,\n",
    "        *,\n",
    "        chunk: Optional[Union[GenerationChunk, ChatGenerationChunk]] = None,\n",
    "        run_id: UUID,\n",
    "        parent_run_id: Optional[UUID] = None,\n",
    "        tags: Optional[List[str]] = None,\n",
    "        **kwargs: Any,\n",
    "    ) -> None:\n",
    "        \"\"\"Run on new LLM token. Only available when streaming is enabled.\"\"\"\n",
    "        overlap_tags = self.get_overlap_tags(tags)\n",
    "\n",
    "        if token and overlap_tags:\n",
    "            print(token, end=\"|\", flush=True)\n",
    "\n",
    "\n",
    "handler = TokenByTokenHandler(tags_of_interest=[\"tool_llm\", \"agent_llm\"])\n",
    "\n",
    "result = await agent_executor.ainvoke(\n",
    "    {\"input\": \"where is the cat hiding and what items can be found there?\"},\n",
    "    {\"callbacks\": [handler]},\n",
    ")"
   ]
  }
 ],
 "metadata": {
  "kernelspec": {
   "display_name": "dev",
   "language": "python",
   "name": "python3"
  },
  "language_info": {
   "codemirror_mode": {
    "name": "ipython",
    "version": 3
   },
   "file_extension": ".py",
   "mimetype": "text/x-python",
   "name": "python",
   "nbconvert_exporter": "python",
   "pygments_lexer": "ipython3",
   "version": "3.11.5"
  }
 },
 "nbformat": 4,
 "nbformat_minor": 2
}
