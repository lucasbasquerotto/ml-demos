{
  "cells": [
    {
      "cell_type": "markdown",
      "id": "1a4596ea-a631-416d-a2a4-3577c140493d",
      "metadata": {
        "id": "1a4596ea-a631-416d-a2a4-3577c140493d",
        "tags": []
      },
      "source": [
        "# LangSmith Walkthrough\n",
        "[![Open In Colab](https://colab.research.google.com/assets/colab-badge.svg)](https://colab.research.google.com/github/langchain-ai/langchain/blob/master/docs/docs/langsmith/walkthrough.ipynb)\n",
        "\n",
        "LangChain makes it easy to prototype LLM applications and Agents. However, delivering LLM applications to production can be deceptively difficult. You will have to iterate on your prompts, chains, and other components to build a high-quality product.\n",
        "\n",
        "LangSmith makes it easy to debug, test, and continuously improve your LLM applications.\n",
        "\n",
        "When might this come in handy? You may find it useful when you want to:\n",
        "\n",
        "- Quickly debug a new chain, agent, or set of tools\n",
        "- Create and manage datasets for fine-tuning, few-shot prompting, and evaluation\n",
        "- Run regression tests on your application to confidently develop\n",
        "- Capture production analytics for product insights and continuous improvements"
      ]
    },
    {
      "cell_type": "markdown",
      "id": "138fbb8f-960d-4d26-9dd5-6d6acab3ee55",
      "metadata": {
        "id": "138fbb8f-960d-4d26-9dd5-6d6acab3ee55"
      },
      "source": [
        "## Prerequisites\n",
        "\n",
        "**[Create a LangSmith account](https://smith.langchain.com/) and create an API key (see bottom left corner). Familiarize yourself with the platform by looking through the [docs](https://docs.smith.langchain.com/)**\n",
        "\n",
        "Note LangSmith is in closed beta; we're in the process of rolling it out to more users. However, you can fill out the form on the website for expedited access.\n",
        "\n",
        "Now, let's get started!"
      ]
    },
    {
      "cell_type": "markdown",
      "id": "2d77d064-41b4-41fb-82e6-2d16461269ec",
      "metadata": {
        "id": "2d77d064-41b4-41fb-82e6-2d16461269ec",
        "tags": []
      },
      "source": [
        "## Log runs to LangSmith\n",
        "\n",
        "First, configure your environment variables to tell LangChain to log traces. This is done by setting the `LANGCHAIN_TRACING_V2` environment variable to true.\n",
        "You can tell LangChain which project to log to by setting the `LANGCHAIN_PROJECT` environment variable (if this isn't set, runs will be logged to the `default` project). This will automatically create the project for you if it doesn't exist. You must also set the `LANGCHAIN_ENDPOINT` and `LANGCHAIN_API_KEY` environment variables.\n",
        "\n",
        "For more information on other ways to set up tracing, please reference the [LangSmith documentation](https://docs.smith.langchain.com/docs/).\n",
        "\n",
        "**NOTE:** You can also use a context manager in python to log traces using\n",
        "\n",
        "```python\n",
        "from langchain_core.tracers.context import tracing_v2_enabled\n",
        "\n",
        "with tracing_v2_enabled(project_name=\"My Project\"):\n",
        "    agent.run(\"How many people live in canada as of 2023?\")\n",
        "```\n",
        "\n",
        "However, in this example, we will use environment variables."
      ]
    },
    {
      "cell_type": "code",
      "execution_count": 5,
      "id": "e4780363-f05a-4649-8b1a-9b449f960ce4",
      "metadata": {
        "id": "e4780363-f05a-4649-8b1a-9b449f960ce4"
      },
      "outputs": [],
      "source": [
        "# %pip install --upgrade --quiet  langchain langsmith langchainhub --quiet\n",
        "# %pip install --upgrade --quiet  langchain-openai tiktoken pandas duckduckgo-search --quiet"
      ]
    },
    {
      "cell_type": "code",
      "execution_count": 6,
      "id": "90fdad9d",
      "metadata": {},
      "outputs": [
        {
          "data": {
            "text/plain": [
              "True"
            ]
          },
          "execution_count": 6,
          "metadata": {},
          "output_type": "execute_result"
        }
      ],
      "source": [
        "from dotenv import load_dotenv\n",
        "load_dotenv('../.env')"
      ]
    },
    {
      "cell_type": "code",
      "execution_count": 7,
      "id": "904db9a5-f387-4a57-914c-c8af8d39e249",
      "metadata": {
        "id": "904db9a5-f387-4a57-914c-c8af8d39e249",
        "tags": []
      },
      "outputs": [],
      "source": [
        "import os\n",
        "from uuid import uuid4\n",
        "\n",
        "unique_id = uuid4().hex[0:8]\n",
        "# os.environ[\"LANGCHAIN_TRACING_V2\"] = \"true\"\n",
        "os.environ[\"LANGCHAIN_PROJECT\"] = f\"Tracing Walkthrough - {unique_id}\"\n",
        "os.environ[\"LANGCHAIN_ENDPOINT\"] = \"https://api.smith.langchain.com\"\n",
        "# os.environ[\"LANGCHAIN_API_KEY\"] = \"<YOUR-API-KEY>\"  # Update to your API key\n",
        "\n",
        "# Used by the agent in this tutorial\n",
        "# os.environ[\"OPENAI_API_KEY\"] = \"<YOUR-OPENAI-API-KEY>\""
      ]
    },
    {
      "cell_type": "markdown",
      "id": "8ee7f34b-b65c-4e09-ad52-e3ace78d0221",
      "metadata": {
        "id": "8ee7f34b-b65c-4e09-ad52-e3ace78d0221",
        "tags": []
      },
      "source": [
        "Create the langsmith client to interact with the API"
      ]
    },
    {
      "cell_type": "code",
      "execution_count": 8,
      "id": "510b5ca0",
      "metadata": {
        "id": "510b5ca0",
        "tags": []
      },
      "outputs": [],
      "source": [
        "from langsmith import Client\n",
        "\n",
        "client = Client()"
      ]
    },
    {
      "cell_type": "markdown",
      "id": "ca27fa11-ddce-4af0-971e-c5c37d5b92ef",
      "metadata": {
        "id": "ca27fa11-ddce-4af0-971e-c5c37d5b92ef"
      },
      "source": [
        "Create a LangChain component and log runs to the platform. In this example, we will create a ReAct-style agent with access to a general search tool (DuckDuckGo). The agent's prompt can be viewed in the [Hub here](https://smith.langchain.com/hub/wfh/langsmith-agent-prompt)."
      ]
    },
    {
      "cell_type": "code",
      "execution_count": 9,
      "id": "a0fbfbba-3c82-4298-a312-9cec016d9d2e",
      "metadata": {
        "id": "a0fbfbba-3c82-4298-a312-9cec016d9d2e"
      },
      "outputs": [],
      "source": [
        "from langchain import hub\n",
        "from langchain.agents import AgentExecutor\n",
        "from langchain.agents.format_scratchpad.openai_tools import (\n",
        "    format_to_openai_tool_messages,\n",
        ")\n",
        "from langchain.agents.output_parsers.openai_tools import OpenAIToolsAgentOutputParser\n",
        "from langchain_community.tools import DuckDuckGoSearchResults\n",
        "from langchain_openai import ChatOpenAI\n",
        "\n",
        "# Fetches the latest version of this prompt\n",
        "prompt = hub.pull(\"wfh/langsmith-agent-prompt:5d466cbc\")\n",
        "\n",
        "llm = ChatOpenAI(\n",
        "    model=\"gpt-3.5-turbo-16k\",\n",
        "    temperature=0,\n",
        ")\n",
        "\n",
        "tools = [\n",
        "    DuckDuckGoSearchResults(\n",
        "        name=\"duck_duck_go\"\n",
        "    ),  # General internet search using DuckDuckGo\n",
        "]\n",
        "\n",
        "llm_with_tools = llm.bind_tools(tools)\n",
        "\n",
        "runnable_agent = (\n",
        "    {\n",
        "        \"input\": lambda x: x[\"input\"],\n",
        "        \"agent_scratchpad\": lambda x: format_to_openai_tool_messages(\n",
        "            x[\"intermediate_steps\"]\n",
        "        ),\n",
        "    }\n",
        "    | prompt\n",
        "    | llm_with_tools\n",
        "    | OpenAIToolsAgentOutputParser()\n",
        ")\n",
        "\n",
        "agent_executor = AgentExecutor(\n",
        "    agent=runnable_agent, tools=tools, handle_parsing_errors=True\n",
        ")"
      ]
    },
    {
      "cell_type": "markdown",
      "id": "cab51e1e-8270-452c-ba22-22b5b5951899",
      "metadata": {
        "id": "cab51e1e-8270-452c-ba22-22b5b5951899"
      },
      "source": [
        "We are running the agent concurrently on multiple inputs to reduce latency. Runs get logged to LangSmith in the background so execution latency is unaffected."
      ]
    },
    {
      "cell_type": "code",
      "execution_count": 10,
      "id": "19537902-b95c-4390-80a4-f6c9a937081e",
      "metadata": {
        "id": "19537902-b95c-4390-80a4-f6c9a937081e",
        "tags": []
      },
      "outputs": [],
      "source": [
        "inputs = [\n",
        "    \"What is LangChain?\",\n",
        "    \"What's LangSmith?\",\n",
        "    \"When was Llama-v2 released?\",\n",
        "    \"What is the langsmith cookbook?\",\n",
        "    \"When did langchain first announce the hub?\",\n",
        "]\n",
        "\n",
        "results = agent_executor.batch([{\"input\": x} for x in inputs], return_exceptions=True)"
      ]
    },
    {
      "cell_type": "code",
      "execution_count": 11,
      "id": "9a6a764c-5d7a-4de7-a916-3ecc987d5bb6",
      "metadata": {
        "id": "9a6a764c-5d7a-4de7-a916-3ecc987d5bb6",
        "outputId": "88faa5e8-7a7e-4249-adc5-4c47d846f5d3"
      },
      "outputs": [
        {
          "data": {
            "text/plain": [
              "[{'input': 'What is LangChain?',\n",
              "  'output': 'I\\'m sorry, but I don\\'t have any information about \"LangChain\". Could you please provide more context or clarify what you are referring to?'},\n",
              " {'input': \"What's LangSmith?\",\n",
              "  'output': 'I\\'m sorry, but I couldn\\'t find any information about \"LangSmith\". It could be a company, a product, or a person. Can you provide more context or details about what you are referring to?'}]"
            ]
          },
          "execution_count": 11,
          "metadata": {},
          "output_type": "execute_result"
        }
      ],
      "source": [
        "results[:2]"
      ]
    },
    {
      "cell_type": "markdown",
      "id": "9decb964-be07-4b6c-9802-9825c8be7b64",
      "metadata": {
        "id": "9decb964-be07-4b6c-9802-9825c8be7b64"
      },
      "source": [
        "Assuming you've successfully set up your environment, your agent traces should show up in the `Projects` section in the [app](https://smith.langchain.com/). Congrats!\n",
        "\n",
        "![Initial Runs](https://github.com/langchain-ai/langchain/blob/master/docs/docs/langsmith/img/log_traces.png?raw=1)\n",
        "\n",
        "It looks like the agent isn't effectively using the tools though. Let's evaluate this so we have a baseline."
      ]
    },
    {
      "cell_type": "markdown",
      "id": "6c43c311-4e09-4d57-9ef3-13afb96ff430",
      "metadata": {
        "id": "6c43c311-4e09-4d57-9ef3-13afb96ff430"
      },
      "source": [
        "## Evaluate Agent\n",
        "\n",
        "In addition to logging runs, LangSmith also allows you to test and evaluate your LLM applications.\n",
        "\n",
        "In this section, you will leverage LangSmith to create a benchmark dataset and run AI-assisted evaluators on an agent. You will do so in a few steps:\n",
        "\n",
        "1. Create a dataset\n",
        "2. Initialize a new agent to benchmark\n",
        "3. Configure evaluators to grade an agent's output\n",
        "4. Run the agent over the dataset and evaluate the results"
      ]
    },
    {
      "cell_type": "markdown",
      "id": "beab1a29-b79d-4a99-b5b1-0870c2d772b1",
      "metadata": {
        "id": "beab1a29-b79d-4a99-b5b1-0870c2d772b1"
      },
      "source": [
        "### 1. Create a LangSmith dataset\n",
        "\n",
        "Below, we use the LangSmith client to create a dataset from the input questions from above and a list labels. You will use these later to measure performance for a new agent. A dataset is a collection of examples, which are nothing more than input-output pairs you can use as test cases to your application.\n",
        "\n",
        "For more information on datasets, including how to create them from CSVs or other files or how to create them in the platform, please refer to the [LangSmith documentation](https://docs.smith.langchain.com/)."
      ]
    },
    {
      "cell_type": "code",
      "execution_count": 12,
      "id": "43fd40b2-3f02-4e51-9343-705aafe90a36",
      "metadata": {
        "id": "43fd40b2-3f02-4e51-9343-705aafe90a36"
      },
      "outputs": [],
      "source": [
        "outputs = [\n",
        "    \"LangChain is an open-source framework for building applications using large language models. It is also the name of the company building LangSmith.\",\n",
        "    \"LangSmith is a unified platform for debugging, testing, and monitoring language model applications and agents powered by LangChain\",\n",
        "    \"July 18, 2023\",\n",
        "    \"The langsmith cookbook is a github repository containing detailed examples of how to use LangSmith to debug, evaluate, and monitor large language model-powered applications.\",\n",
        "    \"September 5, 2023\",\n",
        "]"
      ]
    },
    {
      "cell_type": "code",
      "execution_count": 13,
      "id": "17580c4b-bd04-4dde-9d21-9d4edd25b00d",
      "metadata": {
        "id": "17580c4b-bd04-4dde-9d21-9d4edd25b00d",
        "tags": []
      },
      "outputs": [],
      "source": [
        "dataset_name = f\"agent-qa-{unique_id}\"\n",
        "\n",
        "dataset = client.create_dataset(\n",
        "    dataset_name,\n",
        "    description=\"An example dataset of questions over the LangSmith documentation.\",\n",
        ")\n",
        "\n",
        "client.create_examples(\n",
        "    inputs=[{\"input\": query} for query in inputs],\n",
        "    outputs=[{\"output\": answer} for answer in outputs],\n",
        "    dataset_id=dataset.id,\n",
        ")"
      ]
    },
    {
      "cell_type": "markdown",
      "id": "8adfd29c-b258-49e5-94b4-74597a12ba16",
      "metadata": {
        "id": "8adfd29c-b258-49e5-94b4-74597a12ba16",
        "tags": []
      },
      "source": [
        "### 2. Initialize a new agent to benchmark\n",
        "\n",
        "LangSmith lets you evaluate any LLM, chain, agent, or even a custom function. Conversational agents are stateful (they have memory); to ensure that this state isn't shared between dataset runs, we will pass in a `chain_factory` (aka a `constructor`) function to initialize for each call.\n",
        "\n",
        "In this case, we will test an agent that uses OpenAI's function calling endpoints."
      ]
    },
    {
      "cell_type": "code",
      "execution_count": 14,
      "id": "f42d8ecc-d46a-448b-a89c-04b0f6907f75",
      "metadata": {
        "id": "f42d8ecc-d46a-448b-a89c-04b0f6907f75",
        "tags": []
      },
      "outputs": [],
      "source": [
        "from langchain import hub\n",
        "from langchain.agents import AgentExecutor, AgentType, initialize_agent, load_tools\n",
        "from langchain_openai import ChatOpenAI\n",
        "\n",
        "\n",
        "# Since chains can be stateful (e.g. they can have memory), we provide\n",
        "# a way to initialize a new chain for each row in the dataset. This is done\n",
        "# by passing in a factory function that returns a new chain for each row.\n",
        "def create_agent(prompt, llm_with_tools):\n",
        "    runnable_agent = (\n",
        "        {\n",
        "            \"input\": lambda x: x[\"input\"],\n",
        "            \"agent_scratchpad\": lambda x: format_to_openai_tool_messages(\n",
        "                x[\"intermediate_steps\"]\n",
        "            ),\n",
        "        }\n",
        "        | prompt\n",
        "        | llm_with_tools\n",
        "        | OpenAIToolsAgentOutputParser()\n",
        "    )\n",
        "    return AgentExecutor(agent=runnable_agent, tools=tools, handle_parsing_errors=True)"
      ]
    },
    {
      "cell_type": "markdown",
      "id": "9cb9ef53",
      "metadata": {
        "id": "9cb9ef53"
      },
      "source": [
        "### 3. Configure evaluation\n",
        "\n",
        "Manually comparing the results of chains in the UI is effective, but it can be time consuming.\n",
        "It can be helpful to use automated metrics and AI-assisted feedback to evaluate your component's performance.\n",
        "\n",
        "Below, we will create a custom run evaluator that logs a heuristic evaluation.\n",
        "\n",
        "**Heuristic evaluators**"
      ]
    },
    {
      "cell_type": "code",
      "execution_count": 20,
      "id": "331c3c53-949d-405e-8ba5-38bab1ce413b",
      "metadata": {
        "id": "331c3c53-949d-405e-8ba5-38bab1ce413b"
      },
      "outputs": [],
      "source": [
        "from langsmith.evaluation import EvaluationResult\n",
        "from langsmith.schemas import Example, Run\n",
        "\n",
        "\n",
        "def check_not_idk(run: Run, example: Example) -> EvaluationResult:\n",
        "    \"\"\"Illustration of a custom evaluator.\"\"\"\n",
        "    agent_response = run.outputs[\"output\"]\n",
        "    if \"don't know\" in agent_response or \"not sure\" in agent_response:\n",
        "        score = 0\n",
        "    else:\n",
        "        score = 1\n",
        "    # You can access the dataset labels in example.outputs[key]\n",
        "    # You can also access the model inputs in run.inputs[key]\n",
        "    return EvaluationResult(\n",
        "        key=\"not_uncertain\",\n",
        "        score=score,\n",
        "    )"
      ]
    },
    {
      "cell_type": "markdown",
      "id": "1cc51d0a-4982-4ff9-89c1-b294d5cce8f6",
      "metadata": {
        "id": "1cc51d0a-4982-4ff9-89c1-b294d5cce8f6"
      },
      "source": [
        "#### Batch Evaluators\n",
        "\n",
        "Some metrics are aggregated over a full \"test\" without being assigned to an individual runs/examples. These could be as simple\n",
        "as common classification metrics like Precision, Recall, or AUC, or it could be another custom aggregate metric.\n",
        "\n",
        "You can define any batch metric on a full test level by defining a function (or any callable) that accepts a list of Runs (system traces) and list of Examples (dataset records)."
      ]
    },
    {
      "cell_type": "code",
      "execution_count": 21,
      "id": "cada62c4-c237-4f85-aa33-789cbcd1e8c1",
      "metadata": {
        "id": "cada62c4-c237-4f85-aa33-789cbcd1e8c1"
      },
      "outputs": [],
      "source": [
        "from typing import List\n",
        "\n",
        "\n",
        "def max_pred_length(runs: List[Run], examples: List[Example]) -> EvaluationResult:\n",
        "    predictions = [len(run.outputs[\"output\"]) for run in runs]\n",
        "    return EvaluationResult(key=\"max_pred_length\", score=max(predictions))"
      ]
    },
    {
      "cell_type": "markdown",
      "id": "ad9c4791-570b-4adf-a23f-d025ff383254",
      "metadata": {
        "id": "ad9c4791-570b-4adf-a23f-d025ff383254"
      },
      "source": [
        "Below, we will configure the evaluation with the custom evaluator from above, as well as some pre-implemented run evaluators that do the following:\n",
        "- Compare results against ground truth labels.\n",
        "- Measure semantic (dis)similarity using embedding distance\n",
        "- Evaluate 'aspects' of the agent's response in a reference-free manner using custom criteria\n",
        "\n",
        "For a longer discussion of how to select an appropriate evaluator for your use case and how to create your own\n",
        "custom evaluators, please refer to the [LangSmith documentation](https://docs.smith.langchain.com/)."
      ]
    },
    {
      "cell_type": "code",
      "execution_count": 25,
      "id": "a25dc281",
      "metadata": {
        "id": "a25dc281",
        "tags": []
      },
      "outputs": [],
      "source": [
        "from langchain.evaluation import EvaluatorType\n",
        "from langchain.smith import RunEvalConfig\n",
        "\n",
        "evaluation_config = RunEvalConfig(\n",
        "    # Evaluators can either be an evaluator type (e.g., \"qa\", \"criteria\", \"embedding_distance\", etc.) or a configuration for that evaluator\n",
        "    evaluators=[\n",
        "        # Error: value is not a valid enumeration member; str type expected (type=type_error.str); value is not a valid dict (type=type_error.dict)\n",
        "        # check_not_idk,\n",
        "        # Measures whether a QA response is \"Correct\", based on a reference answer\n",
        "        # You can also select via the raw string \"qa\"\n",
        "        EvaluatorType.QA,\n",
        "        # Measure the embedding distance between the output and the reference answer\n",
        "        # Equivalent to: EvalConfig.EmbeddingDistance(embeddings=OpenAIEmbeddings())\n",
        "        EvaluatorType.EMBEDDING_DISTANCE,\n",
        "        # Grade whether the output satisfies the stated criteria.\n",
        "        # You can select a default one such as \"helpfulness\" or provide your own.\n",
        "        RunEvalConfig.LabeledCriteria(\"helpfulness\"),\n",
        "        # The LabeledScoreString evaluator outputs a score on a scale from 1-10.\n",
        "        # You can use default criteria or write our own rubric\n",
        "        RunEvalConfig.LabeledScoreString(\n",
        "            {\n",
        "                \"accuracy\": \"\"\"\n",
        "Score 1: The answer is completely unrelated to the reference.\n",
        "Score 3: The answer has minor relevance but does not align with the reference.\n",
        "Score 5: The answer has moderate relevance but contains inaccuracies.\n",
        "Score 7: The answer aligns with the reference but has minor errors or omissions.\n",
        "Score 10: The answer is completely accurate and aligns perfectly with the reference.\"\"\"\n",
        "            },\n",
        "            normalize_by=10,\n",
        "        ),\n",
        "    ],\n",
        "    batch_evaluators=[max_pred_length],\n",
        ")"
      ]
    },
    {
      "cell_type": "markdown",
      "id": "07885b10",
      "metadata": {
        "id": "07885b10",
        "tags": []
      },
      "source": [
        "### 4. Run the agent and evaluators\n",
        "\n",
        "Use the [run_on_dataset](https://api.python.langchain.com/en/latest/smith/langchain.smith.evaluation.runner_utils.run_on_dataset.html#langchain.smith.evaluation.runner_utils.run_on_dataset) (or asynchronous [arun_on_dataset](https://api.python.langchain.com/en/latest/smith/langchain.smith.evaluation.runner_utils.arun_on_dataset.html#langchain.smith.evaluation.runner_utils.arun_on_dataset)) function to evaluate your model. This will:\n",
        "1. Fetch example rows from the specified dataset.\n",
        "2. Run your agent (or any custom function) on each example.\n",
        "3. Apply evaluators to the resulting run traces and corresponding reference examples to generate automated feedback.\n",
        "\n",
        "The results will be visible in the LangSmith app."
      ]
    },
    {
      "cell_type": "code",
      "execution_count": 26,
      "id": "af8c8469-d70d-46d9-8fcd-517a1ccc7c4b",
      "metadata": {
        "id": "af8c8469-d70d-46d9-8fcd-517a1ccc7c4b"
      },
      "outputs": [],
      "source": [
        "from langchain import hub\n",
        "\n",
        "# We will test this version of the prompt\n",
        "prompt = hub.pull(\"wfh/langsmith-agent-prompt:798e7324\")"
      ]
    },
    {
      "cell_type": "code",
      "execution_count": 27,
      "id": "3733269b-8085-4644-9d5d-baedcff13a2f",
      "metadata": {
        "id": "3733269b-8085-4644-9d5d-baedcff13a2f",
        "tags": []
      },
      "outputs": [
        {
          "name": "stdout",
          "output_type": "stream",
          "text": [
            "View the evaluation results for project 'tools-agent-test-5d466cbc-42a45d77' at:\n",
            "https://smith.langchain.com/o/2df6ae68-9d01-5382-8cfc-559aaec8f95f/datasets/d9c7a957-7216-4396-a075-86b0570c3b1e/compare?selectedSessions=e0c2ebde-3847-41bf-93a4-22998aedae85\n",
            "\n",
            "View all tests for Dataset agent-qa-42a45d77 at:\n",
            "https://smith.langchain.com/o/2df6ae68-9d01-5382-8cfc-559aaec8f95f/datasets/d9c7a957-7216-4396-a075-86b0570c3b1e\n",
            "[------------------------------------------------->] 5/5"
          ]
        },
        {
          "data": {
            "text/html": [
              "<h3>Experiment Results:</h3>"
            ],
            "text/plain": [
              "<IPython.core.display.HTML object>"
            ]
          },
          "metadata": {},
          "output_type": "display_data"
        },
        {
          "data": {
            "text/html": [
              "<div>\n",
              "<style scoped>\n",
              "    .dataframe tbody tr th:only-of-type {\n",
              "        vertical-align: middle;\n",
              "    }\n",
              "\n",
              "    .dataframe tbody tr th {\n",
              "        vertical-align: top;\n",
              "    }\n",
              "\n",
              "    .dataframe thead th {\n",
              "        text-align: right;\n",
              "    }\n",
              "</style>\n",
              "<table border=\"1\" class=\"dataframe\">\n",
              "  <thead>\n",
              "    <tr style=\"text-align: right;\">\n",
              "      <th></th>\n",
              "      <th>feedback.correctness</th>\n",
              "      <th>feedback.embedding_cosine_distance</th>\n",
              "      <th>feedback.helpfulness</th>\n",
              "      <th>feedback.score_string:accuracy</th>\n",
              "      <th>error</th>\n",
              "      <th>execution_time</th>\n",
              "      <th>run_id</th>\n",
              "    </tr>\n",
              "  </thead>\n",
              "  <tbody>\n",
              "    <tr>\n",
              "      <th>count</th>\n",
              "      <td>5.000000</td>\n",
              "      <td>5.000000</td>\n",
              "      <td>5.000000</td>\n",
              "      <td>5.000000</td>\n",
              "      <td>0</td>\n",
              "      <td>5.000000</td>\n",
              "      <td>5</td>\n",
              "    </tr>\n",
              "    <tr>\n",
              "      <th>unique</th>\n",
              "      <td>NaN</td>\n",
              "      <td>NaN</td>\n",
              "      <td>NaN</td>\n",
              "      <td>NaN</td>\n",
              "      <td>0</td>\n",
              "      <td>NaN</td>\n",
              "      <td>5</td>\n",
              "    </tr>\n",
              "    <tr>\n",
              "      <th>top</th>\n",
              "      <td>NaN</td>\n",
              "      <td>NaN</td>\n",
              "      <td>NaN</td>\n",
              "      <td>NaN</td>\n",
              "      <td>NaN</td>\n",
              "      <td>NaN</td>\n",
              "      <td>12debb21-4f38-4651-95b8-07ef87ee5d9f</td>\n",
              "    </tr>\n",
              "    <tr>\n",
              "      <th>freq</th>\n",
              "      <td>NaN</td>\n",
              "      <td>NaN</td>\n",
              "      <td>NaN</td>\n",
              "      <td>NaN</td>\n",
              "      <td>NaN</td>\n",
              "      <td>NaN</td>\n",
              "      <td>1</td>\n",
              "    </tr>\n",
              "    <tr>\n",
              "      <th>mean</th>\n",
              "      <td>0.600000</td>\n",
              "      <td>0.136646</td>\n",
              "      <td>0.600000</td>\n",
              "      <td>0.680000</td>\n",
              "      <td>NaN</td>\n",
              "      <td>6.751906</td>\n",
              "      <td>NaN</td>\n",
              "    </tr>\n",
              "    <tr>\n",
              "      <th>std</th>\n",
              "      <td>0.547723</td>\n",
              "      <td>0.100010</td>\n",
              "      <td>0.547723</td>\n",
              "      <td>0.349285</td>\n",
              "      <td>NaN</td>\n",
              "      <td>0.879931</td>\n",
              "      <td>NaN</td>\n",
              "    </tr>\n",
              "    <tr>\n",
              "      <th>min</th>\n",
              "      <td>0.000000</td>\n",
              "      <td>0.048763</td>\n",
              "      <td>0.000000</td>\n",
              "      <td>0.100000</td>\n",
              "      <td>NaN</td>\n",
              "      <td>6.008476</td>\n",
              "      <td>NaN</td>\n",
              "    </tr>\n",
              "    <tr>\n",
              "      <th>25%</th>\n",
              "      <td>0.000000</td>\n",
              "      <td>0.058320</td>\n",
              "      <td>0.000000</td>\n",
              "      <td>0.700000</td>\n",
              "      <td>NaN</td>\n",
              "      <td>6.087901</td>\n",
              "      <td>NaN</td>\n",
              "    </tr>\n",
              "    <tr>\n",
              "      <th>50%</th>\n",
              "      <td>1.000000</td>\n",
              "      <td>0.092569</td>\n",
              "      <td>1.000000</td>\n",
              "      <td>0.700000</td>\n",
              "      <td>NaN</td>\n",
              "      <td>6.317178</td>\n",
              "      <td>NaN</td>\n",
              "    </tr>\n",
              "    <tr>\n",
              "      <th>75%</th>\n",
              "      <td>1.000000</td>\n",
              "      <td>0.209407</td>\n",
              "      <td>1.000000</td>\n",
              "      <td>0.900000</td>\n",
              "      <td>NaN</td>\n",
              "      <td>7.343024</td>\n",
              "      <td>NaN</td>\n",
              "    </tr>\n",
              "    <tr>\n",
              "      <th>max</th>\n",
              "      <td>1.000000</td>\n",
              "      <td>0.274168</td>\n",
              "      <td>1.000000</td>\n",
              "      <td>1.000000</td>\n",
              "      <td>NaN</td>\n",
              "      <td>8.002950</td>\n",
              "      <td>NaN</td>\n",
              "    </tr>\n",
              "  </tbody>\n",
              "</table>\n",
              "</div>"
            ],
            "text/plain": [
              "        feedback.correctness  feedback.embedding_cosine_distance  \\\n",
              "count               5.000000                            5.000000   \n",
              "unique                   NaN                                 NaN   \n",
              "top                      NaN                                 NaN   \n",
              "freq                     NaN                                 NaN   \n",
              "mean                0.600000                            0.136646   \n",
              "std                 0.547723                            0.100010   \n",
              "min                 0.000000                            0.048763   \n",
              "25%                 0.000000                            0.058320   \n",
              "50%                 1.000000                            0.092569   \n",
              "75%                 1.000000                            0.209407   \n",
              "max                 1.000000                            0.274168   \n",
              "\n",
              "        feedback.helpfulness  feedback.score_string:accuracy error  \\\n",
              "count               5.000000                        5.000000     0   \n",
              "unique                   NaN                             NaN     0   \n",
              "top                      NaN                             NaN   NaN   \n",
              "freq                     NaN                             NaN   NaN   \n",
              "mean                0.600000                        0.680000   NaN   \n",
              "std                 0.547723                        0.349285   NaN   \n",
              "min                 0.000000                        0.100000   NaN   \n",
              "25%                 0.000000                        0.700000   NaN   \n",
              "50%                 1.000000                        0.700000   NaN   \n",
              "75%                 1.000000                        0.900000   NaN   \n",
              "max                 1.000000                        1.000000   NaN   \n",
              "\n",
              "        execution_time                                run_id  \n",
              "count         5.000000                                     5  \n",
              "unique             NaN                                     5  \n",
              "top                NaN  12debb21-4f38-4651-95b8-07ef87ee5d9f  \n",
              "freq               NaN                                     1  \n",
              "mean          6.751906                                   NaN  \n",
              "std           0.879931                                   NaN  \n",
              "min           6.008476                                   NaN  \n",
              "25%           6.087901                                   NaN  \n",
              "50%           6.317178                                   NaN  \n",
              "75%           7.343024                                   NaN  \n",
              "max           8.002950                                   NaN  "
            ]
          },
          "metadata": {},
          "output_type": "display_data"
        }
      ],
      "source": [
        "import functools\n",
        "\n",
        "from langchain.smith import arun_on_dataset, run_on_dataset\n",
        "\n",
        "chain_results = run_on_dataset(\n",
        "    dataset_name=dataset_name,\n",
        "    llm_or_chain_factory=functools.partial(\n",
        "        create_agent, prompt=prompt, llm_with_tools=llm_with_tools\n",
        "    ),\n",
        "    evaluation=evaluation_config,\n",
        "    verbose=True,\n",
        "    client=client,\n",
        "    project_name=f\"tools-agent-test-5d466cbc-{unique_id}\",\n",
        "    # Project metadata communicates the experiment parameters,\n",
        "    # Useful for reviewing the test results\n",
        "    project_metadata={\n",
        "        \"env\": \"testing-notebook\",\n",
        "        \"model\": \"gpt-3.5-turbo\",\n",
        "        \"prompt\": \"5d466cbc\",\n",
        "    },\n",
        ")\n",
        "\n",
        "# Sometimes, the agent will error due to parsing issues, incompatible tool inputs, etc.\n",
        "# These are logged as warnings here and captured as errors in the tracing UI."
      ]
    },
    {
      "cell_type": "markdown",
      "id": "cdacd159-eb4d-49e9-bb2a-c55322c40ed4",
      "metadata": {
        "id": "cdacd159-eb4d-49e9-bb2a-c55322c40ed4",
        "tags": []
      },
      "source": [
        "### Review the test results\n",
        "\n",
        "You can review the test results tracing UI below by clicking the URL in the output above or navigating to the \"Testing & Datasets\" page in LangSmith  **\"agent-qa-{unique_id}\"** dataset.\n",
        "\n",
        "![test results](https://github.com/langchain-ai/langchain/blob/master/docs/docs/langsmith/img/test_results.png?raw=1)\n",
        "\n",
        "This will show the new runs and the feedback logged from the selected evaluators. You can also explore a summary of the results in tabular format below."
      ]
    },
    {
      "cell_type": "code",
      "execution_count": 28,
      "id": "9da60638-5be8-4b5f-a721-2c6627aeaf0c",
      "metadata": {
        "id": "9da60638-5be8-4b5f-a721-2c6627aeaf0c"
      },
      "outputs": [
        {
          "data": {
            "text/html": [
              "<div>\n",
              "<style scoped>\n",
              "    .dataframe tbody tr th:only-of-type {\n",
              "        vertical-align: middle;\n",
              "    }\n",
              "\n",
              "    .dataframe tbody tr th {\n",
              "        vertical-align: top;\n",
              "    }\n",
              "\n",
              "    .dataframe thead th {\n",
              "        text-align: right;\n",
              "    }\n",
              "</style>\n",
              "<table border=\"1\" class=\"dataframe\">\n",
              "  <thead>\n",
              "    <tr style=\"text-align: right;\">\n",
              "      <th></th>\n",
              "      <th>inputs.input</th>\n",
              "      <th>outputs.input</th>\n",
              "      <th>outputs.output</th>\n",
              "      <th>reference.output</th>\n",
              "      <th>feedback.correctness</th>\n",
              "      <th>feedback.embedding_cosine_distance</th>\n",
              "      <th>feedback.helpfulness</th>\n",
              "      <th>feedback.score_string:accuracy</th>\n",
              "      <th>error</th>\n",
              "      <th>execution_time</th>\n",
              "      <th>run_id</th>\n",
              "    </tr>\n",
              "  </thead>\n",
              "  <tbody>\n",
              "    <tr>\n",
              "      <th>7287f411-8a21-443e-80a2-6c970a4a3496</th>\n",
              "      <td>What is LangChain?</td>\n",
              "      <td>What is LangChain?</td>\n",
              "      <td>LangChain is a decentralized blockchain platfo...</td>\n",
              "      <td>LangChain is an open-source framework for buil...</td>\n",
              "      <td>0</td>\n",
              "      <td>0.092569</td>\n",
              "      <td>0</td>\n",
              "      <td>0.1</td>\n",
              "      <td>None</td>\n",
              "      <td>6.087901</td>\n",
              "      <td>12debb21-4f38-4651-95b8-07ef87ee5d9f</td>\n",
              "    </tr>\n",
              "    <tr>\n",
              "      <th>2e1c2dc2-b2b2-425a-aa6a-a8f49aa1ec5a</th>\n",
              "      <td>What's LangSmith?</td>\n",
              "      <td>What's LangSmith?</td>\n",
              "      <td>LangSmith is a platform developed by LangChain...</td>\n",
              "      <td>LangSmith is a unified platform for debugging,...</td>\n",
              "      <td>1</td>\n",
              "      <td>0.058320</td>\n",
              "      <td>1</td>\n",
              "      <td>0.9</td>\n",
              "      <td>None</td>\n",
              "      <td>8.002950</td>\n",
              "      <td>6d66effd-3716-4967-83be-5358036f8fc0</td>\n",
              "    </tr>\n",
              "    <tr>\n",
              "      <th>3c4623a5-ff75-4ee6-8d77-3c28af8100e8</th>\n",
              "      <td>When was Llama-v2 released?</td>\n",
              "      <td>When was Llama-v2 released?</td>\n",
              "      <td>Llama-v2 was released in July 2023. It is the ...</td>\n",
              "      <td>July 18, 2023</td>\n",
              "      <td>1</td>\n",
              "      <td>0.209407</td>\n",
              "      <td>1</td>\n",
              "      <td>1.0</td>\n",
              "      <td>None</td>\n",
              "      <td>6.317178</td>\n",
              "      <td>40247821-f657-471a-ac31-1c4bf96b60a3</td>\n",
              "    </tr>\n",
              "    <tr>\n",
              "      <th>d1cb2406-bec4-47a7-94c4-fb86c523982b</th>\n",
              "      <td>What is the langsmith cookbook?</td>\n",
              "      <td>What is the langsmith cookbook?</td>\n",
              "      <td>The LangSmith Cookbook is a repository that se...</td>\n",
              "      <td>The langsmith cookbook is a github repository ...</td>\n",
              "      <td>1</td>\n",
              "      <td>0.048763</td>\n",
              "      <td>1</td>\n",
              "      <td>0.7</td>\n",
              "      <td>None</td>\n",
              "      <td>7.343024</td>\n",
              "      <td>6670c67d-0a47-4a8c-9f5a-f8128a27dbd6</td>\n",
              "    </tr>\n",
              "    <tr>\n",
              "      <th>fa1dd5ec-adbe-447b-8897-8644c1887634</th>\n",
              "      <td>When did langchain first announce the hub?</td>\n",
              "      <td>When did langchain first announce the hub?</td>\n",
              "      <td>LangChain first announced the LangChain Hub on...</td>\n",
              "      <td>September 5, 2023</td>\n",
              "      <td>0</td>\n",
              "      <td>0.274168</td>\n",
              "      <td>0</td>\n",
              "      <td>0.7</td>\n",
              "      <td>None</td>\n",
              "      <td>6.008476</td>\n",
              "      <td>f35d7dc6-5918-45fa-b965-4c243cb267e7</td>\n",
              "    </tr>\n",
              "  </tbody>\n",
              "</table>\n",
              "</div>"
            ],
            "text/plain": [
              "                                                                    inputs.input  \\\n",
              "7287f411-8a21-443e-80a2-6c970a4a3496                          What is LangChain?   \n",
              "2e1c2dc2-b2b2-425a-aa6a-a8f49aa1ec5a                           What's LangSmith?   \n",
              "3c4623a5-ff75-4ee6-8d77-3c28af8100e8                 When was Llama-v2 released?   \n",
              "d1cb2406-bec4-47a7-94c4-fb86c523982b             What is the langsmith cookbook?   \n",
              "fa1dd5ec-adbe-447b-8897-8644c1887634  When did langchain first announce the hub?   \n",
              "\n",
              "                                                                   outputs.input  \\\n",
              "7287f411-8a21-443e-80a2-6c970a4a3496                          What is LangChain?   \n",
              "2e1c2dc2-b2b2-425a-aa6a-a8f49aa1ec5a                           What's LangSmith?   \n",
              "3c4623a5-ff75-4ee6-8d77-3c28af8100e8                 When was Llama-v2 released?   \n",
              "d1cb2406-bec4-47a7-94c4-fb86c523982b             What is the langsmith cookbook?   \n",
              "fa1dd5ec-adbe-447b-8897-8644c1887634  When did langchain first announce the hub?   \n",
              "\n",
              "                                                                         outputs.output  \\\n",
              "7287f411-8a21-443e-80a2-6c970a4a3496  LangChain is a decentralized blockchain platfo...   \n",
              "2e1c2dc2-b2b2-425a-aa6a-a8f49aa1ec5a  LangSmith is a platform developed by LangChain...   \n",
              "3c4623a5-ff75-4ee6-8d77-3c28af8100e8  Llama-v2 was released in July 2023. It is the ...   \n",
              "d1cb2406-bec4-47a7-94c4-fb86c523982b  The LangSmith Cookbook is a repository that se...   \n",
              "fa1dd5ec-adbe-447b-8897-8644c1887634  LangChain first announced the LangChain Hub on...   \n",
              "\n",
              "                                                                       reference.output  \\\n",
              "7287f411-8a21-443e-80a2-6c970a4a3496  LangChain is an open-source framework for buil...   \n",
              "2e1c2dc2-b2b2-425a-aa6a-a8f49aa1ec5a  LangSmith is a unified platform for debugging,...   \n",
              "3c4623a5-ff75-4ee6-8d77-3c28af8100e8                                      July 18, 2023   \n",
              "d1cb2406-bec4-47a7-94c4-fb86c523982b  The langsmith cookbook is a github repository ...   \n",
              "fa1dd5ec-adbe-447b-8897-8644c1887634                                  September 5, 2023   \n",
              "\n",
              "                                      feedback.correctness  \\\n",
              "7287f411-8a21-443e-80a2-6c970a4a3496                     0   \n",
              "2e1c2dc2-b2b2-425a-aa6a-a8f49aa1ec5a                     1   \n",
              "3c4623a5-ff75-4ee6-8d77-3c28af8100e8                     1   \n",
              "d1cb2406-bec4-47a7-94c4-fb86c523982b                     1   \n",
              "fa1dd5ec-adbe-447b-8897-8644c1887634                     0   \n",
              "\n",
              "                                      feedback.embedding_cosine_distance  \\\n",
              "7287f411-8a21-443e-80a2-6c970a4a3496                            0.092569   \n",
              "2e1c2dc2-b2b2-425a-aa6a-a8f49aa1ec5a                            0.058320   \n",
              "3c4623a5-ff75-4ee6-8d77-3c28af8100e8                            0.209407   \n",
              "d1cb2406-bec4-47a7-94c4-fb86c523982b                            0.048763   \n",
              "fa1dd5ec-adbe-447b-8897-8644c1887634                            0.274168   \n",
              "\n",
              "                                      feedback.helpfulness  \\\n",
              "7287f411-8a21-443e-80a2-6c970a4a3496                     0   \n",
              "2e1c2dc2-b2b2-425a-aa6a-a8f49aa1ec5a                     1   \n",
              "3c4623a5-ff75-4ee6-8d77-3c28af8100e8                     1   \n",
              "d1cb2406-bec4-47a7-94c4-fb86c523982b                     1   \n",
              "fa1dd5ec-adbe-447b-8897-8644c1887634                     0   \n",
              "\n",
              "                                      feedback.score_string:accuracy error  \\\n",
              "7287f411-8a21-443e-80a2-6c970a4a3496                             0.1  None   \n",
              "2e1c2dc2-b2b2-425a-aa6a-a8f49aa1ec5a                             0.9  None   \n",
              "3c4623a5-ff75-4ee6-8d77-3c28af8100e8                             1.0  None   \n",
              "d1cb2406-bec4-47a7-94c4-fb86c523982b                             0.7  None   \n",
              "fa1dd5ec-adbe-447b-8897-8644c1887634                             0.7  None   \n",
              "\n",
              "                                      execution_time  \\\n",
              "7287f411-8a21-443e-80a2-6c970a4a3496        6.087901   \n",
              "2e1c2dc2-b2b2-425a-aa6a-a8f49aa1ec5a        8.002950   \n",
              "3c4623a5-ff75-4ee6-8d77-3c28af8100e8        6.317178   \n",
              "d1cb2406-bec4-47a7-94c4-fb86c523982b        7.343024   \n",
              "fa1dd5ec-adbe-447b-8897-8644c1887634        6.008476   \n",
              "\n",
              "                                                                    run_id  \n",
              "7287f411-8a21-443e-80a2-6c970a4a3496  12debb21-4f38-4651-95b8-07ef87ee5d9f  \n",
              "2e1c2dc2-b2b2-425a-aa6a-a8f49aa1ec5a  6d66effd-3716-4967-83be-5358036f8fc0  \n",
              "3c4623a5-ff75-4ee6-8d77-3c28af8100e8  40247821-f657-471a-ac31-1c4bf96b60a3  \n",
              "d1cb2406-bec4-47a7-94c4-fb86c523982b  6670c67d-0a47-4a8c-9f5a-f8128a27dbd6  \n",
              "fa1dd5ec-adbe-447b-8897-8644c1887634  f35d7dc6-5918-45fa-b965-4c243cb267e7  "
            ]
          },
          "execution_count": 28,
          "metadata": {},
          "output_type": "execute_result"
        }
      ],
      "source": [
        "chain_results.to_dataframe()"
      ]
    },
    {
      "cell_type": "markdown",
      "id": "13aad317-73ff-46a7-a5a0-60b5b5295f02",
      "metadata": {
        "id": "13aad317-73ff-46a7-a5a0-60b5b5295f02"
      },
      "source": [
        "### (Optional) Compare to another prompt\n",
        "\n",
        "Now that we have our test run results, we can make changes to our agent and benchmark them. Let's try this again with a different prompt and see the results."
      ]
    },
    {
      "cell_type": "code",
      "execution_count": 29,
      "id": "5eeb023f-ded2-4d0f-b910-2a57d9675853",
      "metadata": {
        "id": "5eeb023f-ded2-4d0f-b910-2a57d9675853"
      },
      "outputs": [
        {
          "name": "stdout",
          "output_type": "stream",
          "text": [
            "View the evaluation results for project 'tools-agent-test-39f3bbd0-42a45d77' at:\n",
            "https://smith.langchain.com/o/2df6ae68-9d01-5382-8cfc-559aaec8f95f/datasets/d9c7a957-7216-4396-a075-86b0570c3b1e/compare?selectedSessions=9cf85f0b-b6e0-4bbc-b848-65628c78beb1\n",
            "\n",
            "View all tests for Dataset agent-qa-42a45d77 at:\n",
            "https://smith.langchain.com/o/2df6ae68-9d01-5382-8cfc-559aaec8f95f/datasets/d9c7a957-7216-4396-a075-86b0570c3b1e\n",
            "[------------------------------------------------->] 5/5"
          ]
        },
        {
          "data": {
            "text/html": [
              "<h3>Experiment Results:</h3>"
            ],
            "text/plain": [
              "<IPython.core.display.HTML object>"
            ]
          },
          "metadata": {},
          "output_type": "display_data"
        },
        {
          "data": {
            "text/html": [
              "<div>\n",
              "<style scoped>\n",
              "    .dataframe tbody tr th:only-of-type {\n",
              "        vertical-align: middle;\n",
              "    }\n",
              "\n",
              "    .dataframe tbody tr th {\n",
              "        vertical-align: top;\n",
              "    }\n",
              "\n",
              "    .dataframe thead th {\n",
              "        text-align: right;\n",
              "    }\n",
              "</style>\n",
              "<table border=\"1\" class=\"dataframe\">\n",
              "  <thead>\n",
              "    <tr style=\"text-align: right;\">\n",
              "      <th></th>\n",
              "      <th>feedback.correctness</th>\n",
              "      <th>feedback.embedding_cosine_distance</th>\n",
              "      <th>feedback.helpfulness</th>\n",
              "      <th>feedback.score_string:accuracy</th>\n",
              "      <th>error</th>\n",
              "      <th>execution_time</th>\n",
              "      <th>run_id</th>\n",
              "    </tr>\n",
              "  </thead>\n",
              "  <tbody>\n",
              "    <tr>\n",
              "      <th>count</th>\n",
              "      <td>5.000000</td>\n",
              "      <td>5.000000</td>\n",
              "      <td>5.000000</td>\n",
              "      <td>5.000000</td>\n",
              "      <td>0</td>\n",
              "      <td>5.000000</td>\n",
              "      <td>5</td>\n",
              "    </tr>\n",
              "    <tr>\n",
              "      <th>unique</th>\n",
              "      <td>NaN</td>\n",
              "      <td>NaN</td>\n",
              "      <td>NaN</td>\n",
              "      <td>NaN</td>\n",
              "      <td>0</td>\n",
              "      <td>NaN</td>\n",
              "      <td>5</td>\n",
              "    </tr>\n",
              "    <tr>\n",
              "      <th>top</th>\n",
              "      <td>NaN</td>\n",
              "      <td>NaN</td>\n",
              "      <td>NaN</td>\n",
              "      <td>NaN</td>\n",
              "      <td>NaN</td>\n",
              "      <td>NaN</td>\n",
              "      <td>569f32ad-42a6-45ad-80b9-dd6817e3787d</td>\n",
              "    </tr>\n",
              "    <tr>\n",
              "      <th>freq</th>\n",
              "      <td>NaN</td>\n",
              "      <td>NaN</td>\n",
              "      <td>NaN</td>\n",
              "      <td>NaN</td>\n",
              "      <td>NaN</td>\n",
              "      <td>NaN</td>\n",
              "      <td>1</td>\n",
              "    </tr>\n",
              "    <tr>\n",
              "      <th>mean</th>\n",
              "      <td>0.800000</td>\n",
              "      <td>0.122844</td>\n",
              "      <td>0.800000</td>\n",
              "      <td>0.820000</td>\n",
              "      <td>NaN</td>\n",
              "      <td>7.375184</td>\n",
              "      <td>NaN</td>\n",
              "    </tr>\n",
              "    <tr>\n",
              "      <th>std</th>\n",
              "      <td>0.447214</td>\n",
              "      <td>0.097549</td>\n",
              "      <td>0.447214</td>\n",
              "      <td>0.216795</td>\n",
              "      <td>NaN</td>\n",
              "      <td>2.189387</td>\n",
              "      <td>NaN</td>\n",
              "    </tr>\n",
              "    <tr>\n",
              "      <th>min</th>\n",
              "      <td>0.000000</td>\n",
              "      <td>0.042219</td>\n",
              "      <td>0.000000</td>\n",
              "      <td>0.500000</td>\n",
              "      <td>NaN</td>\n",
              "      <td>4.926770</td>\n",
              "      <td>NaN</td>\n",
              "    </tr>\n",
              "    <tr>\n",
              "      <th>25%</th>\n",
              "      <td>1.000000</td>\n",
              "      <td>0.053449</td>\n",
              "      <td>1.000000</td>\n",
              "      <td>0.700000</td>\n",
              "      <td>NaN</td>\n",
              "      <td>5.295292</td>\n",
              "      <td>NaN</td>\n",
              "    </tr>\n",
              "    <tr>\n",
              "      <th>50%</th>\n",
              "      <td>1.000000</td>\n",
              "      <td>0.063095</td>\n",
              "      <td>1.000000</td>\n",
              "      <td>0.900000</td>\n",
              "      <td>NaN</td>\n",
              "      <td>8.130822</td>\n",
              "      <td>NaN</td>\n",
              "    </tr>\n",
              "    <tr>\n",
              "      <th>75%</th>\n",
              "      <td>1.000000</td>\n",
              "      <td>0.203471</td>\n",
              "      <td>1.000000</td>\n",
              "      <td>1.000000</td>\n",
              "      <td>NaN</td>\n",
              "      <td>8.498148</td>\n",
              "      <td>NaN</td>\n",
              "    </tr>\n",
              "    <tr>\n",
              "      <th>max</th>\n",
              "      <td>1.000000</td>\n",
              "      <td>0.251983</td>\n",
              "      <td>1.000000</td>\n",
              "      <td>1.000000</td>\n",
              "      <td>NaN</td>\n",
              "      <td>10.024889</td>\n",
              "      <td>NaN</td>\n",
              "    </tr>\n",
              "  </tbody>\n",
              "</table>\n",
              "</div>"
            ],
            "text/plain": [
              "        feedback.correctness  feedback.embedding_cosine_distance  \\\n",
              "count               5.000000                            5.000000   \n",
              "unique                   NaN                                 NaN   \n",
              "top                      NaN                                 NaN   \n",
              "freq                     NaN                                 NaN   \n",
              "mean                0.800000                            0.122844   \n",
              "std                 0.447214                            0.097549   \n",
              "min                 0.000000                            0.042219   \n",
              "25%                 1.000000                            0.053449   \n",
              "50%                 1.000000                            0.063095   \n",
              "75%                 1.000000                            0.203471   \n",
              "max                 1.000000                            0.251983   \n",
              "\n",
              "        feedback.helpfulness  feedback.score_string:accuracy error  \\\n",
              "count               5.000000                        5.000000     0   \n",
              "unique                   NaN                             NaN     0   \n",
              "top                      NaN                             NaN   NaN   \n",
              "freq                     NaN                             NaN   NaN   \n",
              "mean                0.800000                        0.820000   NaN   \n",
              "std                 0.447214                        0.216795   NaN   \n",
              "min                 0.000000                        0.500000   NaN   \n",
              "25%                 1.000000                        0.700000   NaN   \n",
              "50%                 1.000000                        0.900000   NaN   \n",
              "75%                 1.000000                        1.000000   NaN   \n",
              "max                 1.000000                        1.000000   NaN   \n",
              "\n",
              "        execution_time                                run_id  \n",
              "count         5.000000                                     5  \n",
              "unique             NaN                                     5  \n",
              "top                NaN  569f32ad-42a6-45ad-80b9-dd6817e3787d  \n",
              "freq               NaN                                     1  \n",
              "mean          7.375184                                   NaN  \n",
              "std           2.189387                                   NaN  \n",
              "min           4.926770                                   NaN  \n",
              "25%           5.295292                                   NaN  \n",
              "50%           8.130822                                   NaN  \n",
              "75%           8.498148                                   NaN  \n",
              "max          10.024889                                   NaN  "
            ]
          },
          "metadata": {},
          "output_type": "display_data"
        }
      ],
      "source": [
        "candidate_prompt = hub.pull(\"wfh/langsmith-agent-prompt:39f3bbd0\")\n",
        "\n",
        "chain_results = run_on_dataset(\n",
        "    dataset_name=dataset_name,\n",
        "    llm_or_chain_factory=functools.partial(\n",
        "        create_agent, prompt=candidate_prompt, llm_with_tools=llm_with_tools\n",
        "    ),\n",
        "    evaluation=evaluation_config,\n",
        "    verbose=True,\n",
        "    client=client,\n",
        "    project_name=f\"tools-agent-test-39f3bbd0-{unique_id}\",\n",
        "    project_metadata={\n",
        "        \"env\": \"testing-notebook\",\n",
        "        \"model\": \"gpt-3.5-turbo\",\n",
        "        \"prompt\": \"39f3bbd0\",\n",
        "    },\n",
        ")"
      ]
    },
    {
      "cell_type": "markdown",
      "id": "9fafd1dd-debf-4256-a609-a6b3a7c52c49",
      "metadata": {
        "id": "9fafd1dd-debf-4256-a609-a6b3a7c52c49"
      },
      "source": [
        "## Exporting datasets and runs\n",
        "\n",
        "LangSmith lets you export data to common formats such as CSV or JSONL directly in the web app. You can also use the client to fetch runs for further analysis, to store in your own database, or to share with others. Let's fetch the run traces from the evaluation run.\n",
        "\n",
        "**Note: It may be a few moments before all the runs are accessible.**"
      ]
    },
    {
      "cell_type": "code",
      "execution_count": 30,
      "id": "33bfefde-d1bb-4f50-9f7a-fd572ee76820",
      "metadata": {
        "id": "33bfefde-d1bb-4f50-9f7a-fd572ee76820",
        "tags": []
      },
      "outputs": [],
      "source": [
        "runs = client.list_runs(project_name=chain_results[\"project_name\"], execution_order=1)"
      ]
    },
    {
      "cell_type": "code",
      "execution_count": 31,
      "id": "f45de493-8f2a-43b9-a979-6fe694948532",
      "metadata": {
        "id": "f45de493-8f2a-43b9-a979-6fe694948532"
      },
      "outputs": [
        {
          "data": {
            "text/plain": [
              "{'env': 'testing-notebook',\n",
              " 'git': {'tags': None,\n",
              "  'dirty': True,\n",
              "  'branch': 'main',\n",
              "  'commit': 'adc7f8491fe805913ff29aab58d6c777e1b72971',\n",
              "  'remote_url': 'https://github.com/lucasbasquerotto/ml-demos.git',\n",
              "  'author_name': 'Lucas Basquerotto',\n",
              "  'commit_time': '1710346109',\n",
              "  'author_email': 'lucas@99freelas.com.br'},\n",
              " 'model': 'gpt-3.5-turbo',\n",
              " 'prompt': '39f3bbd0'}"
            ]
          },
          "execution_count": 31,
          "metadata": {},
          "output_type": "execute_result"
        }
      ],
      "source": [
        "# The resulting tests are stored in a project.  You can programmatically\n",
        "# access important metadata from the test, such as the dataset version it was run on\n",
        "# or your application's revision ID.\n",
        "client.read_project(project_name=chain_results[\"project_name\"]).metadata"
      ]
    },
    {
      "cell_type": "code",
      "execution_count": 32,
      "id": "6595c888-1f5c-4ae3-9390-0a559f5575d1",
      "metadata": {
        "id": "6595c888-1f5c-4ae3-9390-0a559f5575d1",
        "tags": []
      },
      "outputs": [
        {
          "data": {
            "text/plain": [
              "{'correctness': {'n': 5, 'avg': 0.8},\n",
              " 'embedding_cosine_distance': {'n': 5, 'avg': 0.12278},\n",
              " 'helpfulness': {'n': 5, 'avg': 0.8},\n",
              " 'score_string:accuracy': {'n': 5, 'avg': 0.82}}"
            ]
          },
          "execution_count": 32,
          "metadata": {},
          "output_type": "execute_result"
        }
      ],
      "source": [
        "# After some time, the test metrics will be populated as well.\n",
        "client.read_project(project_name=chain_results[\"project_name\"]).feedback_stats"
      ]
    },
    {
      "cell_type": "markdown",
      "id": "2646f0fb-81d4-43ce-8a9b-54b8e19841e2",
      "metadata": {
        "id": "2646f0fb-81d4-43ce-8a9b-54b8e19841e2",
        "tags": []
      },
      "source": [
        "## Conclusion\n",
        "\n",
        "Congratulations! You have successfully traced and evaluated an agent using LangSmith!\n",
        "\n",
        "This was a quick guide to get started, but there are many more ways to use LangSmith to speed up your developer flow and produce better results.\n",
        "\n",
        "For more information on how you can get the most out of LangSmith, check out [LangSmith documentation](https://docs.smith.langchain.com/), and please reach out with questions, feature requests, or feedback at [support@langchain.dev](mailto:support@langchain.dev)."
      ]
    }
  ],
  "metadata": {
    "colab": {
      "provenance": []
    },
    "kernelspec": {
      "display_name": "Python 3 (ipykernel)",
      "language": "python",
      "name": "python3"
    },
    "language_info": {
      "codemirror_mode": {
        "name": "ipython",
        "version": 3
      },
      "file_extension": ".py",
      "mimetype": "text/x-python",
      "name": "python",
      "nbconvert_exporter": "python",
      "pygments_lexer": "ipython3",
      "version": "3.11.5"
    }
  },
  "nbformat": 4,
  "nbformat_minor": 5
}
