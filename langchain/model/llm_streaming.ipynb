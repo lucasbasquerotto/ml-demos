{
 "cells": [
  {
   "cell_type": "markdown",
   "metadata": {},
   "source": [
    "# Streaming"
   ]
  },
  {
   "cell_type": "code",
   "execution_count": 1,
   "metadata": {},
   "outputs": [
    {
     "data": {
      "text/plain": [
       "True"
      ]
     },
     "execution_count": 1,
     "metadata": {},
     "output_type": "execute_result"
    }
   ],
   "source": [
    "from dotenv import load_dotenv\n",
    "load_dotenv('../.env')"
   ]
  },
  {
   "cell_type": "code",
   "execution_count": 2,
   "metadata": {},
   "outputs": [
    {
     "name": "stdout",
     "output_type": "stream",
     "text": [
      "\n",
      "\n",
      "Verse 1:\n",
      "Bubbles dancing in my glass\n",
      "Clear and crisp, it's such a blast\n",
      "Refreshing taste, it's like a dream\n",
      "Sparkling water, you make me beam\n",
      "\n",
      "Chorus:\n",
      "Oh sparkling water, you're my delight\n",
      "With every sip, you make me feel so right\n",
      "You're like a party in my mouth\n",
      "I can't get enough, I'm hooked no doubt\n",
      "\n",
      "Verse 2:\n",
      "No sugar, no calories, just pure bliss\n",
      "You're the perfect drink, I must confess\n",
      "From lemon to lime, so many flavors to choose\n",
      "Sparkling water, you never fail to amuse\n",
      "\n",
      "Chorus:\n",
      "Oh sparkling water, you're my delight\n",
      "With every sip, you make me feel so right\n",
      "You're like a party in my mouth\n",
      "I can't get enough, I'm hooked no doubt\n",
      "\n",
      "Bridge:\n",
      "Some may say you're just plain water\n",
      "But to me, you're so much more\n",
      "You bring a sparkle to my day\n",
      "In every single way\n",
      "\n",
      "Chorus:\n",
      "Oh sparkling water, you're my delight\n",
      "With every sip, you make me feel so right\n",
      "You're like a party in my mouth\n",
      "I can't get enough, I'm hooked no doubt\n",
      "\n",
      "Outro:\n",
      "So here's to you, my dear sparkling water\n",
      "You'll always be my go-to drink forever\n",
      "With your effervescence and refreshing taste\n",
      "You'll always have a special place."
     ]
    }
   ],
   "source": [
    "from langchain_openai import OpenAI\n",
    "\n",
    "llm = OpenAI(model=\"gpt-3.5-turbo-instruct\", temperature=0, max_tokens=512)\n",
    "for chunk in llm.stream(\"Write me a song about sparkling water.\"):\n",
    "    print(chunk, end=\"\", flush=True)"
   ]
  }
 ],
 "metadata": {
  "kernelspec": {
   "display_name": "dev",
   "language": "python",
   "name": "python3"
  },
  "language_info": {
   "codemirror_mode": {
    "name": "ipython",
    "version": 3
   },
   "file_extension": ".py",
   "mimetype": "text/x-python",
   "name": "python",
   "nbconvert_exporter": "python",
   "pygments_lexer": "ipython3",
   "version": "3.11.5"
  }
 },
 "nbformat": 4,
 "nbformat_minor": 2
}
