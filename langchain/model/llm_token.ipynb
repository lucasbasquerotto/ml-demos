{
 "cells": [
  {
   "cell_type": "markdown",
   "metadata": {},
   "source": [
    "# Tracking token usage"
   ]
  },
  {
   "cell_type": "code",
   "execution_count": 12,
   "metadata": {},
   "outputs": [
    {
     "data": {
      "text/plain": [
       "True"
      ]
     },
     "execution_count": 12,
     "metadata": {},
     "output_type": "execute_result"
    }
   ],
   "source": [
    "from dotenv import load_dotenv\n",
    "load_dotenv('../.env')"
   ]
  },
  {
   "cell_type": "code",
   "execution_count": 2,
   "metadata": {},
   "outputs": [],
   "source": [
    "from langchain.callbacks import get_openai_callback\n",
    "from langchain_openai import OpenAI"
   ]
  },
  {
   "cell_type": "code",
   "execution_count": 3,
   "metadata": {},
   "outputs": [],
   "source": [
    "llm = OpenAI(model_name=\"gpt-3.5-turbo-instruct\", n=2, best_of=2)"
   ]
  },
  {
   "cell_type": "code",
   "execution_count": 4,
   "metadata": {},
   "outputs": [
    {
     "name": "stdout",
     "output_type": "stream",
     "text": [
      "Tokens Used: 36\n",
      "\tPrompt Tokens: 4\n",
      "\tCompletion Tokens: 32\n",
      "Successful Requests: 1\n",
      "Total Cost (USD): $7e-05\n"
     ]
    }
   ],
   "source": [
    "with get_openai_callback() as cb:\n",
    "    result = llm.invoke(\"Tell me a joke\")\n",
    "    print(cb)"
   ]
  },
  {
   "cell_type": "code",
   "execution_count": 5,
   "metadata": {},
   "outputs": [
    {
     "name": "stdout",
     "output_type": "stream",
     "text": [
      "68\n"
     ]
    }
   ],
   "source": [
    "with get_openai_callback() as cb:\n",
    "    result = llm.invoke(\"Tell me a joke\")\n",
    "    result2 = llm.invoke(\"Tell me a joke\")\n",
    "    print(cb.total_tokens)"
   ]
  },
  {
   "cell_type": "code",
   "execution_count": 14,
   "metadata": {},
   "outputs": [],
   "source": [
    "from langchain.agents import AgentType, initialize_agent, load_tools\n",
    "from langchain_openai import OpenAI\n",
    "\n",
    "llm = OpenAI(temperature=0)\n",
    "tools = load_tools([\"serpapi\", \"llm-math\"], llm=llm)\n",
    "agent = initialize_agent(\n",
    "    tools, llm, agent=AgentType.ZERO_SHOT_REACT_DESCRIPTION, verbose=True\n",
    ")"
   ]
  },
  {
   "cell_type": "code",
   "execution_count": 15,
   "metadata": {},
   "outputs": [
    {
     "name": "stdout",
     "output_type": "stream",
     "text": [
      "\n",
      "\n",
      "\u001b[1m> Entering new AgentExecutor chain...\u001b[0m\n",
      "\u001b[32;1m\u001b[1;3m I should search for information about Olivia Wilde's boyfriend and use a calculator to raise his age to the 0.23 power.\n",
      "Action: Search\n",
      "Action Input: \"Olivia Wilde boyfriend\"\u001b[0m\n",
      "Observation: \u001b[36;1m\u001b[1;3mDecember 2021: Olivia Wilde addresses the attention on her relationship with Harry Styles. In December, Wilde briefly spoke about the spotlight on the couple's relationship in a cover story for Vogue's January 2022 issue.\u001b[0m\n",
      "Thought:\u001b[32;1m\u001b[1;3m I should search for more recent information about Olivia Wilde's boyfriend.\n",
      "Action: Search\n",
      "Action Input: \"Olivia Wilde boyfriend 2022\"\u001b[0m\n",
      "Observation: \u001b[36;1m\u001b[1;3mApril 2022: Harry Styles reveals he's \"really happy\" amid his relationship with Olivia Wilde.\u001b[0m\n",
      "Thought:\u001b[32;1m\u001b[1;3m I should use a calculator to raise his age to the 0.23 power.\n",
      "Action: Calculator\n",
      "Action Input: 37^0.23\u001b[0m\n",
      "Observation: \u001b[33;1m\u001b[1;3mAnswer: 2.294491200736535\u001b[0m\n",
      "Thought:\u001b[32;1m\u001b[1;3m I now know the final answer.\n",
      "Final Answer: Harry Styles' current age raised to the 0.23 power is approximately 2.29.\u001b[0m\n",
      "\n",
      "\u001b[1m> Finished chain.\u001b[0m\n",
      "Total Tokens: 1486\n",
      "Prompt Tokens: 1335\n",
      "Completion Tokens: 151\n",
      "Total Cost (USD): $0.0023045\n"
     ]
    }
   ],
   "source": [
    "with get_openai_callback() as cb:\n",
    "    response = agent.run(\n",
    "        \"Who is Olivia Wilde's boyfriend? What is his current age raised to the 0.23 power?\"\n",
    "    )\n",
    "    print(f\"Total Tokens: {cb.total_tokens}\")\n",
    "    print(f\"Prompt Tokens: {cb.prompt_tokens}\")\n",
    "    print(f\"Completion Tokens: {cb.completion_tokens}\")\n",
    "    print(f\"Total Cost (USD): ${cb.total_cost}\")"
   ]
  },
  {
   "cell_type": "code",
   "execution_count": 17,
   "metadata": {},
   "outputs": [
    {
     "name": "stdout",
     "output_type": "stream",
     "text": [
      "\n",
      "\n",
      "\u001b[1m> Entering new AgentExecutor chain...\u001b[0m\n",
      "\u001b[32;1m\u001b[1;3m I should use the search tool to find the current year and then use the calculator tool to raise it to the 0.23 power.\n",
      "Action: Search\n",
      "Action Input: \"current year\"\u001b[0m\n",
      "Observation: \u001b[36;1m\u001b[1;3mWednesday, March 6, 2024\u001b[0m\n",
      "Thought:\u001b[32;1m\u001b[1;3m Now I need to use the calculator tool to raise 2024 to the 0.23 power.\n",
      "Action: Calculator\n",
      "Action Input: 2024 ^ 0.23\u001b[0m\n",
      "Observation: \u001b[33;1m\u001b[1;3mAnswer: 5.760078695304316\u001b[0m\n",
      "Thought:\u001b[32;1m\u001b[1;3m I now know the final answer.\n",
      "Final Answer: The current year raised to the 0.23 power is 5.760078695304316.\u001b[0m\n",
      "\n",
      "\u001b[1m> Finished chain.\u001b[0m\n",
      "Total Tokens: 1049\n",
      "Prompt Tokens: 916\n",
      "Completion Tokens: 133\n",
      "Total Cost (USD): $0.00164\n"
     ]
    }
   ],
   "source": [
    "with get_openai_callback() as cb:\n",
    "    response = agent.run(\n",
    "        \"What is the current year (use the serpapi tool)? What is the current year raised to the 0.23 power?\"\n",
    "    )\n",
    "    print(f\"Total Tokens: {cb.total_tokens}\")\n",
    "    print(f\"Prompt Tokens: {cb.prompt_tokens}\")\n",
    "    print(f\"Completion Tokens: {cb.completion_tokens}\")\n",
    "    print(f\"Total Cost (USD): ${cb.total_cost}\")"
   ]
  },
  {
   "cell_type": "code",
   "execution_count": 19,
   "metadata": {},
   "outputs": [
    {
     "name": "stdout",
     "output_type": "stream",
     "text": [
      "\n",
      "\n",
      "\u001b[1m> Entering new AgentExecutor chain...\u001b[0m\n",
      "\u001b[32;1m\u001b[1;3m You should always think about what to do\n",
      "Action: Search\n",
      "Action Input: Olivia Wilde boyfriend\u001b[0m\n",
      "Observation: \u001b[36;1m\u001b[1;3mDecember 2021: Olivia Wilde addresses the attention on her relationship with Harry Styles. In December, Wilde briefly spoke about the spotlight on the couple's relationship in a cover story for Vogue's January 2022 issue.\u001b[0m\n",
      "Thought:\u001b[32;1m\u001b[1;3m I now know the answer is Harry Styles\n",
      "Action: Search\n",
      "Action Input: Harry Styles birthday\u001b[0m\n",
      "Observation: \u001b[36;1m\u001b[1;3mFebruary 1, 1994\u001b[0m\n",
      "Thought:\u001b[32;1m\u001b[1;3m I now know his birthday is February 1, 1994\n",
      "Action: Search\n",
      "Action Input: current year\u001b[0m\n",
      "Observation: \u001b[36;1m\u001b[1;3mWednesday, March 6, 2024\u001b[0m\n",
      "Thought:\u001b[32;1m\u001b[1;3m I now know the current year is 2024\n",
      "Action: Calculator\n",
      "Action Input: 2024 - 1994\u001b[0m\n",
      "Observation: \u001b[33;1m\u001b[1;3mAnswer: 30\u001b[0m\n",
      "Thought:\u001b[32;1m\u001b[1;3m I now know his current age is 30\n",
      "Action: Calculator\n",
      "Action Input: 30 ^ 0.23\u001b[0m\n",
      "Observation: \u001b[33;1m\u001b[1;3mAnswer: 2.186441634154417\u001b[0m\n",
      "Thought:\u001b[32;1m\u001b[1;3m I now know his current age raised to the 0.23 power is 2.186441634154417\n",
      "Final Answer: 2.186441634154417\u001b[0m\n",
      "\n",
      "\u001b[1m> Finished chain.\u001b[0m\n",
      "Total Tokens: 2608\n",
      "Prompt Tokens: 2413\n",
      "Completion Tokens: 195\n",
      "Total Cost (USD): $0.0040095\n"
     ]
    }
   ],
   "source": [
    "with get_openai_callback() as cb:\n",
    "    response = agent.run(\"\"\"\n",
    "        Who is Olivia Wilde's boyfriend? \n",
    "        When he was born? \n",
    "        What is the current year (use the serpapi tool)?\n",
    "        Based on the previous answers, what is his current age?\n",
    "        What is his current age raised to the 0.23 power?\"\n",
    "    \"\"\")\n",
    "    print(f\"Total Tokens: {cb.total_tokens}\")\n",
    "    print(f\"Prompt Tokens: {cb.prompt_tokens}\")\n",
    "    print(f\"Completion Tokens: {cb.completion_tokens}\")\n",
    "    print(f\"Total Cost (USD): ${cb.total_cost}\")"
   ]
  },
  {
   "cell_type": "code",
   "execution_count": 20,
   "metadata": {},
   "outputs": [
    {
     "data": {
      "text/plain": [
       "'2.186441634154417'"
      ]
     },
     "execution_count": 20,
     "metadata": {},
     "output_type": "execute_result"
    }
   ],
   "source": [
    "response"
   ]
  }
 ],
 "metadata": {
  "kernelspec": {
   "display_name": "dev",
   "language": "python",
   "name": "python3"
  },
  "language_info": {
   "codemirror_mode": {
    "name": "ipython",
    "version": 3
   },
   "file_extension": ".py",
   "mimetype": "text/x-python",
   "name": "python",
   "nbconvert_exporter": "python",
   "pygments_lexer": "ipython3",
   "version": "3.11.5"
  }
 },
 "nbformat": 4,
 "nbformat_minor": 2
}
