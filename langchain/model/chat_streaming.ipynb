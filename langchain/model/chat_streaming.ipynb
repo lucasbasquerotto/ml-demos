{
 "cells": [
  {
   "cell_type": "markdown",
   "metadata": {},
   "source": [
    "# Streaming"
   ]
  },
  {
   "cell_type": "code",
   "execution_count": 1,
   "metadata": {},
   "outputs": [
    {
     "data": {
      "text/plain": [
       "True"
      ]
     },
     "execution_count": 1,
     "metadata": {},
     "output_type": "execute_result"
    }
   ],
   "source": [
    "from dotenv import load_dotenv\n",
    "load_dotenv('../.env')"
   ]
  },
  {
   "cell_type": "code",
   "execution_count": 2,
   "metadata": {},
   "outputs": [],
   "source": [
    "from langchain_openai import ChatOpenAI"
   ]
  },
  {
   "cell_type": "code",
   "execution_count": 4,
   "metadata": {},
   "outputs": [
    {
     "name": "stdout",
     "output_type": "stream",
     "text": [
      "(Verse 1)\n",
      "Swimming through the stars\n",
      "In a cosmic aquarium\n",
      "Goldfish on the moon\n",
      "Living out their dream\n",
      "\n",
      "(Chorus)\n",
      "Goldfish on the moon\n",
      "They shine like silver spoons\n",
      "Swimming in the sky\n",
      "In a world so high\n",
      "\n",
      "(Verse 2)\n",
      "They glide through the Milky Way\n",
      "In an endless ballet\n",
      "Their scales shimmer and gleam\n",
      "In the moon's soft moonbeam\n",
      "\n",
      "(Chorus)\n",
      "Goldfish on the moon\n",
      "They shine like silver spoons\n",
      "Swimming in the sky\n",
      "In a world so high\n",
      "\n",
      "(Bridge)\n",
      "They dance among the constellations\n",
      "In a celestial celebration\n",
      "Their fins shimmer and sway\n",
      "In the beauty of the night's display\n",
      "\n",
      "(Chorus)\n",
      "Goldfish on the moon\n",
      "They shine like silver spoons\n",
      "Swimming in the sky\n",
      "In a world so high\n",
      "\n",
      "(Outro)\n",
      "So let's gaze up at the moon\n",
      "And dream of goldfish in the gloom\n",
      "Swimming in the stars above\n",
      "In a world filled with love."
     ]
    }
   ],
   "source": [
    "chat = ChatOpenAI(model=\"gpt-3.5-turbo-0125\")\n",
    "for chunk in chat.stream(\"Write me a song about goldfish on the moon\"):\n",
    "    print(chunk.content, end=\"\", flush=True)"
   ]
  }
 ],
 "metadata": {
  "kernelspec": {
   "display_name": "dev",
   "language": "python",
   "name": "python3"
  },
  "language_info": {
   "codemirror_mode": {
    "name": "ipython",
    "version": 3
   },
   "file_extension": ".py",
   "mimetype": "text/x-python",
   "name": "python",
   "nbconvert_exporter": "python",
   "pygments_lexer": "ipython3",
   "version": "3.11.5"
  }
 },
 "nbformat": 4,
 "nbformat_minor": 2
}
